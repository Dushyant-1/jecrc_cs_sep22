{
 "cells": [
  {
   "cell_type": "code",
   "execution_count": 1,
   "id": "fe1dbf83-e419-4c2a-bfe1-c07be97a4aea",
   "metadata": {},
   "outputs": [
    {
     "data": {
      "text/plain": [
       "7"
      ]
     },
     "execution_count": 1,
     "metadata": {},
     "output_type": "execute_result"
    }
   ],
   "source": [
    "3+4"
   ]
  },
  {
   "cell_type": "code",
   "execution_count": 2,
   "id": "09536363-818f-4cc1-8649-cfbf502f43af",
   "metadata": {},
   "outputs": [
    {
     "name": "stdout",
     "output_type": "stream",
     "text": [
      "machine learning\n"
     ]
    }
   ],
   "source": [
    "print('machine learning')"
   ]
  },
  {
   "cell_type": "markdown",
   "id": "1d32dc67-21dc-452f-8da9-766c32265d9b",
   "metadata": {},
   "source": [
    "1st heading"
   ]
  },
  {
   "cell_type": "markdown",
   "id": "d2b3c52b-3d21-444e-b772-b82d8b89b44b",
   "metadata": {},
   "source": [
    "###1st heading"
   ]
  },
  {
   "cell_type": "code",
   "execution_count": 3,
   "id": "dc64acab-a538-45c2-9e21-620d9c026e5d",
   "metadata": {},
   "outputs": [],
   "source": [
    "### 1st heading"
   ]
  },
  {
   "cell_type": "markdown",
   "id": "a616adf5-e6c8-4af1-ae23-f4c47998f03d",
   "metadata": {},
   "source": [
    "\n",
    "### 1st heading"
   ]
  },
  {
   "cell_type": "markdown",
   "id": "b274baa1-f20a-467e-842a-eb4bc80d7a23",
   "metadata": {},
   "source": [
    "## 2nd heading"
   ]
  },
  {
   "cell_type": "markdown",
   "id": "ba3a37b3-b280-4b7e-ae0c-84c8c7aa488e",
   "metadata": {},
   "source": [
    "# 1st heading"
   ]
  },
  {
   "cell_type": "markdown",
   "id": "82f31618-4a7d-4dc5-a2ce-bfe6e9f95295",
   "metadata": {},
   "source": [
    "* this is first point\n",
    "* this is second point"
   ]
  },
  {
   "cell_type": "markdown",
   "id": "c485cb75-7337-4bbe-a47e-f98881f682e9",
   "metadata": {},
   "source": [
    "1. this is third point\n",
    "2. this is fourth point"
   ]
  },
  {
   "cell_type": "code",
   "execution_count": 6,
   "id": "f0c2c3ef-8466-4c20-bf91-5b83c435c10c",
   "metadata": {},
   "outputs": [],
   "source": [
    "import os"
   ]
  },
  {
   "cell_type": "code",
   "execution_count": 7,
   "id": "520d071b-691a-409c-995b-c22d609d8b41",
   "metadata": {},
   "outputs": [
    {
     "data": {
      "text/plain": [
       "'C:\\\\Users\\\\DELL\\\\Desktop\\\\training\\\\day 07'"
      ]
     },
     "execution_count": 7,
     "metadata": {},
     "output_type": "execute_result"
    }
   ],
   "source": [
    "os.getcwd()"
   ]
  },
  {
   "cell_type": "code",
   "execution_count": 8,
   "id": "b2862a99-a4b4-4ca7-b118-32b099be80d4",
   "metadata": {},
   "outputs": [
    {
     "ename": "AttributeError",
     "evalue": "module 'os' has no attribute 'chidr'",
     "output_type": "error",
     "traceback": [
      "\u001b[1;31m---------------------------------------------------------------------------\u001b[0m",
      "\u001b[1;31mAttributeError\u001b[0m                            Traceback (most recent call last)",
      "Input \u001b[1;32mIn [8]\u001b[0m, in \u001b[0;36m<cell line: 1>\u001b[1;34m()\u001b[0m\n\u001b[1;32m----> 1\u001b[0m \u001b[43mos\u001b[49m\u001b[38;5;241;43m.\u001b[39;49m\u001b[43mchidr\u001b[49m(\u001b[38;5;124m'\u001b[39m\u001b[38;5;124mC:\u001b[39m\u001b[38;5;130;01m\\\\\u001b[39;00m\u001b[38;5;124mUsers\u001b[39m\u001b[38;5;130;01m\\\\\u001b[39;00m\u001b[38;5;124mDELL\u001b[39m\u001b[38;5;130;01m\\\\\u001b[39;00m\u001b[38;5;124mDesktop\u001b[39m\u001b[38;5;130;01m\\\\\u001b[39;00m\u001b[38;5;124mtraining\u001b[39m\u001b[38;5;130;01m\\\\\u001b[39;00m\u001b[38;5;124mday 06\u001b[39m\u001b[38;5;124m'\u001b[39m)\n",
      "\u001b[1;31mAttributeError\u001b[0m: module 'os' has no attribute 'chidr'"
     ]
    }
   ],
   "source": [
    "\n"
   ]
  },
  {
   "cell_type": "code",
   "execution_count": 10,
   "id": "acd72192-00a5-438f-bc49-c25550ff9d10",
   "metadata": {},
   "outputs": [
    {
     "data": {
      "text/plain": [
       "['.ipynb_checkpoints',\n",
       " 'day 07',\n",
       " 'program1.py',\n",
       " 'program1.txt.txt',\n",
       " 'program2.py']"
      ]
     },
     "execution_count": 10,
     "metadata": {},
     "output_type": "execute_result"
    }
   ],
   "source": [
    "os.listdr('C:\\\\Users\\\\DELL\\\\Desktop\\\\training')"
   ]
  },
  {
   "cell_type": "code",
   "execution_count": 14,
   "id": "30e9165a-8313-433d-be6e-89ba50ceddf3",
   "metadata": {},
   "outputs": [],
   "source": [
    "os.mkdir('Empty folder') #### to create an empty folder"
   ]
  },
  {
   "cell_type": "code",
   "execution_count": 17,
   "id": "b9f7f101-afa4-4cfe-9ee5-7328c85fcad0",
   "metadata": {},
   "outputs": [
    {
     "ename": "FileNotFoundError",
     "evalue": "[WinError 2] The system cannot find the file specified: 'Empty_folder'",
     "output_type": "error",
     "traceback": [
      "\u001b[1;31m---------------------------------------------------------------------------\u001b[0m",
      "\u001b[1;31mFileNotFoundError\u001b[0m                         Traceback (most recent call last)",
      "Input \u001b[1;32mIn [17]\u001b[0m, in \u001b[0;36m<cell line: 2>\u001b[1;34m()\u001b[0m\n\u001b[0;32m      1\u001b[0m \u001b[38;5;66;03m#### to remove a folder\u001b[39;00m\n\u001b[1;32m----> 2\u001b[0m \u001b[43mos\u001b[49m\u001b[38;5;241;43m.\u001b[39;49m\u001b[43mrmdir\u001b[49m\u001b[43m(\u001b[49m\u001b[38;5;124;43m'\u001b[39;49m\u001b[38;5;124;43mEmpty_folder\u001b[39;49m\u001b[38;5;124;43m'\u001b[39;49m\u001b[43m)\u001b[49m\n",
      "\u001b[1;31mFileNotFoundError\u001b[0m: [WinError 2] The system cannot find the file specified: 'Empty_folder'"
     ]
    }
   ],
   "source": [
    "#### to remove a folder\n",
    "os.rmdir('Empty_folder')"
   ]
  },
  {
   "cell_type": "code",
   "execution_count": 14,
   "id": "86a22f26-59e0-478b-8f2c-cd751e673564",
   "metadata": {},
   "outputs": [
    {
     "ename": "PermissionError",
     "evalue": "[WinError 32] The process cannot access the file because it is being used by another process: 'NUMFY'",
     "output_type": "error",
     "traceback": [
      "\u001b[1;31m---------------------------------------------------------------------------\u001b[0m",
      "\u001b[1;31mPermissionError\u001b[0m                           Traceback (most recent call last)",
      "Input \u001b[1;32mIn [14]\u001b[0m, in \u001b[0;36m<cell line: 2>\u001b[1;34m()\u001b[0m\n\u001b[0;32m      1\u001b[0m \u001b[38;5;28;01mimport\u001b[39;00m \u001b[38;5;21;01mos\u001b[39;00m\n\u001b[1;32m----> 2\u001b[0m \u001b[43mos\u001b[49m\u001b[38;5;241;43m.\u001b[39;49m\u001b[43mrmdir\u001b[49m\u001b[43m(\u001b[49m\u001b[38;5;124;43m'\u001b[39;49m\u001b[38;5;124;43mNUMFY\u001b[39;49m\u001b[38;5;124;43m'\u001b[39;49m\u001b[43m)\u001b[49m\n",
      "\u001b[1;31mPermissionError\u001b[0m: [WinError 32] The process cannot access the file because it is being used by another process: 'NUMFY'"
     ]
    }
   ],
   "source": [
    "import os\n",
    "os.rmdir('NUMFY')"
   ]
  },
  {
   "cell_type": "code",
   "execution_count": null,
   "id": "0e1eb1c1-9832-4bc7-94a4-487558b6ce9c",
   "metadata": {},
   "outputs": [],
   "source": [
    "####### To import random number in the program ######"
   ]
  },
  {
   "cell_type": "code",
   "execution_count": null,
   "id": "88e49bdd-005c-4a1b-aaf8-455b506a34fd",
   "metadata": {},
   "outputs": [],
   "source": [
    "import random"
   ]
  },
  {
   "cell_type": "code",
   "execution_count": 8,
   "id": "e49cd185-d235-4c03-9d0f-e9082bf1657b",
   "metadata": {},
   "outputs": [
    {
     "name": "stdout",
     "output_type": "stream",
     "text": [
      "0.5439218966266256\n"
     ]
    }
   ],
   "source": [
    "val=random.random()\n",
    "print(val)"
   ]
  },
  {
   "cell_type": "code",
   "execution_count": 10,
   "id": "8a9a1b3c-d9ab-489e-8692-001455985879",
   "metadata": {},
   "outputs": [
    {
     "name": "stdout",
     "output_type": "stream",
     "text": [
      "0.9421101965032389\n"
     ]
    }
   ],
   "source": [
    "val = random.random()\n",
    "print(val)"
   ]
  },
  {
   "cell_type": "code",
   "execution_count": 11,
   "id": "3186b2fe-b810-49a0-bb8d-77c38b677129",
   "metadata": {},
   "outputs": [
    {
     "name": "stdout",
     "output_type": "stream",
     "text": [
      "['hi', 'hello', 'hello']\n"
     ]
    }
   ],
   "source": [
    "m= ['hi','hello','hay']\n",
    "val = random.choices(m,k=3)\n",
    "print(val)"
   ]
  },
  {
   "cell_type": "code",
   "execution_count": null,
   "id": "e4c17466-640c-42c9-884d-2ef179728f92",
   "metadata": {},
   "outputs": [],
   "source": []
  },
  {
   "cell_type": "markdown",
   "id": "6f689baf-b44e-47bf-adf3-f1c27f3ea00b",
   "metadata": {
    "jp-MarkdownHeadingCollapsed": true,
    "tags": []
   },
   "source": [
    "# heading"
   ]
  },
  {
   "cell_type": "markdown",
   "id": "8fb48042-5981-4084-be4a-9410e04ed57c",
   "metadata": {},
   "source": [
    "## heading"
   ]
  },
  {
   "cell_type": "markdown",
   "id": "471d8102-0a60-4d15-8dc7-80f51aba67ee",
   "metadata": {
    "tags": []
   },
   "source": [
    "# blowjob"
   ]
  },
  {
   "cell_type": "code",
   "execution_count": null,
   "id": "047bb8cf-9273-4010-96b9-fd8771c8aede",
   "metadata": {},
   "outputs": [],
   "source": []
  },
  {
   "cell_type": "code",
   "execution_count": null,
   "id": "3f2c3861-05b9-400f-ab3e-134687b16969",
   "metadata": {},
   "outputs": [],
   "source": []
  },
  {
   "cell_type": "code",
   "execution_count": null,
   "id": "4a117d20-2fec-4b11-9f39-71cf2fa0cae9",
   "metadata": {},
   "outputs": [],
   "source": []
  },
  {
   "cell_type": "code",
   "execution_count": null,
   "id": "50db3308-b90e-44b5-a43e-5c498bb7063f",
   "metadata": {},
   "outputs": [],
   "source": []
  },
  {
   "cell_type": "code",
   "execution_count": null,
   "id": "1cd04343-9e94-4668-98a2-56e7cfaff0e3",
   "metadata": {},
   "outputs": [],
   "source": []
  },
  {
   "cell_type": "code",
   "execution_count": null,
   "id": "cd2a4e2f-4b27-4317-8b1e-c23edec76d5e",
   "metadata": {},
   "outputs": [],
   "source": []
  },
  {
   "cell_type": "code",
   "execution_count": 23,
   "id": "e6b9db18-0324-470c-8399-ca5fdd19229a",
   "metadata": {},
   "outputs": [],
   "source": [
    "import random"
   ]
  },
  {
   "cell_type": "code",
   "execution_count": 24,
   "id": "5e2578bd-834e-4459-9df4-a8402170f8fb",
   "metadata": {},
   "outputs": [
    {
     "name": "stdout",
     "output_type": "stream",
     "text": [
      "0.4355357367155851\n"
     ]
    }
   ],
   "source": [
    "g=random.random()\n",
    "print(g)"
   ]
  },
  {
   "cell_type": "code",
   "execution_count": 26,
   "id": "15aa39e7-ea22-4cd5-a19c-8ea5cd9e3f43",
   "metadata": {},
   "outputs": [],
   "source": [
    "val2 = random.randint(1,10)"
   ]
  },
  {
   "cell_type": "code",
   "execution_count": 27,
   "id": "d48eb2ed-bc39-4270-90a1-6ce42a58b9e1",
   "metadata": {},
   "outputs": [
    {
     "name": "stdout",
     "output_type": "stream",
     "text": [
      "3\n"
     ]
    }
   ],
   "source": [
    "print(val2)"
   ]
  },
  {
   "cell_type": "code",
   "execution_count": 7,
   "id": "af7297a9-cc0a-424c-aae8-5be6f290cd39",
   "metadata": {},
   "outputs": [
    {
     "name": "stdout",
     "output_type": "stream",
     "text": [
      "['harry', 'harry']\n"
     ]
    }
   ],
   "source": [
    "import random\n",
    "m=['hi','hello','harry','hey']\n",
    "val=random.choices(m,k=2)\n",
    "print(val)"
   ]
  },
  {
   "cell_type": "code",
   "execution_count": null,
   "id": "fd4af2eb-2cdc-427f-b609-ac85cda94343",
   "metadata": {},
   "outputs": [],
   "source": []
  }
 ],
 "metadata": {
  "kernelspec": {
   "display_name": "Python 3 (ipykernel)",
   "language": "python",
   "name": "python3"
  },
  "language_info": {
   "codemirror_mode": {
    "name": "ipython",
    "version": 3
   },
   "file_extension": ".py",
   "mimetype": "text/x-python",
   "name": "python",
   "nbconvert_exporter": "python",
   "pygments_lexer": "ipython3",
   "version": "3.9.12"
  }
 },
 "nbformat": 4,
 "nbformat_minor": 5
}
