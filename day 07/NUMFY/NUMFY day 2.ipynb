{
 "cells": [
  {
   "cell_type": "code",
   "execution_count": 1,
   "id": "0211ab61-7d2f-4dc2-bf86-5b9caf03d43f",
   "metadata": {},
   "outputs": [],
   "source": [
    "import numpy as np"
   ]
  },
  {
   "cell_type": "code",
   "execution_count": 2,
   "id": "eb1fb847-81dc-4f80-a676-7fdbe1429cf2",
   "metadata": {},
   "outputs": [],
   "source": [
    "n=np.array([[1,25,6,3],[7,4,8,9],[4,1,2,7]])"
   ]
  },
  {
   "cell_type": "code",
   "execution_count": 3,
   "id": "10c6ef7d-ebd8-439d-a8ac-1dae5e7ca130",
   "metadata": {},
   "outputs": [
    {
     "data": {
      "text/plain": [
       "array([[ 1, 25,  6,  3],\n",
       "       [ 7,  4,  8,  9],\n",
       "       [ 4,  1,  2,  7]])"
      ]
     },
     "execution_count": 3,
     "metadata": {},
     "output_type": "execute_result"
    }
   ],
   "source": [
    "n"
   ]
  },
  {
   "cell_type": "code",
   "execution_count": 4,
   "id": "3c3ce551-c26b-4649-be08-12d8a2dcce7d",
   "metadata": {},
   "outputs": [
    {
     "data": {
      "text/plain": [
       "(3, 4)"
      ]
     },
     "execution_count": 4,
     "metadata": {},
     "output_type": "execute_result"
    }
   ],
   "source": [
    "n.shape"
   ]
  },
  {
   "cell_type": "code",
   "execution_count": 5,
   "id": "9e3f2112-62e4-458d-95cf-63648a312571",
   "metadata": {},
   "outputs": [
    {
     "data": {
      "text/plain": [
       "1"
      ]
     },
     "execution_count": 5,
     "metadata": {},
     "output_type": "execute_result"
    }
   ],
   "source": [
    "n[0,0]"
   ]
  },
  {
   "cell_type": "code",
   "execution_count": 6,
   "id": "780aa9fd-f1f1-4232-a582-56eec7d96ac2",
   "metadata": {},
   "outputs": [
    {
     "data": {
      "text/plain": [
       "array([1, 2])"
      ]
     },
     "execution_count": 6,
     "metadata": {},
     "output_type": "execute_result"
    }
   ],
   "source": [
    "n[2,1:3]"
   ]
  },
  {
   "cell_type": "code",
   "execution_count": null,
   "id": "d6cba0d8-f348-4031-86ee-3462806152c2",
   "metadata": {},
   "outputs": [],
   "source": [
    "# SYNTAX =n[row,col]"
   ]
  },
  {
   "cell_type": "code",
   "execution_count": 7,
   "id": "9ae33faa-22d3-43a5-b5d3-83f8302dce58",
   "metadata": {},
   "outputs": [
    {
     "data": {
      "text/plain": [
       "array([[8, 9],\n",
       "       [2, 7]])"
      ]
     },
     "execution_count": 7,
     "metadata": {},
     "output_type": "execute_result"
    }
   ],
   "source": [
    "n[1:3,2:4]"
   ]
  },
  {
   "cell_type": "code",
   "execution_count": 8,
   "id": "3c49e458-5cee-46b6-acde-8bc379ed46e0",
   "metadata": {},
   "outputs": [
    {
     "data": {
      "text/plain": [
       "array([[8, 9],\n",
       "       [2, 7]])"
      ]
     },
     "execution_count": 8,
     "metadata": {},
     "output_type": "execute_result"
    }
   ],
   "source": [
    "n[1:,2:]"
   ]
  },
  {
   "cell_type": "code",
   "execution_count": 9,
   "id": "e10ab54d-6661-4928-9356-d0aacc9dadfa",
   "metadata": {},
   "outputs": [
    {
     "data": {
      "text/plain": [
       "array([[3],\n",
       "       [9],\n",
       "       [7]])"
      ]
     },
     "execution_count": 9,
     "metadata": {},
     "output_type": "execute_result"
    }
   ],
   "source": [
    "n[0:3,3:]"
   ]
  },
  {
   "cell_type": "markdown",
   "id": "0475732a-0099-4fce-b876-3d3c2c0b5888",
   "metadata": {},
   "source": [
    "# arange"
   ]
  },
  {
   "cell_type": "code",
   "execution_count": 10,
   "id": "3ebc8b0d-eecb-48e7-95f5-c445e74b1983",
   "metadata": {
    "collapsed": true,
    "jupyter": {
     "outputs_hidden": true
    },
    "tags": []
   },
   "outputs": [
    {
     "data": {
      "text/plain": [
       "[5,\n",
       " 6,\n",
       " 7,\n",
       " 8,\n",
       " 9,\n",
       " 10,\n",
       " 11,\n",
       " 12,\n",
       " 13,\n",
       " 14,\n",
       " 15,\n",
       " 16,\n",
       " 17,\n",
       " 18,\n",
       " 19,\n",
       " 20,\n",
       " 21,\n",
       " 22,\n",
       " 23,\n",
       " 24,\n",
       " 25,\n",
       " 26,\n",
       " 27,\n",
       " 28,\n",
       " 29,\n",
       " 30,\n",
       " 31,\n",
       " 32,\n",
       " 33,\n",
       " 34,\n",
       " 35,\n",
       " 36,\n",
       " 37,\n",
       " 38,\n",
       " 39,\n",
       " 40,\n",
       " 41,\n",
       " 42,\n",
       " 43,\n",
       " 44,\n",
       " 45,\n",
       " 46,\n",
       " 47,\n",
       " 48,\n",
       " 49,\n",
       " 50]"
      ]
     },
     "execution_count": 10,
     "metadata": {},
     "output_type": "execute_result"
    }
   ],
   "source": [
    "list(range(5,51))"
   ]
  },
  {
   "cell_type": "code",
   "execution_count": null,
   "id": "3ebe8aa1-5b92-4ee9-b9b7-561019f7fea3",
   "metadata": {},
   "outputs": [],
   "source": [
    "## arange fuction is used for arranging the range number without making it into list"
   ]
  },
  {
   "cell_type": "code",
   "execution_count": 12,
   "id": "3c3e9ba0-979f-44e6-a5a0-87663160eaa7",
   "metadata": {},
   "outputs": [
    {
     "data": {
      "text/plain": [
       "array([ 5,  6,  7,  8,  9, 10, 11, 12, 13, 14, 15, 16, 17, 18, 19, 20, 21,\n",
       "       22, 23, 24, 25, 26, 27, 28, 29, 30, 31, 32, 33, 34, 35, 36, 37, 38,\n",
       "       39, 40, 41, 42, 43, 44, 45, 46, 47, 48, 49, 50])"
      ]
     },
     "execution_count": 12,
     "metadata": {},
     "output_type": "execute_result"
    }
   ],
   "source": [
    "np.arange(5,51)"
   ]
  },
  {
   "cell_type": "markdown",
   "id": "0f43fe02-7733-4bd4-81d6-91c5c60a5803",
   "metadata": {},
   "source": [
    "# Reshape"
   ]
  },
  {
   "cell_type": "code",
   "execution_count": null,
   "id": "6ad23184-397c-4e5c-b1df-ce5a8ec0c089",
   "metadata": {},
   "outputs": [],
   "source": [
    "# it is used to change the shape of the array by adjusting the numbers of rows and columns."
   ]
  },
  {
   "cell_type": "code",
   "execution_count": 32,
   "id": "3b9d7206-b2bb-4350-932c-91b5e038e7fd",
   "metadata": {},
   "outputs": [],
   "source": [
    "a=np.arange(12).reshape(3,4)"
   ]
  },
  {
   "cell_type": "code",
   "execution_count": 28,
   "id": "6de7ab40-576b-4194-a525-3a6b74ad7e46",
   "metadata": {},
   "outputs": [
    {
     "data": {
      "text/plain": [
       "array([[ 0,  1,  2,  3],\n",
       "       [ 4,  5,  6,  7],\n",
       "       [ 8,  9, 10, 11]])"
      ]
     },
     "execution_count": 28,
     "metadata": {},
     "output_type": "execute_result"
    }
   ],
   "source": [
    "np.arange(12).reshape(3,4)"
   ]
  },
  {
   "cell_type": "code",
   "execution_count": 23,
   "id": "367446ea-4586-40ae-a1ae-d7fc6148fad8",
   "metadata": {},
   "outputs": [
    {
     "data": {
      "text/plain": [
       "11"
      ]
     },
     "execution_count": 23,
     "metadata": {},
     "output_type": "execute_result"
    }
   ],
   "source": [
    "a.max()"
   ]
  },
  {
   "cell_type": "code",
   "execution_count": 25,
   "id": "10c01404-75ef-475e-abe0-e798e3efc4f5",
   "metadata": {},
   "outputs": [
    {
     "data": {
      "text/plain": [
       "0"
      ]
     },
     "execution_count": 25,
     "metadata": {},
     "output_type": "execute_result"
    }
   ],
   "source": [
    "a.min()"
   ]
  },
  {
   "cell_type": "code",
   "execution_count": 21,
   "id": "8131d584-31ab-4ef9-b030-94827ad42478",
   "metadata": {},
   "outputs": [
    {
     "data": {
      "text/plain": [
       "3.0"
      ]
     },
     "execution_count": 21,
     "metadata": {},
     "output_type": "execute_result"
    }
   ],
   "source": [
    "np.sqrt(9)"
   ]
  },
  {
   "cell_type": "code",
   "execution_count": 29,
   "id": "c2a4784b-017b-4309-abc6-c03ce2766412",
   "metadata": {},
   "outputs": [
    {
     "data": {
      "text/plain": [
       "11"
      ]
     },
     "execution_count": 29,
     "metadata": {},
     "output_type": "execute_result"
    }
   ],
   "source": [
    "a.argmax()"
   ]
  },
  {
   "cell_type": "code",
   "execution_count": 30,
   "id": "53967201-ab9f-421b-80de-404a69636d46",
   "metadata": {},
   "outputs": [
    {
     "data": {
      "text/plain": [
       "0"
      ]
     },
     "execution_count": 30,
     "metadata": {},
     "output_type": "execute_result"
    }
   ],
   "source": [
    "a.argmin()"
   ]
  },
  {
   "cell_type": "code",
   "execution_count": 33,
   "id": "08f2fb9e-df0b-4b00-92ea-6e7035591c2b",
   "metadata": {},
   "outputs": [
    {
     "data": {
      "text/plain": [
       "array([[ 0,  2,  4,  6],\n",
       "       [ 8, 10, 12, 14],\n",
       "       [16, 18, 20, 22]])"
      ]
     },
     "execution_count": 33,
     "metadata": {},
     "output_type": "execute_result"
    }
   ],
   "source": [
    "a*2"
   ]
  },
  {
   "cell_type": "code",
   "execution_count": 35,
   "id": "6303ecf8-b42b-44a0-9e02-fa7d8c2b01f4",
   "metadata": {},
   "outputs": [
    {
     "data": {
      "text/plain": [
       "array([[10, 11, 12, 13],\n",
       "       [14, 15, 16, 17],\n",
       "       [18, 19, 20, 21]])"
      ]
     },
     "execution_count": 35,
     "metadata": {},
     "output_type": "execute_result"
    }
   ],
   "source": [
    "a+10"
   ]
  },
  {
   "cell_type": "markdown",
   "id": "69efe09b-69e6-4c98-be3c-41dbca048117",
   "metadata": {},
   "source": [
    "# rand"
   ]
  },
  {
   "cell_type": "code",
   "execution_count": 36,
   "id": "c60423ad-e48b-4c58-bf41-a6825eeeee85",
   "metadata": {},
   "outputs": [
    {
     "data": {
      "text/plain": [
       "array([[0.17270002, 0.21718788],\n",
       "       [0.59309098, 0.14681997]])"
      ]
     },
     "execution_count": 36,
     "metadata": {},
     "output_type": "execute_result"
    }
   ],
   "source": [
    "np.random.rand(2,2)"
   ]
  },
  {
   "cell_type": "code",
   "execution_count": 37,
   "id": "7705f6da-c031-48a8-b30f-e46b4eebb6ae",
   "metadata": {},
   "outputs": [
    {
     "data": {
      "text/plain": [
       "array([0.31259341, 0.75224158])"
      ]
     },
     "execution_count": 37,
     "metadata": {},
     "output_type": "execute_result"
    }
   ],
   "source": [
    "np.random.rand(2)"
   ]
  },
  {
   "cell_type": "code",
   "execution_count": 38,
   "id": "3b542d51-2221-4e2b-9c51-513004250323",
   "metadata": {},
   "outputs": [
    {
     "data": {
      "text/plain": [
       "array([[-1.19355903, -0.74447556],\n",
       "       [ 0.47111084,  0.05743871]])"
      ]
     },
     "execution_count": 38,
     "metadata": {},
     "output_type": "execute_result"
    }
   ],
   "source": [
    "np.random.randn(2,2)"
   ]
  },
  {
   "cell_type": "code",
   "execution_count": 43,
   "id": "74a8d76d-f6d1-439d-895d-84ec842ccc06",
   "metadata": {},
   "outputs": [],
   "source": [
    "s=np.random.randint(9,90,12).reshape(6,2)"
   ]
  },
  {
   "cell_type": "code",
   "execution_count": 44,
   "id": "bf35298d-7932-4968-8285-4e3a9add7490",
   "metadata": {},
   "outputs": [
    {
     "data": {
      "text/plain": [
       "array([[62, 28],\n",
       "       [49, 26],\n",
       "       [13, 29],\n",
       "       [10, 89],\n",
       "       [82, 68],\n",
       "       [30, 24]])"
      ]
     },
     "execution_count": 44,
     "metadata": {},
     "output_type": "execute_result"
    }
   ],
   "source": [
    "s"
   ]
  },
  {
   "cell_type": "code",
   "execution_count": 45,
   "id": "eee507fc-4269-4eaa-8bae-42b12cc06d9d",
   "metadata": {},
   "outputs": [
    {
     "data": {
      "text/plain": [
       "510"
      ]
     },
     "execution_count": 45,
     "metadata": {},
     "output_type": "execute_result"
    }
   ],
   "source": [
    "s.sum()"
   ]
  },
  {
   "cell_type": "code",
   "execution_count": null,
   "id": "e3a49318-070f-4d81-8ee4-bf94795071b8",
   "metadata": {},
   "outputs": [],
   "source": [
    "# for addition in horizontal row"
   ]
  },
  {
   "cell_type": "code",
   "execution_count": 48,
   "id": "d9057723-bd89-4050-a303-c45212115bd9",
   "metadata": {},
   "outputs": [
    {
     "data": {
      "text/plain": [
       "array([ 90,  75,  42,  99, 150,  54])"
      ]
     },
     "execution_count": 48,
     "metadata": {},
     "output_type": "execute_result"
    }
   ],
   "source": [
    "s.sum(axis=1)"
   ]
  },
  {
   "cell_type": "code",
   "execution_count": null,
   "id": "6e5cc2e1-5d6f-41d7-9f39-159531dcd1c0",
   "metadata": {},
   "outputs": [],
   "source": [
    "# for addition in vertical"
   ]
  },
  {
   "cell_type": "code",
   "execution_count": 49,
   "id": "6f3ff8ae-3f43-436a-ac48-1e9c51a15f0d",
   "metadata": {},
   "outputs": [
    {
     "data": {
      "text/plain": [
       "array([246, 264])"
      ]
     },
     "execution_count": 49,
     "metadata": {},
     "output_type": "execute_result"
    }
   ],
   "source": [
    "s.sum(axis=0)"
   ]
  },
  {
   "cell_type": "markdown",
   "id": "e17e9e88-3d8b-49ad-93db-60fcbfea9843",
   "metadata": {},
   "source": [
    "# 3d"
   ]
  },
  {
   "cell_type": "code",
   "execution_count": 56,
   "id": "adfa834f-74f7-4c8b-a01f-4f606c5b8e71",
   "metadata": {},
   "outputs": [],
   "source": [
    "d=np.array([[[4,40],[5,50],[6,60]] , [[7,70],[8,80],[9,90]] , [[5,55],[4,45],[6,66]]]) #3d array"
   ]
  },
  {
   "cell_type": "code",
   "execution_count": 57,
   "id": "3fe9606f-4222-4b1d-8d6c-a7b1308ed67f",
   "metadata": {},
   "outputs": [
    {
     "data": {
      "text/plain": [
       "(3, 3, 2)"
      ]
     },
     "execution_count": 57,
     "metadata": {},
     "output_type": "execute_result"
    }
   ],
   "source": [
    "d.shape"
   ]
  },
  {
   "cell_type": "code",
   "execution_count": 58,
   "id": "f5d63d02-c601-48e7-93fd-4e8320ac090f",
   "metadata": {},
   "outputs": [
    {
     "data": {
      "text/plain": [
       "(4, 3, 4)"
      ]
     },
     "execution_count": 58,
     "metadata": {},
     "output_type": "execute_result"
    }
   ],
   "source": [
    "(4,3,4)"
   ]
  },
  {
   "cell_type": "code",
   "execution_count": 59,
   "id": "cb622efb-6285-404d-9b09-cbe7dfd66c3c",
   "metadata": {},
   "outputs": [],
   "source": [
    "x=np.array([12,56,np.nan,66,100,np.nan])"
   ]
  },
  {
   "cell_type": "code",
   "execution_count": 60,
   "id": "4fe4ed13-e76d-441a-a7b8-1a7b3dfd0855",
   "metadata": {},
   "outputs": [
    {
     "data": {
      "text/plain": [
       "array([ 12.,  56.,  nan,  66., 100.,  nan])"
      ]
     },
     "execution_count": 60,
     "metadata": {},
     "output_type": "execute_result"
    }
   ],
   "source": [
    "x"
   ]
  },
  {
   "cell_type": "code",
   "execution_count": 61,
   "id": "83de3888-7105-4311-b573-b0736e19dd7c",
   "metadata": {},
   "outputs": [
    {
     "data": {
      "text/plain": [
       "dtype('float64')"
      ]
     },
     "execution_count": 61,
     "metadata": {},
     "output_type": "execute_result"
    }
   ],
   "source": [
    "x.dtype"
   ]
  },
  {
   "cell_type": "code",
   "execution_count": null,
   "id": "feb857fc-6389-4cdc-8b32-cf8c14fe49c6",
   "metadata": {},
   "outputs": [],
   "source": []
  }
 ],
 "metadata": {
  "kernelspec": {
   "display_name": "Python 3 (ipykernel)",
   "language": "python",
   "name": "python3"
  },
  "language_info": {
   "codemirror_mode": {
    "name": "ipython",
    "version": 3
   },
   "file_extension": ".py",
   "mimetype": "text/x-python",
   "name": "python",
   "nbconvert_exporter": "python",
   "pygments_lexer": "ipython3",
   "version": "3.9.12"
  }
 },
 "nbformat": 4,
 "nbformat_minor": 5
}
