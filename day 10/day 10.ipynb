{
 "cells": [
  {
   "cell_type": "code",
   "execution_count": 1,
   "id": "fd950521-c3b4-4132-9903-7ed69aad9276",
   "metadata": {},
   "outputs": [],
   "source": [
    "import pandas as pd"
   ]
  },
  {
   "cell_type": "code",
   "execution_count": 2,
   "id": "c2f4d396-8b6e-44c5-8c98-ebdfa17e4963",
   "metadata": {},
   "outputs": [],
   "source": [
    " #movies= pd.read_clipboard()"
   ]
  },
  {
   "cell_type": "code",
   "execution_count": 3,
   "id": "af2d4689-5f8f-49eb-9ae6-01f99780fc8d",
   "metadata": {
    "tags": []
   },
   "outputs": [],
   "source": [
    "# movies"
   ]
  },
  {
   "cell_type": "code",
   "execution_count": 4,
   "id": "160396b3-18c2-4d63-a8b7-4a84a4a22060",
   "metadata": {},
   "outputs": [],
   "source": [
    "movies = pd.read_csv(r'Book1.csv')   ### r is used to copy path"
   ]
  },
  {
   "cell_type": "code",
   "execution_count": 5,
   "id": "c9506040-f1ec-4426-a47e-17ffe93f5913",
   "metadata": {
    "tags": []
   },
   "outputs": [
    {
     "data": {
      "text/html": [
       "<div>\n",
       "<style scoped>\n",
       "    .dataframe tbody tr th:only-of-type {\n",
       "        vertical-align: middle;\n",
       "    }\n",
       "\n",
       "    .dataframe tbody tr th {\n",
       "        vertical-align: top;\n",
       "    }\n",
       "\n",
       "    .dataframe thead th {\n",
       "        text-align: right;\n",
       "    }\n",
       "</style>\n",
       "<table border=\"1\" class=\"dataframe\">\n",
       "  <thead>\n",
       "    <tr style=\"text-align: right;\">\n",
       "      <th></th>\n",
       "      <th>id</th>\n",
       "      <th>name</th>\n",
       "      <th>industry</th>\n",
       "      <th>genre</th>\n",
       "      <th>language</th>\n",
       "      <th>duration</th>\n",
       "      <th>rating</th>\n",
       "    </tr>\n",
       "  </thead>\n",
       "  <tbody>\n",
       "    <tr>\n",
       "      <th>0</th>\n",
       "      <td>1</td>\n",
       "      <td>bahubali</td>\n",
       "      <td>tollywood</td>\n",
       "      <td>action</td>\n",
       "      <td>telugu</td>\n",
       "      <td>170</td>\n",
       "      <td>9.5</td>\n",
       "    </tr>\n",
       "    <tr>\n",
       "      <th>1</th>\n",
       "      <td>2</td>\n",
       "      <td>brahmastra</td>\n",
       "      <td>bollywood</td>\n",
       "      <td>mysterious</td>\n",
       "      <td>hindi</td>\n",
       "      <td>180</td>\n",
       "      <td>5.0</td>\n",
       "    </tr>\n",
       "    <tr>\n",
       "      <th>2</th>\n",
       "      <td>3</td>\n",
       "      <td>uri</td>\n",
       "      <td>bollywoood</td>\n",
       "      <td>action</td>\n",
       "      <td>hindi</td>\n",
       "      <td>120</td>\n",
       "      <td>10.0</td>\n",
       "    </tr>\n",
       "    <tr>\n",
       "      <th>3</th>\n",
       "      <td>4</td>\n",
       "      <td>ddlj</td>\n",
       "      <td>bollywood</td>\n",
       "      <td>drama</td>\n",
       "      <td>hindi</td>\n",
       "      <td>150</td>\n",
       "      <td>10.0</td>\n",
       "    </tr>\n",
       "    <tr>\n",
       "      <th>4</th>\n",
       "      <td>5</td>\n",
       "      <td>avengers</td>\n",
       "      <td>hollywood</td>\n",
       "      <td>action</td>\n",
       "      <td>english</td>\n",
       "      <td>210</td>\n",
       "      <td>9.0</td>\n",
       "    </tr>\n",
       "    <tr>\n",
       "      <th>5</th>\n",
       "      <td>6</td>\n",
       "      <td>tenet</td>\n",
       "      <td>hollywood</td>\n",
       "      <td>sci fi</td>\n",
       "      <td>english</td>\n",
       "      <td>150</td>\n",
       "      <td>8.5</td>\n",
       "    </tr>\n",
       "    <tr>\n",
       "      <th>6</th>\n",
       "      <td>7</td>\n",
       "      <td>major</td>\n",
       "      <td>bollywood</td>\n",
       "      <td>action</td>\n",
       "      <td>hindi</td>\n",
       "      <td>140</td>\n",
       "      <td>8.0</td>\n",
       "    </tr>\n",
       "    <tr>\n",
       "      <th>7</th>\n",
       "      <td>8</td>\n",
       "      <td>interstellar</td>\n",
       "      <td>hollywood</td>\n",
       "      <td>sci fi</td>\n",
       "      <td>english</td>\n",
       "      <td>190</td>\n",
       "      <td>7.0</td>\n",
       "    </tr>\n",
       "    <tr>\n",
       "      <th>8</th>\n",
       "      <td>9</td>\n",
       "      <td>gravity</td>\n",
       "      <td>hollywood</td>\n",
       "      <td>sci fi</td>\n",
       "      <td>english</td>\n",
       "      <td>130</td>\n",
       "      <td>6.0</td>\n",
       "    </tr>\n",
       "    <tr>\n",
       "      <th>9</th>\n",
       "      <td>10</td>\n",
       "      <td>titanic</td>\n",
       "      <td>hollywood</td>\n",
       "      <td>drama</td>\n",
       "      <td>english</td>\n",
       "      <td>180</td>\n",
       "      <td>9.0</td>\n",
       "    </tr>\n",
       "    <tr>\n",
       "      <th>10</th>\n",
       "      <td>11</td>\n",
       "      <td>jawani</td>\n",
       "      <td>bollywood</td>\n",
       "      <td>romantic</td>\n",
       "      <td>hindi</td>\n",
       "      <td>150</td>\n",
       "      <td>5.0</td>\n",
       "    </tr>\n",
       "    <tr>\n",
       "      <th>11</th>\n",
       "      <td>12</td>\n",
       "      <td>houseful</td>\n",
       "      <td>bollywood</td>\n",
       "      <td>comedy</td>\n",
       "      <td>hindi</td>\n",
       "      <td>10</td>\n",
       "      <td>6.0</td>\n",
       "    </tr>\n",
       "    <tr>\n",
       "      <th>12</th>\n",
       "      <td>13</td>\n",
       "      <td>dictator</td>\n",
       "      <td>hollywood</td>\n",
       "      <td>comedy</td>\n",
       "      <td>english</td>\n",
       "      <td>120</td>\n",
       "      <td>7.0</td>\n",
       "    </tr>\n",
       "    <tr>\n",
       "      <th>13</th>\n",
       "      <td>14</td>\n",
       "      <td>hera pheri</td>\n",
       "      <td>bollywood</td>\n",
       "      <td>comedy</td>\n",
       "      <td>hindi</td>\n",
       "      <td>140</td>\n",
       "      <td>9.0</td>\n",
       "    </tr>\n",
       "    <tr>\n",
       "      <th>14</th>\n",
       "      <td>15</td>\n",
       "      <td>sholay</td>\n",
       "      <td>bollywood</td>\n",
       "      <td>drama</td>\n",
       "      <td>hindi</td>\n",
       "      <td>150</td>\n",
       "      <td>8.5</td>\n",
       "    </tr>\n",
       "  </tbody>\n",
       "</table>\n",
       "</div>"
      ],
      "text/plain": [
       "    id          name    industry       genre language  duration  rating\n",
       "0    1      bahubali   tollywood      action   telugu       170     9.5\n",
       "1    2    brahmastra   bollywood  mysterious    hindi       180     5.0\n",
       "2    3           uri  bollywoood      action    hindi       120    10.0\n",
       "3    4          ddlj   bollywood       drama    hindi       150    10.0\n",
       "4    5      avengers   hollywood      action  english       210     9.0\n",
       "5    6         tenet   hollywood      sci fi  english       150     8.5\n",
       "6    7         major   bollywood      action    hindi       140     8.0\n",
       "7    8  interstellar   hollywood      sci fi  english       190     7.0\n",
       "8    9       gravity   hollywood      sci fi  english       130     6.0\n",
       "9   10       titanic   hollywood       drama  english       180     9.0\n",
       "10  11        jawani   bollywood    romantic    hindi       150     5.0\n",
       "11  12      houseful   bollywood      comedy    hindi        10     6.0\n",
       "12  13      dictator   hollywood      comedy  english       120     7.0\n",
       "13  14    hera pheri   bollywood      comedy    hindi       140     9.0\n",
       "14  15        sholay   bollywood       drama    hindi       150     8.5"
      ]
     },
     "execution_count": 5,
     "metadata": {},
     "output_type": "execute_result"
    }
   ],
   "source": [
    "movies"
   ]
  },
  {
   "cell_type": "code",
   "execution_count": 6,
   "id": "11c2eb1d-1c03-40c8-90f9-e93f9d87a7a5",
   "metadata": {
    "tags": []
   },
   "outputs": [
    {
     "data": {
      "text/html": [
       "<div>\n",
       "<style scoped>\n",
       "    .dataframe tbody tr th:only-of-type {\n",
       "        vertical-align: middle;\n",
       "    }\n",
       "\n",
       "    .dataframe tbody tr th {\n",
       "        vertical-align: top;\n",
       "    }\n",
       "\n",
       "    .dataframe thead th {\n",
       "        text-align: right;\n",
       "    }\n",
       "</style>\n",
       "<table border=\"1\" class=\"dataframe\">\n",
       "  <thead>\n",
       "    <tr style=\"text-align: right;\">\n",
       "      <th></th>\n",
       "      <th>id</th>\n",
       "      <th>name</th>\n",
       "      <th>industry</th>\n",
       "      <th>genre</th>\n",
       "      <th>language</th>\n",
       "      <th>duration</th>\n",
       "      <th>rating</th>\n",
       "    </tr>\n",
       "  </thead>\n",
       "  <tbody>\n",
       "    <tr>\n",
       "      <th>0</th>\n",
       "      <td>1</td>\n",
       "      <td>bahubali</td>\n",
       "      <td>tollywood</td>\n",
       "      <td>action</td>\n",
       "      <td>telugu</td>\n",
       "      <td>170</td>\n",
       "      <td>9.5</td>\n",
       "    </tr>\n",
       "    <tr>\n",
       "      <th>1</th>\n",
       "      <td>2</td>\n",
       "      <td>brahmastra</td>\n",
       "      <td>bollywood</td>\n",
       "      <td>mysterious</td>\n",
       "      <td>hindi</td>\n",
       "      <td>180</td>\n",
       "      <td>5.0</td>\n",
       "    </tr>\n",
       "    <tr>\n",
       "      <th>2</th>\n",
       "      <td>3</td>\n",
       "      <td>uri</td>\n",
       "      <td>bollywoood</td>\n",
       "      <td>action</td>\n",
       "      <td>hindi</td>\n",
       "      <td>120</td>\n",
       "      <td>10.0</td>\n",
       "    </tr>\n",
       "    <tr>\n",
       "      <th>3</th>\n",
       "      <td>4</td>\n",
       "      <td>ddlj</td>\n",
       "      <td>bollywood</td>\n",
       "      <td>drama</td>\n",
       "      <td>hindi</td>\n",
       "      <td>150</td>\n",
       "      <td>10.0</td>\n",
       "    </tr>\n",
       "    <tr>\n",
       "      <th>4</th>\n",
       "      <td>5</td>\n",
       "      <td>avengers</td>\n",
       "      <td>hollywood</td>\n",
       "      <td>action</td>\n",
       "      <td>english</td>\n",
       "      <td>210</td>\n",
       "      <td>9.0</td>\n",
       "    </tr>\n",
       "  </tbody>\n",
       "</table>\n",
       "</div>"
      ],
      "text/plain": [
       "   id        name    industry       genre language  duration  rating\n",
       "0   1    bahubali   tollywood      action   telugu       170     9.5\n",
       "1   2  brahmastra   bollywood  mysterious    hindi       180     5.0\n",
       "2   3         uri  bollywoood      action    hindi       120    10.0\n",
       "3   4        ddlj   bollywood       drama    hindi       150    10.0\n",
       "4   5    avengers   hollywood      action  english       210     9.0"
      ]
     },
     "execution_count": 6,
     "metadata": {},
     "output_type": "execute_result"
    }
   ],
   "source": [
    "movies.head()"
   ]
  },
  {
   "cell_type": "markdown",
   "id": "618fb76d-5082-4043-a554-ea004cff1292",
   "metadata": {},
   "source": [
    "# find the longest movie"
   ]
  },
  {
   "cell_type": "code",
   "execution_count": 7,
   "id": "09e334fb-c02c-4669-98a5-55344325b6f8",
   "metadata": {},
   "outputs": [
    {
     "data": {
      "text/plain": [
       "210"
      ]
     },
     "execution_count": 7,
     "metadata": {},
     "output_type": "execute_result"
    }
   ],
   "source": [
    "movies['duration'].max()"
   ]
  },
  {
   "cell_type": "code",
   "execution_count": 8,
   "id": "5516ec8e-7b9f-4e52-b174-bc877ed68f50",
   "metadata": {},
   "outputs": [
    {
     "data": {
      "text/plain": [
       "4"
      ]
     },
     "execution_count": 8,
     "metadata": {},
     "output_type": "execute_result"
    }
   ],
   "source": [
    "movies['duration'].argmax()"
   ]
  },
  {
   "cell_type": "code",
   "execution_count": 9,
   "id": "065097de-da74-4836-be8d-2b899fb5ccf4",
   "metadata": {},
   "outputs": [
    {
     "data": {
      "text/plain": [
       "'avengers'"
      ]
     },
     "execution_count": 9,
     "metadata": {},
     "output_type": "execute_result"
    }
   ],
   "source": [
    "movies['name'][4]"
   ]
  },
  {
   "cell_type": "code",
   "execution_count": 10,
   "id": "78b7e46b-ea34-48b2-a0b7-d8d3b5784e53",
   "metadata": {},
   "outputs": [
    {
     "data": {
      "text/plain": [
       "'avengers'"
      ]
     },
     "execution_count": 10,
     "metadata": {},
     "output_type": "execute_result"
    }
   ],
   "source": [
    "movies['name'][movies['duration'].argmax()]"
   ]
  },
  {
   "cell_type": "markdown",
   "id": "999cf588-b58f-4f36-ba80-753ec126b825",
   "metadata": {},
   "source": [
    "# number of movies who got 10 rating"
   ]
  },
  {
   "cell_type": "code",
   "execution_count": 11,
   "id": "99e49c08-b682-4058-b275-1f1c8a80209c",
   "metadata": {},
   "outputs": [
    {
     "data": {
      "text/plain": [
       "'uri'"
      ]
     },
     "execution_count": 11,
     "metadata": {},
     "output_type": "execute_result"
    }
   ],
   "source": [
    "movies['name'][movies['rating'].argmax()]"
   ]
  },
  {
   "cell_type": "code",
   "execution_count": 12,
   "id": "2532c323-13e5-4f30-9fb1-93025ec9a718",
   "metadata": {
    "tags": []
   },
   "outputs": [
    {
     "data": {
      "text/plain": [
       "0     False\n",
       "1     False\n",
       "2      True\n",
       "3      True\n",
       "4     False\n",
       "5     False\n",
       "6     False\n",
       "7     False\n",
       "8     False\n",
       "9     False\n",
       "10    False\n",
       "11    False\n",
       "12    False\n",
       "13    False\n",
       "14    False\n",
       "Name: rating, dtype: bool"
      ]
     },
     "execution_count": 12,
     "metadata": {},
     "output_type": "execute_result"
    }
   ],
   "source": [
    "movies['rating']==10"
   ]
  },
  {
   "cell_type": "code",
   "execution_count": 13,
   "id": "36bc45ed-3c64-462f-a365-29e778553195",
   "metadata": {
    "tags": []
   },
   "outputs": [
    {
     "data": {
      "text/plain": [
       "2"
      ]
     },
     "execution_count": 13,
     "metadata": {},
     "output_type": "execute_result"
    }
   ],
   "source": [
    "sum(movies['rating']==10)"
   ]
  },
  {
   "cell_type": "markdown",
   "id": "75b58e4e-92cf-4364-9f1a-cffc33e28442",
   "metadata": {},
   "source": [
    "# how many industries are there"
   ]
  },
  {
   "cell_type": "code",
   "execution_count": 14,
   "id": "1f7ed989-099f-4b76-ae2d-c4d5e564b66b",
   "metadata": {
    "tags": []
   },
   "outputs": [
    {
     "data": {
      "text/plain": [
       "bollywood     7\n",
       "hollywood     6\n",
       "tollywood     1\n",
       "bollywoood    1\n",
       "Name: industry, dtype: int64"
      ]
     },
     "execution_count": 14,
     "metadata": {},
     "output_type": "execute_result"
    }
   ],
   "source": [
    "movies['industry'].value_counts()"
   ]
  },
  {
   "cell_type": "code",
   "execution_count": 15,
   "id": "fdf22f1e-a745-4e67-b251-ee7abbea47ba",
   "metadata": {},
   "outputs": [
    {
     "data": {
      "text/plain": [
       "4"
      ]
     },
     "execution_count": 15,
     "metadata": {},
     "output_type": "execute_result"
    }
   ],
   "source": [
    "movies['industry'].value_counts().count()"
   ]
  },
  {
   "cell_type": "code",
   "execution_count": 16,
   "id": "351ff548-0fe1-4705-a8e8-381e61d5e995",
   "metadata": {},
   "outputs": [
    {
     "data": {
      "text/plain": [
       "4"
      ]
     },
     "execution_count": 16,
     "metadata": {},
     "output_type": "execute_result"
    }
   ],
   "source": [
    "len(movies['industry'].value_counts())"
   ]
  },
  {
   "cell_type": "code",
   "execution_count": 17,
   "id": "4412c021-3f53-4089-b937-f94e6b36ed8b",
   "metadata": {},
   "outputs": [
    {
     "data": {
      "text/plain": [
       "4"
      ]
     },
     "execution_count": 17,
     "metadata": {},
     "output_type": "execute_result"
    }
   ],
   "source": [
    "movies['industry'].nunique()"
   ]
  },
  {
   "cell_type": "markdown",
   "id": "e414a932-8e84-4403-b1a0-efa8e81a5520",
   "metadata": {},
   "source": [
    "# find the least liked comedy movie name"
   ]
  },
  {
   "cell_type": "code",
   "execution_count": 18,
   "id": "5a1d9ed2-ef43-43d0-aeb8-4db4afc4282c",
   "metadata": {
    "tags": []
   },
   "outputs": [
    {
     "data": {
      "text/plain": [
       "0     False\n",
       "1     False\n",
       "2     False\n",
       "3     False\n",
       "4     False\n",
       "5     False\n",
       "6     False\n",
       "7     False\n",
       "8     False\n",
       "9     False\n",
       "10    False\n",
       "11     True\n",
       "12     True\n",
       "13     True\n",
       "14    False\n",
       "Name: genre, dtype: bool"
      ]
     },
     "execution_count": 18,
     "metadata": {},
     "output_type": "execute_result"
    }
   ],
   "source": [
    "movies['genre']=='comedy'"
   ]
  },
  {
   "cell_type": "code",
   "execution_count": 19,
   "id": "7d5b8f19-0a1c-43ae-a4d0-018c085afb7a",
   "metadata": {
    "tags": []
   },
   "outputs": [
    {
     "data": {
      "text/html": [
       "<div>\n",
       "<style scoped>\n",
       "    .dataframe tbody tr th:only-of-type {\n",
       "        vertical-align: middle;\n",
       "    }\n",
       "\n",
       "    .dataframe tbody tr th {\n",
       "        vertical-align: top;\n",
       "    }\n",
       "\n",
       "    .dataframe thead th {\n",
       "        text-align: right;\n",
       "    }\n",
       "</style>\n",
       "<table border=\"1\" class=\"dataframe\">\n",
       "  <thead>\n",
       "    <tr style=\"text-align: right;\">\n",
       "      <th></th>\n",
       "      <th>id</th>\n",
       "      <th>name</th>\n",
       "      <th>industry</th>\n",
       "      <th>genre</th>\n",
       "      <th>language</th>\n",
       "      <th>duration</th>\n",
       "      <th>rating</th>\n",
       "    </tr>\n",
       "  </thead>\n",
       "  <tbody>\n",
       "    <tr>\n",
       "      <th>11</th>\n",
       "      <td>12</td>\n",
       "      <td>houseful</td>\n",
       "      <td>bollywood</td>\n",
       "      <td>comedy</td>\n",
       "      <td>hindi</td>\n",
       "      <td>10</td>\n",
       "      <td>6.0</td>\n",
       "    </tr>\n",
       "    <tr>\n",
       "      <th>12</th>\n",
       "      <td>13</td>\n",
       "      <td>dictator</td>\n",
       "      <td>hollywood</td>\n",
       "      <td>comedy</td>\n",
       "      <td>english</td>\n",
       "      <td>120</td>\n",
       "      <td>7.0</td>\n",
       "    </tr>\n",
       "    <tr>\n",
       "      <th>13</th>\n",
       "      <td>14</td>\n",
       "      <td>hera pheri</td>\n",
       "      <td>bollywood</td>\n",
       "      <td>comedy</td>\n",
       "      <td>hindi</td>\n",
       "      <td>140</td>\n",
       "      <td>9.0</td>\n",
       "    </tr>\n",
       "  </tbody>\n",
       "</table>\n",
       "</div>"
      ],
      "text/plain": [
       "    id        name   industry   genre language  duration  rating\n",
       "11  12    houseful  bollywood  comedy    hindi        10     6.0\n",
       "12  13    dictator  hollywood  comedy  english       120     7.0\n",
       "13  14  hera pheri  bollywood  comedy    hindi       140     9.0"
      ]
     },
     "execution_count": 19,
     "metadata": {},
     "output_type": "execute_result"
    }
   ],
   "source": [
    "movies[movies['genre']=='comedy']"
   ]
  },
  {
   "cell_type": "code",
   "execution_count": 20,
   "id": "c0c886d1-ff10-4e2f-9772-f75bcd8a64ec",
   "metadata": {},
   "outputs": [
    {
     "data": {
      "text/plain": [
       "6.0"
      ]
     },
     "execution_count": 20,
     "metadata": {},
     "output_type": "execute_result"
    }
   ],
   "source": [
    "movies[movies['genre']=='comedy']['rating'].min()"
   ]
  },
  {
   "cell_type": "code",
   "execution_count": 21,
   "id": "c8107f54-84d9-4656-a6ad-4b1d924085b6",
   "metadata": {},
   "outputs": [
    {
     "data": {
      "text/plain": [
       "0"
      ]
     },
     "execution_count": 21,
     "metadata": {},
     "output_type": "execute_result"
    }
   ],
   "source": [
    "movies[movies['genre']=='comedy']['rating'].argmin()"
   ]
  },
  {
   "cell_type": "code",
   "execution_count": 22,
   "id": "93cce284-9655-46d3-8fc2-4771f2b60893",
   "metadata": {},
   "outputs": [
    {
     "data": {
      "text/plain": [
       "'houseful'"
      ]
     },
     "execution_count": 22,
     "metadata": {},
     "output_type": "execute_result"
    }
   ],
   "source": [
    "movies['name'][movies[movies['genre']=='comedy']['rating'].idxmin()]"
   ]
  },
  {
   "cell_type": "code",
   "execution_count": 23,
   "id": "c838f7b9-a622-4418-8f7e-1321b627451c",
   "metadata": {},
   "outputs": [
    {
     "data": {
      "text/plain": [
       "Index(['id', 'name', 'industry', 'genre', 'language', 'duration', 'rating'], dtype='object')"
      ]
     },
     "execution_count": 23,
     "metadata": {},
     "output_type": "execute_result"
    }
   ],
   "source": [
    "movies.columns"
   ]
  },
  {
   "cell_type": "code",
   "execution_count": 24,
   "id": "8cd253e8-65fd-423b-bbef-eb8396c8653c",
   "metadata": {},
   "outputs": [],
   "source": [
    "# longest english movie"
   ]
  },
  {
   "cell_type": "code",
   "execution_count": 25,
   "id": "095e3a22-aeb5-4f73-beef-ee17eb1f4ad9",
   "metadata": {},
   "outputs": [
    {
     "data": {
      "text/plain": [
       "'avengers'"
      ]
     },
     "execution_count": 25,
     "metadata": {},
     "output_type": "execute_result"
    }
   ],
   "source": [
    "movies['name'][movies[movies['language']=='english']['duration'].idxmax()]"
   ]
  },
  {
   "cell_type": "code",
   "execution_count": 26,
   "id": "8bfe8dcd-c802-47d8-ae9c-65e674402e23",
   "metadata": {
    "tags": []
   },
   "outputs": [
    {
     "data": {
      "text/plain": [
       "0     False\n",
       "1     False\n",
       "2     False\n",
       "3      True\n",
       "4     False\n",
       "5     False\n",
       "6     False\n",
       "7     False\n",
       "8     False\n",
       "9     False\n",
       "10    False\n",
       "11    False\n",
       "12    False\n",
       "13    False\n",
       "14    False\n",
       "Name: name, dtype: bool"
      ]
     },
     "execution_count": 26,
     "metadata": {},
     "output_type": "execute_result"
    }
   ],
   "source": [
    "movies['name']=='ddlj'"
   ]
  },
  {
   "cell_type": "code",
   "execution_count": 27,
   "id": "03d6282d-8091-40a1-895b-70d4c1f94fc0",
   "metadata": {},
   "outputs": [
    {
     "data": {
      "text/plain": [
       "'titanic'"
      ]
     },
     "execution_count": 27,
     "metadata": {},
     "output_type": "execute_result"
    }
   ],
   "source": [
    "movies['name'][9]"
   ]
  },
  {
   "cell_type": "markdown",
   "id": "a330af1e-1b29-48cf-a779-e472cabbb916",
   "metadata": {},
   "source": [
    "# what is genre of interstellar"
   ]
  },
  {
   "cell_type": "code",
   "execution_count": 28,
   "id": "bf06d85f-02ae-41b4-a9ce-28e179447075",
   "metadata": {
    "tags": []
   },
   "outputs": [
    {
     "data": {
      "text/plain": [
       "0     False\n",
       "1     False\n",
       "2     False\n",
       "3     False\n",
       "4     False\n",
       "5     False\n",
       "6     False\n",
       "7      True\n",
       "8     False\n",
       "9     False\n",
       "10    False\n",
       "11    False\n",
       "12    False\n",
       "13    False\n",
       "14    False\n",
       "Name: name, dtype: bool"
      ]
     },
     "execution_count": 28,
     "metadata": {},
     "output_type": "execute_result"
    }
   ],
   "source": [
    "movies['name']=='interstellar'  # it is not an efficient method as it can be a lenghty method"
   ]
  },
  {
   "cell_type": "code",
   "execution_count": 29,
   "id": "86e37e6f-d23c-4b02-a39d-eebe37c9d9ab",
   "metadata": {},
   "outputs": [
    {
     "data": {
      "text/plain": [
       "7    sci fi\n",
       "Name: genre, dtype: object"
      ]
     },
     "execution_count": 29,
     "metadata": {},
     "output_type": "execute_result"
    }
   ],
   "source": [
    "movies['genre'][movies['name']=='interstellar']"
   ]
  },
  {
   "cell_type": "code",
   "execution_count": 30,
   "id": "b4997a20-18cd-499d-83c9-c0a66149a2e5",
   "metadata": {},
   "outputs": [
    {
     "data": {
      "text/plain": [
       "'sci fi'"
      ]
     },
     "execution_count": 30,
     "metadata": {},
     "output_type": "execute_result"
    }
   ],
   "source": [
    "movies['genre'][7]"
   ]
  },
  {
   "cell_type": "code",
   "execution_count": 31,
   "id": "b88e8576-4501-4dce-8f89-50ae4dd41538",
   "metadata": {},
   "outputs": [
    {
     "data": {
      "text/plain": [
       "array(['sci fi'], dtype=object)"
      ]
     },
     "execution_count": 31,
     "metadata": {},
     "output_type": "execute_result"
    }
   ],
   "source": [
    "movies['genre'][movies['name']=='interstellar'].values # .values is an attribute which converts series into numpy array."
   ]
  },
  {
   "cell_type": "code",
   "execution_count": 32,
   "id": "bd107cb0-270d-4539-9627-66f289b14f06",
   "metadata": {},
   "outputs": [
    {
     "data": {
      "text/plain": [
       "'sci fi'"
      ]
     },
     "execution_count": 32,
     "metadata": {},
     "output_type": "execute_result"
    }
   ],
   "source": [
    "movies['genre'][movies['name']=='interstellar'].values[0]"
   ]
  },
  {
   "cell_type": "code",
   "execution_count": 33,
   "id": "010fdc1f-e51f-46ea-87b1-cb785ec0e7ed",
   "metadata": {},
   "outputs": [
    {
     "data": {
      "text/plain": [
       "'HELLO'"
      ]
     },
     "execution_count": 33,
     "metadata": {},
     "output_type": "execute_result"
    }
   ],
   "source": [
    "'hello'.upper()"
   ]
  },
  {
   "cell_type": "code",
   "execution_count": 34,
   "id": "2dae16b9-2ec8-4bdb-8683-5ee36747f0d1",
   "metadata": {},
   "outputs": [
    {
     "data": {
      "text/plain": [
       "['h', 'llo']"
      ]
     },
     "execution_count": 34,
     "metadata": {},
     "output_type": "execute_result"
    }
   ],
   "source": [
    "'hello'.split('e')"
   ]
  },
  {
   "cell_type": "code",
   "execution_count": 35,
   "id": "6d0704c5-1262-472b-881b-7c7f8fec32b8",
   "metadata": {
    "tags": []
   },
   "outputs": [
    {
     "data": {
      "text/plain": [
       "0         BAHUBALI\n",
       "1       BRAHMASTRA\n",
       "2              URI\n",
       "3             DDLJ\n",
       "4         AVENGERS\n",
       "5            TENET\n",
       "6            MAJOR\n",
       "7     INTERSTELLAR\n",
       "8          GRAVITY\n",
       "9          TITANIC\n",
       "10          JAWANI\n",
       "11        HOUSEFUL\n",
       "12        DICTATOR\n",
       "13      HERA PHERI\n",
       "14          SHOLAY\n",
       "Name: name, dtype: object"
      ]
     },
     "execution_count": 35,
     "metadata": {},
     "output_type": "execute_result"
    }
   ],
   "source": [
    "movies['name'].str.upper()"
   ]
  },
  {
   "cell_type": "code",
   "execution_count": 36,
   "id": "dce28c7f-4e39-45d2-9a71-f1e95f2a3d56",
   "metadata": {
    "tags": []
   },
   "outputs": [
    {
     "data": {
      "text/plain": [
       "'sci fi'"
      ]
     },
     "execution_count": 36,
     "metadata": {},
     "output_type": "execute_result"
    }
   ],
   "source": [
    "movies['genre'][movies['name'].str.lower()=='interstellar'.lower()].values[0]"
   ]
  },
  {
   "cell_type": "code",
   "execution_count": 37,
   "id": "5fa8e6d1-8840-46fa-a091-ea7201956da1",
   "metadata": {},
   "outputs": [],
   "source": [
    "name=movies['name']"
   ]
  },
  {
   "cell_type": "code",
   "execution_count": 38,
   "id": "5ea08ff1-45e5-4a9e-be39-dbe78b0929d6",
   "metadata": {
    "tags": []
   },
   "outputs": [
    {
     "data": {
      "text/plain": [
       "array(['bahubali', 'brahmastra', 'uri', 'ddlj', 'avengers', 'tenet',\n",
       "       'major', 'interstellar', 'gravity', 'titanic', 'jawani',\n",
       "       'houseful', 'dictator', 'hera pheri', 'sholay'], dtype=object)"
      ]
     },
     "execution_count": 38,
     "metadata": {},
     "output_type": "execute_result"
    }
   ],
   "source": [
    "name.values"
   ]
  },
  {
   "cell_type": "code",
   "execution_count": 39,
   "id": "db37ce28-0571-41e6-8bda-9d1457dcaf6a",
   "metadata": {
    "tags": []
   },
   "outputs": [
    {
     "data": {
      "text/plain": [
       "0         Bahubali\n",
       "1       Brahmastra\n",
       "2              Uri\n",
       "3             Ddlj\n",
       "4         Avengers\n",
       "5            Tenet\n",
       "6            Major\n",
       "7     Interstellar\n",
       "8          Gravity\n",
       "9          Titanic\n",
       "10          Jawani\n",
       "11        Houseful\n",
       "12        Dictator\n",
       "13      Hera pheri\n",
       "14          Sholay\n",
       "Name: name, dtype: object"
      ]
     },
     "execution_count": 39,
     "metadata": {},
     "output_type": "execute_result"
    }
   ],
   "source": [
    "name.str.capitalize()"
   ]
  },
  {
   "cell_type": "code",
   "execution_count": 40,
   "id": "db7d9e8d-f26f-46cb-95b9-083f30a60244",
   "metadata": {
    "tags": []
   },
   "outputs": [
    {
     "data": {
      "text/plain": [
       "0    -1\n",
       "1    -1\n",
       "2    -1\n",
       "3    -1\n",
       "4     2\n",
       "5     1\n",
       "6    -1\n",
       "7     3\n",
       "8    -1\n",
       "9    -1\n",
       "10   -1\n",
       "11    4\n",
       "12   -1\n",
       "13    1\n",
       "14   -1\n",
       "Name: name, dtype: int64"
      ]
     },
     "execution_count": 40,
     "metadata": {},
     "output_type": "execute_result"
    }
   ],
   "source": [
    "name.str.find('e')"
   ]
  },
  {
   "cell_type": "code",
   "execution_count": 41,
   "id": "75eb3658-9f71-432f-a6b8-10bfcd0ebbe1",
   "metadata": {
    "tags": []
   },
   "outputs": [
    {
     "data": {
      "text/plain": [
       "0      True\n",
       "1     False\n",
       "2      True\n",
       "3     False\n",
       "4     False\n",
       "5     False\n",
       "6     False\n",
       "7     False\n",
       "8     False\n",
       "9     False\n",
       "10     True\n",
       "11    False\n",
       "12    False\n",
       "13     True\n",
       "14    False\n",
       "Name: name, dtype: bool"
      ]
     },
     "execution_count": 41,
     "metadata": {},
     "output_type": "execute_result"
    }
   ],
   "source": [
    "name.str.endswith('i')"
   ]
  },
  {
   "cell_type": "code",
   "execution_count": 42,
   "id": "207ff445-8be0-40fc-9dbc-9bc702e722c3",
   "metadata": {
    "tags": []
   },
   "outputs": [
    {
     "data": {
      "text/plain": [
       "0     l\n",
       "1     r\n",
       "2     r\n",
       "3     l\n",
       "4     r\n",
       "5     e\n",
       "6     o\n",
       "7     a\n",
       "8     t\n",
       "9     i\n",
       "10    n\n",
       "11    u\n",
       "12    o\n",
       "13    r\n",
       "14    a\n",
       "Name: name, dtype: object"
      ]
     },
     "execution_count": 42,
     "metadata": {},
     "output_type": "execute_result"
    }
   ],
   "source": [
    "name.str.get(-2)"
   ]
  },
  {
   "cell_type": "code",
   "execution_count": 43,
   "id": "28a717a5-6e0c-4ec8-b819-939962852211",
   "metadata": {
    "tags": []
   },
   "outputs": [
    {
     "data": {
      "text/html": [
       "<div>\n",
       "<style scoped>\n",
       "    .dataframe tbody tr th:only-of-type {\n",
       "        vertical-align: middle;\n",
       "    }\n",
       "\n",
       "    .dataframe tbody tr th {\n",
       "        vertical-align: top;\n",
       "    }\n",
       "\n",
       "    .dataframe thead th {\n",
       "        text-align: right;\n",
       "    }\n",
       "</style>\n",
       "<table border=\"1\" class=\"dataframe\">\n",
       "  <thead>\n",
       "    <tr style=\"text-align: right;\">\n",
       "      <th></th>\n",
       "      <th>avengers</th>\n",
       "      <th>bahubali</th>\n",
       "      <th>brahmastra</th>\n",
       "      <th>ddlj</th>\n",
       "      <th>dictator</th>\n",
       "      <th>gravity</th>\n",
       "      <th>hera pheri</th>\n",
       "      <th>houseful</th>\n",
       "      <th>interstellar</th>\n",
       "      <th>jawani</th>\n",
       "      <th>major</th>\n",
       "      <th>sholay</th>\n",
       "      <th>tenet</th>\n",
       "      <th>titanic</th>\n",
       "      <th>uri</th>\n",
       "    </tr>\n",
       "  </thead>\n",
       "  <tbody>\n",
       "    <tr>\n",
       "      <th>0</th>\n",
       "      <td>0</td>\n",
       "      <td>1</td>\n",
       "      <td>0</td>\n",
       "      <td>0</td>\n",
       "      <td>0</td>\n",
       "      <td>0</td>\n",
       "      <td>0</td>\n",
       "      <td>0</td>\n",
       "      <td>0</td>\n",
       "      <td>0</td>\n",
       "      <td>0</td>\n",
       "      <td>0</td>\n",
       "      <td>0</td>\n",
       "      <td>0</td>\n",
       "      <td>0</td>\n",
       "    </tr>\n",
       "    <tr>\n",
       "      <th>1</th>\n",
       "      <td>0</td>\n",
       "      <td>0</td>\n",
       "      <td>1</td>\n",
       "      <td>0</td>\n",
       "      <td>0</td>\n",
       "      <td>0</td>\n",
       "      <td>0</td>\n",
       "      <td>0</td>\n",
       "      <td>0</td>\n",
       "      <td>0</td>\n",
       "      <td>0</td>\n",
       "      <td>0</td>\n",
       "      <td>0</td>\n",
       "      <td>0</td>\n",
       "      <td>0</td>\n",
       "    </tr>\n",
       "    <tr>\n",
       "      <th>2</th>\n",
       "      <td>0</td>\n",
       "      <td>0</td>\n",
       "      <td>0</td>\n",
       "      <td>0</td>\n",
       "      <td>0</td>\n",
       "      <td>0</td>\n",
       "      <td>0</td>\n",
       "      <td>0</td>\n",
       "      <td>0</td>\n",
       "      <td>0</td>\n",
       "      <td>0</td>\n",
       "      <td>0</td>\n",
       "      <td>0</td>\n",
       "      <td>0</td>\n",
       "      <td>1</td>\n",
       "    </tr>\n",
       "    <tr>\n",
       "      <th>3</th>\n",
       "      <td>0</td>\n",
       "      <td>0</td>\n",
       "      <td>0</td>\n",
       "      <td>1</td>\n",
       "      <td>0</td>\n",
       "      <td>0</td>\n",
       "      <td>0</td>\n",
       "      <td>0</td>\n",
       "      <td>0</td>\n",
       "      <td>0</td>\n",
       "      <td>0</td>\n",
       "      <td>0</td>\n",
       "      <td>0</td>\n",
       "      <td>0</td>\n",
       "      <td>0</td>\n",
       "    </tr>\n",
       "    <tr>\n",
       "      <th>4</th>\n",
       "      <td>1</td>\n",
       "      <td>0</td>\n",
       "      <td>0</td>\n",
       "      <td>0</td>\n",
       "      <td>0</td>\n",
       "      <td>0</td>\n",
       "      <td>0</td>\n",
       "      <td>0</td>\n",
       "      <td>0</td>\n",
       "      <td>0</td>\n",
       "      <td>0</td>\n",
       "      <td>0</td>\n",
       "      <td>0</td>\n",
       "      <td>0</td>\n",
       "      <td>0</td>\n",
       "    </tr>\n",
       "    <tr>\n",
       "      <th>5</th>\n",
       "      <td>0</td>\n",
       "      <td>0</td>\n",
       "      <td>0</td>\n",
       "      <td>0</td>\n",
       "      <td>0</td>\n",
       "      <td>0</td>\n",
       "      <td>0</td>\n",
       "      <td>0</td>\n",
       "      <td>0</td>\n",
       "      <td>0</td>\n",
       "      <td>0</td>\n",
       "      <td>0</td>\n",
       "      <td>1</td>\n",
       "      <td>0</td>\n",
       "      <td>0</td>\n",
       "    </tr>\n",
       "    <tr>\n",
       "      <th>6</th>\n",
       "      <td>0</td>\n",
       "      <td>0</td>\n",
       "      <td>0</td>\n",
       "      <td>0</td>\n",
       "      <td>0</td>\n",
       "      <td>0</td>\n",
       "      <td>0</td>\n",
       "      <td>0</td>\n",
       "      <td>0</td>\n",
       "      <td>0</td>\n",
       "      <td>1</td>\n",
       "      <td>0</td>\n",
       "      <td>0</td>\n",
       "      <td>0</td>\n",
       "      <td>0</td>\n",
       "    </tr>\n",
       "    <tr>\n",
       "      <th>7</th>\n",
       "      <td>0</td>\n",
       "      <td>0</td>\n",
       "      <td>0</td>\n",
       "      <td>0</td>\n",
       "      <td>0</td>\n",
       "      <td>0</td>\n",
       "      <td>0</td>\n",
       "      <td>0</td>\n",
       "      <td>1</td>\n",
       "      <td>0</td>\n",
       "      <td>0</td>\n",
       "      <td>0</td>\n",
       "      <td>0</td>\n",
       "      <td>0</td>\n",
       "      <td>0</td>\n",
       "    </tr>\n",
       "    <tr>\n",
       "      <th>8</th>\n",
       "      <td>0</td>\n",
       "      <td>0</td>\n",
       "      <td>0</td>\n",
       "      <td>0</td>\n",
       "      <td>0</td>\n",
       "      <td>1</td>\n",
       "      <td>0</td>\n",
       "      <td>0</td>\n",
       "      <td>0</td>\n",
       "      <td>0</td>\n",
       "      <td>0</td>\n",
       "      <td>0</td>\n",
       "      <td>0</td>\n",
       "      <td>0</td>\n",
       "      <td>0</td>\n",
       "    </tr>\n",
       "    <tr>\n",
       "      <th>9</th>\n",
       "      <td>0</td>\n",
       "      <td>0</td>\n",
       "      <td>0</td>\n",
       "      <td>0</td>\n",
       "      <td>0</td>\n",
       "      <td>0</td>\n",
       "      <td>0</td>\n",
       "      <td>0</td>\n",
       "      <td>0</td>\n",
       "      <td>0</td>\n",
       "      <td>0</td>\n",
       "      <td>0</td>\n",
       "      <td>0</td>\n",
       "      <td>1</td>\n",
       "      <td>0</td>\n",
       "    </tr>\n",
       "    <tr>\n",
       "      <th>10</th>\n",
       "      <td>0</td>\n",
       "      <td>0</td>\n",
       "      <td>0</td>\n",
       "      <td>0</td>\n",
       "      <td>0</td>\n",
       "      <td>0</td>\n",
       "      <td>0</td>\n",
       "      <td>0</td>\n",
       "      <td>0</td>\n",
       "      <td>1</td>\n",
       "      <td>0</td>\n",
       "      <td>0</td>\n",
       "      <td>0</td>\n",
       "      <td>0</td>\n",
       "      <td>0</td>\n",
       "    </tr>\n",
       "    <tr>\n",
       "      <th>11</th>\n",
       "      <td>0</td>\n",
       "      <td>0</td>\n",
       "      <td>0</td>\n",
       "      <td>0</td>\n",
       "      <td>0</td>\n",
       "      <td>0</td>\n",
       "      <td>0</td>\n",
       "      <td>1</td>\n",
       "      <td>0</td>\n",
       "      <td>0</td>\n",
       "      <td>0</td>\n",
       "      <td>0</td>\n",
       "      <td>0</td>\n",
       "      <td>0</td>\n",
       "      <td>0</td>\n",
       "    </tr>\n",
       "    <tr>\n",
       "      <th>12</th>\n",
       "      <td>0</td>\n",
       "      <td>0</td>\n",
       "      <td>0</td>\n",
       "      <td>0</td>\n",
       "      <td>1</td>\n",
       "      <td>0</td>\n",
       "      <td>0</td>\n",
       "      <td>0</td>\n",
       "      <td>0</td>\n",
       "      <td>0</td>\n",
       "      <td>0</td>\n",
       "      <td>0</td>\n",
       "      <td>0</td>\n",
       "      <td>0</td>\n",
       "      <td>0</td>\n",
       "    </tr>\n",
       "    <tr>\n",
       "      <th>13</th>\n",
       "      <td>0</td>\n",
       "      <td>0</td>\n",
       "      <td>0</td>\n",
       "      <td>0</td>\n",
       "      <td>0</td>\n",
       "      <td>0</td>\n",
       "      <td>1</td>\n",
       "      <td>0</td>\n",
       "      <td>0</td>\n",
       "      <td>0</td>\n",
       "      <td>0</td>\n",
       "      <td>0</td>\n",
       "      <td>0</td>\n",
       "      <td>0</td>\n",
       "      <td>0</td>\n",
       "    </tr>\n",
       "    <tr>\n",
       "      <th>14</th>\n",
       "      <td>0</td>\n",
       "      <td>0</td>\n",
       "      <td>0</td>\n",
       "      <td>0</td>\n",
       "      <td>0</td>\n",
       "      <td>0</td>\n",
       "      <td>0</td>\n",
       "      <td>0</td>\n",
       "      <td>0</td>\n",
       "      <td>0</td>\n",
       "      <td>0</td>\n",
       "      <td>1</td>\n",
       "      <td>0</td>\n",
       "      <td>0</td>\n",
       "      <td>0</td>\n",
       "    </tr>\n",
       "  </tbody>\n",
       "</table>\n",
       "</div>"
      ],
      "text/plain": [
       "    avengers  bahubali  brahmastra  ddlj  dictator  gravity  hera pheri  \\\n",
       "0          0         1           0     0         0        0           0   \n",
       "1          0         0           1     0         0        0           0   \n",
       "2          0         0           0     0         0        0           0   \n",
       "3          0         0           0     1         0        0           0   \n",
       "4          1         0           0     0         0        0           0   \n",
       "5          0         0           0     0         0        0           0   \n",
       "6          0         0           0     0         0        0           0   \n",
       "7          0         0           0     0         0        0           0   \n",
       "8          0         0           0     0         0        1           0   \n",
       "9          0         0           0     0         0        0           0   \n",
       "10         0         0           0     0         0        0           0   \n",
       "11         0         0           0     0         0        0           0   \n",
       "12         0         0           0     0         1        0           0   \n",
       "13         0         0           0     0         0        0           1   \n",
       "14         0         0           0     0         0        0           0   \n",
       "\n",
       "    houseful  interstellar  jawani  major  sholay  tenet  titanic  uri  \n",
       "0          0             0       0      0       0      0        0    0  \n",
       "1          0             0       0      0       0      0        0    0  \n",
       "2          0             0       0      0       0      0        0    1  \n",
       "3          0             0       0      0       0      0        0    0  \n",
       "4          0             0       0      0       0      0        0    0  \n",
       "5          0             0       0      0       0      1        0    0  \n",
       "6          0             0       0      1       0      0        0    0  \n",
       "7          0             1       0      0       0      0        0    0  \n",
       "8          0             0       0      0       0      0        0    0  \n",
       "9          0             0       0      0       0      0        1    0  \n",
       "10         0             0       1      0       0      0        0    0  \n",
       "11         1             0       0      0       0      0        0    0  \n",
       "12         0             0       0      0       0      0        0    0  \n",
       "13         0             0       0      0       0      0        0    0  \n",
       "14         0             0       0      0       1      0        0    0  "
      ]
     },
     "execution_count": 43,
     "metadata": {},
     "output_type": "execute_result"
    }
   ],
   "source": [
    "name.str.get_dummies()"
   ]
  },
  {
   "cell_type": "code",
   "execution_count": 44,
   "id": "291e6208-5330-4b03-9032-3ae3b1de48d2",
   "metadata": {
    "tags": []
   },
   "outputs": [
    {
     "data": {
      "text/html": [
       "<div>\n",
       "<style scoped>\n",
       "    .dataframe tbody tr th:only-of-type {\n",
       "        vertical-align: middle;\n",
       "    }\n",
       "\n",
       "    .dataframe tbody tr th {\n",
       "        vertical-align: top;\n",
       "    }\n",
       "\n",
       "    .dataframe thead th {\n",
       "        text-align: right;\n",
       "    }\n",
       "</style>\n",
       "<table border=\"1\" class=\"dataframe\">\n",
       "  <thead>\n",
       "    <tr style=\"text-align: right;\">\n",
       "      <th></th>\n",
       "      <th>action</th>\n",
       "      <th>comedy</th>\n",
       "      <th>drama</th>\n",
       "      <th>mysterious</th>\n",
       "      <th>romantic</th>\n",
       "      <th>sci fi</th>\n",
       "    </tr>\n",
       "  </thead>\n",
       "  <tbody>\n",
       "    <tr>\n",
       "      <th>0</th>\n",
       "      <td>1</td>\n",
       "      <td>0</td>\n",
       "      <td>0</td>\n",
       "      <td>0</td>\n",
       "      <td>0</td>\n",
       "      <td>0</td>\n",
       "    </tr>\n",
       "    <tr>\n",
       "      <th>1</th>\n",
       "      <td>0</td>\n",
       "      <td>0</td>\n",
       "      <td>0</td>\n",
       "      <td>1</td>\n",
       "      <td>0</td>\n",
       "      <td>0</td>\n",
       "    </tr>\n",
       "    <tr>\n",
       "      <th>2</th>\n",
       "      <td>1</td>\n",
       "      <td>0</td>\n",
       "      <td>0</td>\n",
       "      <td>0</td>\n",
       "      <td>0</td>\n",
       "      <td>0</td>\n",
       "    </tr>\n",
       "    <tr>\n",
       "      <th>3</th>\n",
       "      <td>0</td>\n",
       "      <td>0</td>\n",
       "      <td>1</td>\n",
       "      <td>0</td>\n",
       "      <td>0</td>\n",
       "      <td>0</td>\n",
       "    </tr>\n",
       "    <tr>\n",
       "      <th>4</th>\n",
       "      <td>1</td>\n",
       "      <td>0</td>\n",
       "      <td>0</td>\n",
       "      <td>0</td>\n",
       "      <td>0</td>\n",
       "      <td>0</td>\n",
       "    </tr>\n",
       "    <tr>\n",
       "      <th>5</th>\n",
       "      <td>0</td>\n",
       "      <td>0</td>\n",
       "      <td>0</td>\n",
       "      <td>0</td>\n",
       "      <td>0</td>\n",
       "      <td>1</td>\n",
       "    </tr>\n",
       "    <tr>\n",
       "      <th>6</th>\n",
       "      <td>1</td>\n",
       "      <td>0</td>\n",
       "      <td>0</td>\n",
       "      <td>0</td>\n",
       "      <td>0</td>\n",
       "      <td>0</td>\n",
       "    </tr>\n",
       "    <tr>\n",
       "      <th>7</th>\n",
       "      <td>0</td>\n",
       "      <td>0</td>\n",
       "      <td>0</td>\n",
       "      <td>0</td>\n",
       "      <td>0</td>\n",
       "      <td>1</td>\n",
       "    </tr>\n",
       "    <tr>\n",
       "      <th>8</th>\n",
       "      <td>0</td>\n",
       "      <td>0</td>\n",
       "      <td>0</td>\n",
       "      <td>0</td>\n",
       "      <td>0</td>\n",
       "      <td>1</td>\n",
       "    </tr>\n",
       "    <tr>\n",
       "      <th>9</th>\n",
       "      <td>0</td>\n",
       "      <td>0</td>\n",
       "      <td>1</td>\n",
       "      <td>0</td>\n",
       "      <td>0</td>\n",
       "      <td>0</td>\n",
       "    </tr>\n",
       "    <tr>\n",
       "      <th>10</th>\n",
       "      <td>0</td>\n",
       "      <td>0</td>\n",
       "      <td>0</td>\n",
       "      <td>0</td>\n",
       "      <td>1</td>\n",
       "      <td>0</td>\n",
       "    </tr>\n",
       "    <tr>\n",
       "      <th>11</th>\n",
       "      <td>0</td>\n",
       "      <td>1</td>\n",
       "      <td>0</td>\n",
       "      <td>0</td>\n",
       "      <td>0</td>\n",
       "      <td>0</td>\n",
       "    </tr>\n",
       "    <tr>\n",
       "      <th>12</th>\n",
       "      <td>0</td>\n",
       "      <td>1</td>\n",
       "      <td>0</td>\n",
       "      <td>0</td>\n",
       "      <td>0</td>\n",
       "      <td>0</td>\n",
       "    </tr>\n",
       "    <tr>\n",
       "      <th>13</th>\n",
       "      <td>0</td>\n",
       "      <td>1</td>\n",
       "      <td>0</td>\n",
       "      <td>0</td>\n",
       "      <td>0</td>\n",
       "      <td>0</td>\n",
       "    </tr>\n",
       "    <tr>\n",
       "      <th>14</th>\n",
       "      <td>0</td>\n",
       "      <td>0</td>\n",
       "      <td>1</td>\n",
       "      <td>0</td>\n",
       "      <td>0</td>\n",
       "      <td>0</td>\n",
       "    </tr>\n",
       "  </tbody>\n",
       "</table>\n",
       "</div>"
      ],
      "text/plain": [
       "    action  comedy  drama  mysterious  romantic  sci fi\n",
       "0        1       0      0           0         0       0\n",
       "1        0       0      0           1         0       0\n",
       "2        1       0      0           0         0       0\n",
       "3        0       0      1           0         0       0\n",
       "4        1       0      0           0         0       0\n",
       "5        0       0      0           0         0       1\n",
       "6        1       0      0           0         0       0\n",
       "7        0       0      0           0         0       1\n",
       "8        0       0      0           0         0       1\n",
       "9        0       0      1           0         0       0\n",
       "10       0       0      0           0         1       0\n",
       "11       0       1      0           0         0       0\n",
       "12       0       1      0           0         0       0\n",
       "13       0       1      0           0         0       0\n",
       "14       0       0      1           0         0       0"
      ]
     },
     "execution_count": 44,
     "metadata": {},
     "output_type": "execute_result"
    }
   ],
   "source": [
    "movies['genre'].str.get_dummies()  # used to convert string into binary"
   ]
  },
  {
   "cell_type": "code",
   "execution_count": 45,
   "id": "23928c3c-2b63-44ff-abaa-ceaa77f4e852",
   "metadata": {
    "tags": []
   },
   "outputs": [],
   "source": [
    "# name.str.index('e')"
   ]
  },
  {
   "cell_type": "code",
   "execution_count": 46,
   "id": "393c89e9-19d9-4eab-a3b9-cf237999cba4",
   "metadata": {
    "tags": []
   },
   "outputs": [
    {
     "data": {
      "text/plain": [
       "0             b.a.h.u.b.a.l.i\n",
       "1         b.r.a.h.m.a.s.t.r.a\n",
       "2                       u.r.i\n",
       "3                     d.d.l.j\n",
       "4             a.v.e.n.g.e.r.s\n",
       "5                   t.e.n.e.t\n",
       "6                   m.a.j.o.r\n",
       "7     i.n.t.e.r.s.t.e.l.l.a.r\n",
       "8               g.r.a.v.i.t.y\n",
       "9               t.i.t.a.n.i.c\n",
       "10                j.a.w.a.n.i\n",
       "11            h.o.u.s.e.f.u.l\n",
       "12            d.i.c.t.a.t.o.r\n",
       "13        h.e.r.a. .p.h.e.r.i\n",
       "14                s.h.o.l.a.y\n",
       "Name: name, dtype: object"
      ]
     },
     "execution_count": 46,
     "metadata": {},
     "output_type": "execute_result"
    }
   ],
   "source": [
    "name.str.join('.')"
   ]
  },
  {
   "cell_type": "code",
   "execution_count": 47,
   "id": "0d9e3a6a-4a8a-4e8a-b272-a3e95d309393",
   "metadata": {
    "tags": []
   },
   "outputs": [
    {
     "data": {
      "text/plain": [
       "0           [bahubali]\n",
       "1         [brahmastra]\n",
       "2                [uri]\n",
       "3               [ddlj]\n",
       "4         [av, ng, rs]\n",
       "5            [t, n, t]\n",
       "6              [major]\n",
       "7     [int, rst, llar]\n",
       "8            [gravity]\n",
       "9            [titanic]\n",
       "10            [jawani]\n",
       "11         [hous, ful]\n",
       "12          [dictator]\n",
       "13      [h, ra ph, ri]\n",
       "14            [sholay]\n",
       "Name: name, dtype: object"
      ]
     },
     "execution_count": 47,
     "metadata": {},
     "output_type": "execute_result"
    }
   ],
   "source": [
    "name.str.split('e')"
   ]
  },
  {
   "cell_type": "code",
   "execution_count": 48,
   "id": "3b0fe82b-03cb-4b46-b924-a60b9811714d",
   "metadata": {
    "tags": []
   },
   "outputs": [
    {
     "data": {
      "text/plain": [
       "0                 bahubali\n",
       "1               brahmastra\n",
       "2                      uri\n",
       "3                     ddlj\n",
       "4         av--+--ng--+--rs\n",
       "5            t--+--n--+--t\n",
       "6                    major\n",
       "7     int--+--rst--+--llar\n",
       "8                  gravity\n",
       "9                  titanic\n",
       "10                  jawani\n",
       "11            hous--+--ful\n",
       "12                dictator\n",
       "13      h--+--ra ph--+--ri\n",
       "14                  sholay\n",
       "Name: name, dtype: object"
      ]
     },
     "execution_count": 48,
     "metadata": {},
     "output_type": "execute_result"
    }
   ],
   "source": [
    "name.str.split('e').str.join('--+--')"
   ]
  },
  {
   "cell_type": "code",
   "execution_count": 49,
   "id": "81d28edb-a024-4436-8603-5b2d88e6953c",
   "metadata": {
    "tags": []
   },
   "outputs": [
    {
     "data": {
      "text/plain": [
       "0         bahubali\n",
       "1       brahmastra\n",
       "2              uri\n",
       "3             ddlj\n",
       "4         avengers\n",
       "5            tenet\n",
       "6            major\n",
       "7     interstellar\n",
       "8          gravity\n",
       "9          titanic\n",
       "10          jawani\n",
       "11        houseful\n",
       "12        dictator\n",
       "13      hera pheri\n",
       "14          sholay\n",
       "Name: name, dtype: object"
      ]
     },
     "execution_count": 49,
     "metadata": {},
     "output_type": "execute_result"
    }
   ],
   "source": [
    "name.str.strip() # used to remove trailing and forward spaces present"
   ]
  },
  {
   "cell_type": "code",
   "execution_count": 50,
   "id": "b260927b-6c4a-45c7-a7f5-5e3b62edf3f6",
   "metadata": {},
   "outputs": [
    {
     "data": {
      "text/plain": [
       "'sci fi'"
      ]
     },
     "execution_count": 50,
     "metadata": {},
     "output_type": "execute_result"
    }
   ],
   "source": [
    "movies['genre'][movies['name'].str.strip().str.lower()=='interstellar'.lower()].values[0] ##safe to use now as the spaces are removed if present"
   ]
  },
  {
   "cell_type": "markdown",
   "id": "40186068-41a9-4b19-a703-23f113d95873",
   "metadata": {},
   "source": [
    "# what is the average duration of each genre"
   ]
  },
  {
   "cell_type": "code",
   "execution_count": 51,
   "id": "09bfb557-60c2-447f-9cf7-d7d5831154c0",
   "metadata": {
    "tags": []
   },
   "outputs": [
    {
     "data": {
      "text/plain": [
       "array(['action', 'mysterious', 'drama', 'sci fi', 'romantic', 'comedy'],\n",
       "      dtype=object)"
      ]
     },
     "execution_count": 51,
     "metadata": {},
     "output_type": "execute_result"
    }
   ],
   "source": [
    "movies['genre'].unique()"
   ]
  },
  {
   "cell_type": "code",
   "execution_count": 52,
   "id": "2c76e314-a636-4455-8103-4be07a3d470b",
   "metadata": {},
   "outputs": [
    {
     "data": {
      "text/plain": [
       "6"
      ]
     },
     "execution_count": 52,
     "metadata": {},
     "output_type": "execute_result"
    }
   ],
   "source": [
    "movies['genre'].nunique()"
   ]
  },
  {
   "cell_type": "code",
   "execution_count": 53,
   "id": "c2446bbe-c1b9-482a-914c-58cebcd3b8e5",
   "metadata": {
    "tags": []
   },
   "outputs": [
    {
     "data": {
      "text/plain": [
       "action        4\n",
       "drama         3\n",
       "sci fi        3\n",
       "comedy        3\n",
       "mysterious    1\n",
       "romantic      1\n",
       "Name: genre, dtype: int64"
      ]
     },
     "execution_count": 53,
     "metadata": {},
     "output_type": "execute_result"
    }
   ],
   "source": [
    "movies['genre'].value_counts()"
   ]
  },
  {
   "cell_type": "code",
   "execution_count": 54,
   "id": "d239699d-36e5-4bd2-9585-96e79d5ea975",
   "metadata": {
    "tags": []
   },
   "outputs": [
    {
     "name": "stdout",
     "output_type": "stream",
     "text": [
      "action 160.0\n",
      "mysterious 180.0\n",
      "drama 160.0\n",
      "sci fi 156.66666666666666\n",
      "romantic 150.0\n",
      "comedy 90.0\n"
     ]
    }
   ],
   "source": [
    "for genre in movies['genre'].unique():\n",
    "    print(genre,movies[movies['genre']==genre]['duration'].mean())"
   ]
  },
  {
   "cell_type": "code",
   "execution_count": 55,
   "id": "0a701e5f-71c2-4388-965b-00a4cea78ae5",
   "metadata": {
    "tags": []
   },
   "outputs": [
    {
     "data": {
      "text/plain": [
       "genre\n",
       "action        160.000000\n",
       "comedy         90.000000\n",
       "drama         160.000000\n",
       "mysterious    180.000000\n",
       "romantic      150.000000\n",
       "sci fi        156.666667\n",
       "Name: duration, dtype: float64"
      ]
     },
     "execution_count": 55,
     "metadata": {},
     "output_type": "execute_result"
    }
   ],
   "source": [
    "movies.groupby('genre')['duration'].mean()  # groupby is a panda lib. function"
   ]
  },
  {
   "cell_type": "code",
   "execution_count": 56,
   "id": "775b3892-aa54-4035-a997-8078d4daccb9",
   "metadata": {
    "tags": []
   },
   "outputs": [
    {
     "data": {
      "text/plain": [
       "genre       duration\n",
       "action      120         120.0\n",
       "            140         140.0\n",
       "            170         170.0\n",
       "            210         210.0\n",
       "comedy      10           10.0\n",
       "            120         120.0\n",
       "            140         140.0\n",
       "drama       150         150.0\n",
       "            180         180.0\n",
       "mysterious  180         180.0\n",
       "romantic    150         150.0\n",
       "sci fi      130         130.0\n",
       "            150         150.0\n",
       "            190         190.0\n",
       "Name: duration, dtype: float64"
      ]
     },
     "execution_count": 56,
     "metadata": {},
     "output_type": "execute_result"
    }
   ],
   "source": [
    "movies.groupby(['genre','duration'])['duration'].mean()  "
   ]
  },
  {
   "cell_type": "code",
   "execution_count": 57,
   "id": "6ff6e529-d2b6-4bc1-8902-3ea199c0a4c3",
   "metadata": {
    "tags": []
   },
   "outputs": [
    {
     "data": {
      "text/plain": [
       "duration  genre     \n",
       "10        comedy         10.0\n",
       "120       action        120.0\n",
       "          comedy        120.0\n",
       "130       sci fi        130.0\n",
       "140       action        140.0\n",
       "          comedy        140.0\n",
       "150       drama         150.0\n",
       "          romantic      150.0\n",
       "          sci fi        150.0\n",
       "170       action        170.0\n",
       "180       drama         180.0\n",
       "          mysterious    180.0\n",
       "190       sci fi        190.0\n",
       "210       action        210.0\n",
       "Name: duration, dtype: float64"
      ]
     },
     "execution_count": 57,
     "metadata": {},
     "output_type": "execute_result"
    }
   ],
   "source": [
    "movies.groupby(['duration','genre'])['duration'].mean()  "
   ]
  },
  {
   "cell_type": "code",
   "execution_count": 58,
   "id": "0fc8c78b-762b-4af0-8d54-cc8bd5f6d6d0",
   "metadata": {
    "tags": []
   },
   "outputs": [
    {
     "data": {
      "text/html": [
       "<div>\n",
       "<style scoped>\n",
       "    .dataframe tbody tr th:only-of-type {\n",
       "        vertical-align: middle;\n",
       "    }\n",
       "\n",
       "    .dataframe tbody tr th {\n",
       "        vertical-align: top;\n",
       "    }\n",
       "\n",
       "    .dataframe thead th {\n",
       "        text-align: right;\n",
       "    }\n",
       "</style>\n",
       "<table border=\"1\" class=\"dataframe\">\n",
       "  <thead>\n",
       "    <tr style=\"text-align: right;\">\n",
       "      <th></th>\n",
       "      <th>id</th>\n",
       "      <th>duration</th>\n",
       "      <th>rating</th>\n",
       "    </tr>\n",
       "  </thead>\n",
       "  <tbody>\n",
       "    <tr>\n",
       "      <th>count</th>\n",
       "      <td>15.000000</td>\n",
       "      <td>15.00000</td>\n",
       "      <td>15.000000</td>\n",
       "    </tr>\n",
       "    <tr>\n",
       "      <th>mean</th>\n",
       "      <td>8.000000</td>\n",
       "      <td>146.00000</td>\n",
       "      <td>7.833333</td>\n",
       "    </tr>\n",
       "    <tr>\n",
       "      <th>std</th>\n",
       "      <td>4.472136</td>\n",
       "      <td>45.63833</td>\n",
       "      <td>1.718249</td>\n",
       "    </tr>\n",
       "    <tr>\n",
       "      <th>min</th>\n",
       "      <td>1.000000</td>\n",
       "      <td>10.00000</td>\n",
       "      <td>5.000000</td>\n",
       "    </tr>\n",
       "    <tr>\n",
       "      <th>25%</th>\n",
       "      <td>4.500000</td>\n",
       "      <td>135.00000</td>\n",
       "      <td>6.500000</td>\n",
       "    </tr>\n",
       "    <tr>\n",
       "      <th>50%</th>\n",
       "      <td>8.000000</td>\n",
       "      <td>150.00000</td>\n",
       "      <td>8.500000</td>\n",
       "    </tr>\n",
       "    <tr>\n",
       "      <th>75%</th>\n",
       "      <td>11.500000</td>\n",
       "      <td>175.00000</td>\n",
       "      <td>9.000000</td>\n",
       "    </tr>\n",
       "    <tr>\n",
       "      <th>max</th>\n",
       "      <td>15.000000</td>\n",
       "      <td>210.00000</td>\n",
       "      <td>10.000000</td>\n",
       "    </tr>\n",
       "  </tbody>\n",
       "</table>\n",
       "</div>"
      ],
      "text/plain": [
       "              id   duration     rating\n",
       "count  15.000000   15.00000  15.000000\n",
       "mean    8.000000  146.00000   7.833333\n",
       "std     4.472136   45.63833   1.718249\n",
       "min     1.000000   10.00000   5.000000\n",
       "25%     4.500000  135.00000   6.500000\n",
       "50%     8.000000  150.00000   8.500000\n",
       "75%    11.500000  175.00000   9.000000\n",
       "max    15.000000  210.00000  10.000000"
      ]
     },
     "execution_count": 58,
     "metadata": {},
     "output_type": "execute_result"
    }
   ],
   "source": [
    "movies.describe()"
   ]
  },
  {
   "cell_type": "code",
   "execution_count": 59,
   "id": "2eb1936b-cf3f-420d-9771-ae953c8119bb",
   "metadata": {
    "tags": []
   },
   "outputs": [
    {
     "data": {
      "text/html": [
       "<div>\n",
       "<style scoped>\n",
       "    .dataframe tbody tr th:only-of-type {\n",
       "        vertical-align: middle;\n",
       "    }\n",
       "\n",
       "    .dataframe tbody tr th {\n",
       "        vertical-align: top;\n",
       "    }\n",
       "\n",
       "    .dataframe thead th {\n",
       "        text-align: right;\n",
       "    }\n",
       "</style>\n",
       "<table border=\"1\" class=\"dataframe\">\n",
       "  <thead>\n",
       "    <tr style=\"text-align: right;\">\n",
       "      <th></th>\n",
       "      <th>name</th>\n",
       "      <th>industry</th>\n",
       "      <th>genre</th>\n",
       "      <th>language</th>\n",
       "      <th>duration</th>\n",
       "      <th>rating</th>\n",
       "    </tr>\n",
       "  </thead>\n",
       "  <tbody>\n",
       "    <tr>\n",
       "      <th>0</th>\n",
       "      <td>bahubali</td>\n",
       "      <td>tollywood</td>\n",
       "      <td>action</td>\n",
       "      <td>telugu</td>\n",
       "      <td>170</td>\n",
       "      <td>9.5</td>\n",
       "    </tr>\n",
       "    <tr>\n",
       "      <th>1</th>\n",
       "      <td>brahmastra</td>\n",
       "      <td>bollywood</td>\n",
       "      <td>mysterious</td>\n",
       "      <td>hindi</td>\n",
       "      <td>180</td>\n",
       "      <td>5.0</td>\n",
       "    </tr>\n",
       "    <tr>\n",
       "      <th>2</th>\n",
       "      <td>uri</td>\n",
       "      <td>bollywoood</td>\n",
       "      <td>action</td>\n",
       "      <td>hindi</td>\n",
       "      <td>120</td>\n",
       "      <td>10.0</td>\n",
       "    </tr>\n",
       "    <tr>\n",
       "      <th>3</th>\n",
       "      <td>ddlj</td>\n",
       "      <td>bollywood</td>\n",
       "      <td>drama</td>\n",
       "      <td>hindi</td>\n",
       "      <td>150</td>\n",
       "      <td>10.0</td>\n",
       "    </tr>\n",
       "    <tr>\n",
       "      <th>4</th>\n",
       "      <td>avengers</td>\n",
       "      <td>hollywood</td>\n",
       "      <td>action</td>\n",
       "      <td>english</td>\n",
       "      <td>210</td>\n",
       "      <td>9.0</td>\n",
       "    </tr>\n",
       "    <tr>\n",
       "      <th>5</th>\n",
       "      <td>tenet</td>\n",
       "      <td>hollywood</td>\n",
       "      <td>sci fi</td>\n",
       "      <td>english</td>\n",
       "      <td>150</td>\n",
       "      <td>8.5</td>\n",
       "    </tr>\n",
       "    <tr>\n",
       "      <th>6</th>\n",
       "      <td>major</td>\n",
       "      <td>bollywood</td>\n",
       "      <td>action</td>\n",
       "      <td>hindi</td>\n",
       "      <td>140</td>\n",
       "      <td>8.0</td>\n",
       "    </tr>\n",
       "    <tr>\n",
       "      <th>7</th>\n",
       "      <td>interstellar</td>\n",
       "      <td>hollywood</td>\n",
       "      <td>sci fi</td>\n",
       "      <td>english</td>\n",
       "      <td>190</td>\n",
       "      <td>7.0</td>\n",
       "    </tr>\n",
       "    <tr>\n",
       "      <th>8</th>\n",
       "      <td>gravity</td>\n",
       "      <td>hollywood</td>\n",
       "      <td>sci fi</td>\n",
       "      <td>english</td>\n",
       "      <td>130</td>\n",
       "      <td>6.0</td>\n",
       "    </tr>\n",
       "    <tr>\n",
       "      <th>9</th>\n",
       "      <td>titanic</td>\n",
       "      <td>hollywood</td>\n",
       "      <td>drama</td>\n",
       "      <td>english</td>\n",
       "      <td>180</td>\n",
       "      <td>9.0</td>\n",
       "    </tr>\n",
       "    <tr>\n",
       "      <th>10</th>\n",
       "      <td>jawani</td>\n",
       "      <td>bollywood</td>\n",
       "      <td>romantic</td>\n",
       "      <td>hindi</td>\n",
       "      <td>150</td>\n",
       "      <td>5.0</td>\n",
       "    </tr>\n",
       "    <tr>\n",
       "      <th>11</th>\n",
       "      <td>houseful</td>\n",
       "      <td>bollywood</td>\n",
       "      <td>comedy</td>\n",
       "      <td>hindi</td>\n",
       "      <td>10</td>\n",
       "      <td>6.0</td>\n",
       "    </tr>\n",
       "    <tr>\n",
       "      <th>12</th>\n",
       "      <td>dictator</td>\n",
       "      <td>hollywood</td>\n",
       "      <td>comedy</td>\n",
       "      <td>english</td>\n",
       "      <td>120</td>\n",
       "      <td>7.0</td>\n",
       "    </tr>\n",
       "    <tr>\n",
       "      <th>13</th>\n",
       "      <td>hera pheri</td>\n",
       "      <td>bollywood</td>\n",
       "      <td>comedy</td>\n",
       "      <td>hindi</td>\n",
       "      <td>140</td>\n",
       "      <td>9.0</td>\n",
       "    </tr>\n",
       "    <tr>\n",
       "      <th>14</th>\n",
       "      <td>sholay</td>\n",
       "      <td>bollywood</td>\n",
       "      <td>drama</td>\n",
       "      <td>hindi</td>\n",
       "      <td>150</td>\n",
       "      <td>8.5</td>\n",
       "    </tr>\n",
       "  </tbody>\n",
       "</table>\n",
       "</div>"
      ],
      "text/plain": [
       "            name    industry       genre language  duration  rating\n",
       "0       bahubali   tollywood      action   telugu       170     9.5\n",
       "1     brahmastra   bollywood  mysterious    hindi       180     5.0\n",
       "2            uri  bollywoood      action    hindi       120    10.0\n",
       "3           ddlj   bollywood       drama    hindi       150    10.0\n",
       "4       avengers   hollywood      action  english       210     9.0\n",
       "5          tenet   hollywood      sci fi  english       150     8.5\n",
       "6          major   bollywood      action    hindi       140     8.0\n",
       "7   interstellar   hollywood      sci fi  english       190     7.0\n",
       "8        gravity   hollywood      sci fi  english       130     6.0\n",
       "9        titanic   hollywood       drama  english       180     9.0\n",
       "10        jawani   bollywood    romantic    hindi       150     5.0\n",
       "11      houseful   bollywood      comedy    hindi        10     6.0\n",
       "12      dictator   hollywood      comedy  english       120     7.0\n",
       "13    hera pheri   bollywood      comedy    hindi       140     9.0\n",
       "14        sholay   bollywood       drama    hindi       150     8.5"
      ]
     },
     "execution_count": 59,
     "metadata": {},
     "output_type": "execute_result"
    }
   ],
   "source": [
    "movies.drop('id',axis=1)"
   ]
  },
  {
   "cell_type": "code",
   "execution_count": 60,
   "id": "0ae75661-b8f9-4fda-b511-25b9c4e0a00e",
   "metadata": {
    "tags": []
   },
   "outputs": [
    {
     "data": {
      "text/html": [
       "<div>\n",
       "<style scoped>\n",
       "    .dataframe tbody tr th:only-of-type {\n",
       "        vertical-align: middle;\n",
       "    }\n",
       "\n",
       "    .dataframe tbody tr th {\n",
       "        vertical-align: top;\n",
       "    }\n",
       "\n",
       "    .dataframe thead th {\n",
       "        text-align: right;\n",
       "    }\n",
       "</style>\n",
       "<table border=\"1\" class=\"dataframe\">\n",
       "  <thead>\n",
       "    <tr style=\"text-align: right;\">\n",
       "      <th></th>\n",
       "      <th>id</th>\n",
       "      <th>name</th>\n",
       "      <th>industry</th>\n",
       "      <th>genre</th>\n",
       "      <th>language</th>\n",
       "      <th>duration</th>\n",
       "      <th>rating</th>\n",
       "    </tr>\n",
       "  </thead>\n",
       "  <tbody>\n",
       "    <tr>\n",
       "      <th>0</th>\n",
       "      <td>1</td>\n",
       "      <td>bahubali</td>\n",
       "      <td>tollywood</td>\n",
       "      <td>action</td>\n",
       "      <td>telugu</td>\n",
       "      <td>170</td>\n",
       "      <td>9.5</td>\n",
       "    </tr>\n",
       "    <tr>\n",
       "      <th>1</th>\n",
       "      <td>2</td>\n",
       "      <td>brahmastra</td>\n",
       "      <td>bollywood</td>\n",
       "      <td>mysterious</td>\n",
       "      <td>hindi</td>\n",
       "      <td>180</td>\n",
       "      <td>5.0</td>\n",
       "    </tr>\n",
       "    <tr>\n",
       "      <th>2</th>\n",
       "      <td>3</td>\n",
       "      <td>uri</td>\n",
       "      <td>bollywoood</td>\n",
       "      <td>action</td>\n",
       "      <td>hindi</td>\n",
       "      <td>120</td>\n",
       "      <td>10.0</td>\n",
       "    </tr>\n",
       "    <tr>\n",
       "      <th>3</th>\n",
       "      <td>4</td>\n",
       "      <td>ddlj</td>\n",
       "      <td>bollywood</td>\n",
       "      <td>drama</td>\n",
       "      <td>hindi</td>\n",
       "      <td>150</td>\n",
       "      <td>10.0</td>\n",
       "    </tr>\n",
       "    <tr>\n",
       "      <th>4</th>\n",
       "      <td>5</td>\n",
       "      <td>avengers</td>\n",
       "      <td>hollywood</td>\n",
       "      <td>action</td>\n",
       "      <td>english</td>\n",
       "      <td>210</td>\n",
       "      <td>9.0</td>\n",
       "    </tr>\n",
       "  </tbody>\n",
       "</table>\n",
       "</div>"
      ],
      "text/plain": [
       "   id        name    industry       genre language  duration  rating\n",
       "0   1    bahubali   tollywood      action   telugu       170     9.5\n",
       "1   2  brahmastra   bollywood  mysterious    hindi       180     5.0\n",
       "2   3         uri  bollywoood      action    hindi       120    10.0\n",
       "3   4        ddlj   bollywood       drama    hindi       150    10.0\n",
       "4   5    avengers   hollywood      action  english       210     9.0"
      ]
     },
     "execution_count": 60,
     "metadata": {},
     "output_type": "execute_result"
    }
   ],
   "source": [
    "movies.head()"
   ]
  },
  {
   "cell_type": "code",
   "execution_count": 61,
   "id": "2950340a-c33e-4d30-986c-e146ed5d7052",
   "metadata": {},
   "outputs": [],
   "source": [
    "# movies.drop('id',axis=1,inplace=True)"
   ]
  },
  {
   "cell_type": "code",
   "execution_count": 62,
   "id": "35cbea54-cb91-491a-b983-2fb6d84da091",
   "metadata": {
    "tags": []
   },
   "outputs": [
    {
     "data": {
      "text/html": [
       "<div>\n",
       "<style scoped>\n",
       "    .dataframe tbody tr th:only-of-type {\n",
       "        vertical-align: middle;\n",
       "    }\n",
       "\n",
       "    .dataframe tbody tr th {\n",
       "        vertical-align: top;\n",
       "    }\n",
       "\n",
       "    .dataframe thead th {\n",
       "        text-align: right;\n",
       "    }\n",
       "</style>\n",
       "<table border=\"1\" class=\"dataframe\">\n",
       "  <thead>\n",
       "    <tr style=\"text-align: right;\">\n",
       "      <th></th>\n",
       "      <th>id</th>\n",
       "      <th>name</th>\n",
       "      <th>industry</th>\n",
       "      <th>genre</th>\n",
       "      <th>language</th>\n",
       "      <th>duration</th>\n",
       "      <th>rating</th>\n",
       "    </tr>\n",
       "  </thead>\n",
       "  <tbody>\n",
       "    <tr>\n",
       "      <th>0</th>\n",
       "      <td>1</td>\n",
       "      <td>bahubali</td>\n",
       "      <td>tollywood</td>\n",
       "      <td>action</td>\n",
       "      <td>telugu</td>\n",
       "      <td>170</td>\n",
       "      <td>9.5</td>\n",
       "    </tr>\n",
       "    <tr>\n",
       "      <th>1</th>\n",
       "      <td>2</td>\n",
       "      <td>brahmastra</td>\n",
       "      <td>bollywood</td>\n",
       "      <td>mysterious</td>\n",
       "      <td>hindi</td>\n",
       "      <td>180</td>\n",
       "      <td>5.0</td>\n",
       "    </tr>\n",
       "    <tr>\n",
       "      <th>2</th>\n",
       "      <td>3</td>\n",
       "      <td>uri</td>\n",
       "      <td>bollywoood</td>\n",
       "      <td>action</td>\n",
       "      <td>hindi</td>\n",
       "      <td>120</td>\n",
       "      <td>10.0</td>\n",
       "    </tr>\n",
       "    <tr>\n",
       "      <th>3</th>\n",
       "      <td>4</td>\n",
       "      <td>ddlj</td>\n",
       "      <td>bollywood</td>\n",
       "      <td>drama</td>\n",
       "      <td>hindi</td>\n",
       "      <td>150</td>\n",
       "      <td>10.0</td>\n",
       "    </tr>\n",
       "    <tr>\n",
       "      <th>4</th>\n",
       "      <td>5</td>\n",
       "      <td>avengers</td>\n",
       "      <td>hollywood</td>\n",
       "      <td>action</td>\n",
       "      <td>english</td>\n",
       "      <td>210</td>\n",
       "      <td>9.0</td>\n",
       "    </tr>\n",
       "  </tbody>\n",
       "</table>\n",
       "</div>"
      ],
      "text/plain": [
       "   id        name    industry       genre language  duration  rating\n",
       "0   1    bahubali   tollywood      action   telugu       170     9.5\n",
       "1   2  brahmastra   bollywood  mysterious    hindi       180     5.0\n",
       "2   3         uri  bollywoood      action    hindi       120    10.0\n",
       "3   4        ddlj   bollywood       drama    hindi       150    10.0\n",
       "4   5    avengers   hollywood      action  english       210     9.0"
      ]
     },
     "execution_count": 62,
     "metadata": {},
     "output_type": "execute_result"
    }
   ],
   "source": [
    "movies.head()"
   ]
  },
  {
   "cell_type": "code",
   "execution_count": 63,
   "id": "8f8a7de0-964b-4b99-af97-d404b92f8117",
   "metadata": {},
   "outputs": [],
   "source": [
    "movies = pd.read_csv(r'Book1.csv',index_col= 0)"
   ]
  },
  {
   "cell_type": "code",
   "execution_count": 64,
   "id": "549d129a-fdf2-4ee6-aabf-02d7aa230978",
   "metadata": {
    "tags": []
   },
   "outputs": [
    {
     "data": {
      "text/html": [
       "<div>\n",
       "<style scoped>\n",
       "    .dataframe tbody tr th:only-of-type {\n",
       "        vertical-align: middle;\n",
       "    }\n",
       "\n",
       "    .dataframe tbody tr th {\n",
       "        vertical-align: top;\n",
       "    }\n",
       "\n",
       "    .dataframe thead th {\n",
       "        text-align: right;\n",
       "    }\n",
       "</style>\n",
       "<table border=\"1\" class=\"dataframe\">\n",
       "  <thead>\n",
       "    <tr style=\"text-align: right;\">\n",
       "      <th></th>\n",
       "      <th>name</th>\n",
       "      <th>industry</th>\n",
       "      <th>genre</th>\n",
       "      <th>language</th>\n",
       "      <th>duration</th>\n",
       "      <th>rating</th>\n",
       "    </tr>\n",
       "    <tr>\n",
       "      <th>id</th>\n",
       "      <th></th>\n",
       "      <th></th>\n",
       "      <th></th>\n",
       "      <th></th>\n",
       "      <th></th>\n",
       "      <th></th>\n",
       "    </tr>\n",
       "  </thead>\n",
       "  <tbody>\n",
       "    <tr>\n",
       "      <th>1</th>\n",
       "      <td>bahubali</td>\n",
       "      <td>tollywood</td>\n",
       "      <td>action</td>\n",
       "      <td>telugu</td>\n",
       "      <td>170</td>\n",
       "      <td>9.5</td>\n",
       "    </tr>\n",
       "    <tr>\n",
       "      <th>2</th>\n",
       "      <td>brahmastra</td>\n",
       "      <td>bollywood</td>\n",
       "      <td>mysterious</td>\n",
       "      <td>hindi</td>\n",
       "      <td>180</td>\n",
       "      <td>5.0</td>\n",
       "    </tr>\n",
       "    <tr>\n",
       "      <th>3</th>\n",
       "      <td>uri</td>\n",
       "      <td>bollywoood</td>\n",
       "      <td>action</td>\n",
       "      <td>hindi</td>\n",
       "      <td>120</td>\n",
       "      <td>10.0</td>\n",
       "    </tr>\n",
       "    <tr>\n",
       "      <th>4</th>\n",
       "      <td>ddlj</td>\n",
       "      <td>bollywood</td>\n",
       "      <td>drama</td>\n",
       "      <td>hindi</td>\n",
       "      <td>150</td>\n",
       "      <td>10.0</td>\n",
       "    </tr>\n",
       "    <tr>\n",
       "      <th>5</th>\n",
       "      <td>avengers</td>\n",
       "      <td>hollywood</td>\n",
       "      <td>action</td>\n",
       "      <td>english</td>\n",
       "      <td>210</td>\n",
       "      <td>9.0</td>\n",
       "    </tr>\n",
       "    <tr>\n",
       "      <th>6</th>\n",
       "      <td>tenet</td>\n",
       "      <td>hollywood</td>\n",
       "      <td>sci fi</td>\n",
       "      <td>english</td>\n",
       "      <td>150</td>\n",
       "      <td>8.5</td>\n",
       "    </tr>\n",
       "    <tr>\n",
       "      <th>7</th>\n",
       "      <td>major</td>\n",
       "      <td>bollywood</td>\n",
       "      <td>action</td>\n",
       "      <td>hindi</td>\n",
       "      <td>140</td>\n",
       "      <td>8.0</td>\n",
       "    </tr>\n",
       "    <tr>\n",
       "      <th>8</th>\n",
       "      <td>interstellar</td>\n",
       "      <td>hollywood</td>\n",
       "      <td>sci fi</td>\n",
       "      <td>english</td>\n",
       "      <td>190</td>\n",
       "      <td>7.0</td>\n",
       "    </tr>\n",
       "    <tr>\n",
       "      <th>9</th>\n",
       "      <td>gravity</td>\n",
       "      <td>hollywood</td>\n",
       "      <td>sci fi</td>\n",
       "      <td>english</td>\n",
       "      <td>130</td>\n",
       "      <td>6.0</td>\n",
       "    </tr>\n",
       "    <tr>\n",
       "      <th>10</th>\n",
       "      <td>titanic</td>\n",
       "      <td>hollywood</td>\n",
       "      <td>drama</td>\n",
       "      <td>english</td>\n",
       "      <td>180</td>\n",
       "      <td>9.0</td>\n",
       "    </tr>\n",
       "    <tr>\n",
       "      <th>11</th>\n",
       "      <td>jawani</td>\n",
       "      <td>bollywood</td>\n",
       "      <td>romantic</td>\n",
       "      <td>hindi</td>\n",
       "      <td>150</td>\n",
       "      <td>5.0</td>\n",
       "    </tr>\n",
       "    <tr>\n",
       "      <th>12</th>\n",
       "      <td>houseful</td>\n",
       "      <td>bollywood</td>\n",
       "      <td>comedy</td>\n",
       "      <td>hindi</td>\n",
       "      <td>10</td>\n",
       "      <td>6.0</td>\n",
       "    </tr>\n",
       "    <tr>\n",
       "      <th>13</th>\n",
       "      <td>dictator</td>\n",
       "      <td>hollywood</td>\n",
       "      <td>comedy</td>\n",
       "      <td>english</td>\n",
       "      <td>120</td>\n",
       "      <td>7.0</td>\n",
       "    </tr>\n",
       "    <tr>\n",
       "      <th>14</th>\n",
       "      <td>hera pheri</td>\n",
       "      <td>bollywood</td>\n",
       "      <td>comedy</td>\n",
       "      <td>hindi</td>\n",
       "      <td>140</td>\n",
       "      <td>9.0</td>\n",
       "    </tr>\n",
       "    <tr>\n",
       "      <th>15</th>\n",
       "      <td>sholay</td>\n",
       "      <td>bollywood</td>\n",
       "      <td>drama</td>\n",
       "      <td>hindi</td>\n",
       "      <td>150</td>\n",
       "      <td>8.5</td>\n",
       "    </tr>\n",
       "  </tbody>\n",
       "</table>\n",
       "</div>"
      ],
      "text/plain": [
       "            name    industry       genre language  duration  rating\n",
       "id                                                                 \n",
       "1       bahubali   tollywood      action   telugu       170     9.5\n",
       "2     brahmastra   bollywood  mysterious    hindi       180     5.0\n",
       "3            uri  bollywoood      action    hindi       120    10.0\n",
       "4           ddlj   bollywood       drama    hindi       150    10.0\n",
       "5       avengers   hollywood      action  english       210     9.0\n",
       "6          tenet   hollywood      sci fi  english       150     8.5\n",
       "7          major   bollywood      action    hindi       140     8.0\n",
       "8   interstellar   hollywood      sci fi  english       190     7.0\n",
       "9        gravity   hollywood      sci fi  english       130     6.0\n",
       "10       titanic   hollywood       drama  english       180     9.0\n",
       "11        jawani   bollywood    romantic    hindi       150     5.0\n",
       "12      houseful   bollywood      comedy    hindi        10     6.0\n",
       "13      dictator   hollywood      comedy  english       120     7.0\n",
       "14    hera pheri   bollywood      comedy    hindi       140     9.0\n",
       "15        sholay   bollywood       drama    hindi       150     8.5"
      ]
     },
     "execution_count": 64,
     "metadata": {},
     "output_type": "execute_result"
    }
   ],
   "source": [
    "movies"
   ]
  },
  {
   "cell_type": "code",
   "execution_count": 65,
   "id": "da7dbbda-37e8-4643-9fb5-ffc95a26aaf9",
   "metadata": {
    "tags": []
   },
   "outputs": [
    {
     "data": {
      "text/html": [
       "<div>\n",
       "<style scoped>\n",
       "    .dataframe tbody tr th:only-of-type {\n",
       "        vertical-align: middle;\n",
       "    }\n",
       "\n",
       "    .dataframe tbody tr th {\n",
       "        vertical-align: top;\n",
       "    }\n",
       "\n",
       "    .dataframe thead th {\n",
       "        text-align: right;\n",
       "    }\n",
       "</style>\n",
       "<table border=\"1\" class=\"dataframe\">\n",
       "  <thead>\n",
       "    <tr style=\"text-align: right;\">\n",
       "      <th></th>\n",
       "      <th>name</th>\n",
       "      <th>industry</th>\n",
       "      <th>genre</th>\n",
       "      <th>language</th>\n",
       "      <th>duration</th>\n",
       "      <th>rating</th>\n",
       "    </tr>\n",
       "    <tr>\n",
       "      <th>id</th>\n",
       "      <th></th>\n",
       "      <th></th>\n",
       "      <th></th>\n",
       "      <th></th>\n",
       "      <th></th>\n",
       "      <th></th>\n",
       "    </tr>\n",
       "  </thead>\n",
       "  <tbody>\n",
       "    <tr>\n",
       "      <th>11</th>\n",
       "      <td>jawani</td>\n",
       "      <td>bollywood</td>\n",
       "      <td>romantic</td>\n",
       "      <td>hindi</td>\n",
       "      <td>150</td>\n",
       "      <td>5.0</td>\n",
       "    </tr>\n",
       "    <tr>\n",
       "      <th>8</th>\n",
       "      <td>interstellar</td>\n",
       "      <td>hollywood</td>\n",
       "      <td>sci fi</td>\n",
       "      <td>english</td>\n",
       "      <td>190</td>\n",
       "      <td>7.0</td>\n",
       "    </tr>\n",
       "    <tr>\n",
       "      <th>10</th>\n",
       "      <td>titanic</td>\n",
       "      <td>hollywood</td>\n",
       "      <td>drama</td>\n",
       "      <td>english</td>\n",
       "      <td>180</td>\n",
       "      <td>9.0</td>\n",
       "    </tr>\n",
       "  </tbody>\n",
       "</table>\n",
       "</div>"
      ],
      "text/plain": [
       "            name   industry     genre language  duration  rating\n",
       "id                                                              \n",
       "11        jawani  bollywood  romantic    hindi       150     5.0\n",
       "8   interstellar  hollywood    sci fi  english       190     7.0\n",
       "10       titanic  hollywood     drama  english       180     9.0"
      ]
     },
     "execution_count": 65,
     "metadata": {},
     "output_type": "execute_result"
    }
   ],
   "source": [
    "movies.sample(3)"
   ]
  },
  {
   "cell_type": "code",
   "execution_count": 66,
   "id": "fcb8191f-d1ed-4a4f-9404-542592203da4",
   "metadata": {
    "tags": []
   },
   "outputs": [
    {
     "name": "stdout",
     "output_type": "stream",
     "text": [
      "<class 'pandas.core.frame.DataFrame'>\n",
      "Int64Index: 15 entries, 1 to 15\n",
      "Data columns (total 6 columns):\n",
      " #   Column    Non-Null Count  Dtype  \n",
      "---  ------    --------------  -----  \n",
      " 0   name      15 non-null     object \n",
      " 1   industry  15 non-null     object \n",
      " 2   genre     15 non-null     object \n",
      " 3   language  15 non-null     object \n",
      " 4   duration  15 non-null     int64  \n",
      " 5   rating    15 non-null     float64\n",
      "dtypes: float64(1), int64(1), object(4)\n",
      "memory usage: 840.0+ bytes\n"
     ]
    }
   ],
   "source": [
    "movies.info()"
   ]
  },
  {
   "cell_type": "code",
   "execution_count": 67,
   "id": "0347af98-ff46-4ec3-8e84-ba370963b87b",
   "metadata": {
    "tags": []
   },
   "outputs": [
    {
     "data": {
      "text/html": [
       "<div>\n",
       "<style scoped>\n",
       "    .dataframe tbody tr th:only-of-type {\n",
       "        vertical-align: middle;\n",
       "    }\n",
       "\n",
       "    .dataframe tbody tr th {\n",
       "        vertical-align: top;\n",
       "    }\n",
       "\n",
       "    .dataframe thead th {\n",
       "        text-align: right;\n",
       "    }\n",
       "</style>\n",
       "<table border=\"1\" class=\"dataframe\">\n",
       "  <thead>\n",
       "    <tr style=\"text-align: right;\">\n",
       "      <th></th>\n",
       "      <th>name</th>\n",
       "      <th>industry</th>\n",
       "      <th>genre</th>\n",
       "      <th>language</th>\n",
       "      <th>duration</th>\n",
       "      <th>rating</th>\n",
       "    </tr>\n",
       "  </thead>\n",
       "  <tbody>\n",
       "    <tr>\n",
       "      <th>count</th>\n",
       "      <td>15</td>\n",
       "      <td>15</td>\n",
       "      <td>15</td>\n",
       "      <td>15</td>\n",
       "      <td>15.00000</td>\n",
       "      <td>15.000000</td>\n",
       "    </tr>\n",
       "    <tr>\n",
       "      <th>unique</th>\n",
       "      <td>15</td>\n",
       "      <td>4</td>\n",
       "      <td>6</td>\n",
       "      <td>3</td>\n",
       "      <td>NaN</td>\n",
       "      <td>NaN</td>\n",
       "    </tr>\n",
       "    <tr>\n",
       "      <th>top</th>\n",
       "      <td>bahubali</td>\n",
       "      <td>bollywood</td>\n",
       "      <td>action</td>\n",
       "      <td>hindi</td>\n",
       "      <td>NaN</td>\n",
       "      <td>NaN</td>\n",
       "    </tr>\n",
       "    <tr>\n",
       "      <th>freq</th>\n",
       "      <td>1</td>\n",
       "      <td>7</td>\n",
       "      <td>4</td>\n",
       "      <td>8</td>\n",
       "      <td>NaN</td>\n",
       "      <td>NaN</td>\n",
       "    </tr>\n",
       "    <tr>\n",
       "      <th>mean</th>\n",
       "      <td>NaN</td>\n",
       "      <td>NaN</td>\n",
       "      <td>NaN</td>\n",
       "      <td>NaN</td>\n",
       "      <td>146.00000</td>\n",
       "      <td>7.833333</td>\n",
       "    </tr>\n",
       "    <tr>\n",
       "      <th>std</th>\n",
       "      <td>NaN</td>\n",
       "      <td>NaN</td>\n",
       "      <td>NaN</td>\n",
       "      <td>NaN</td>\n",
       "      <td>45.63833</td>\n",
       "      <td>1.718249</td>\n",
       "    </tr>\n",
       "    <tr>\n",
       "      <th>min</th>\n",
       "      <td>NaN</td>\n",
       "      <td>NaN</td>\n",
       "      <td>NaN</td>\n",
       "      <td>NaN</td>\n",
       "      <td>10.00000</td>\n",
       "      <td>5.000000</td>\n",
       "    </tr>\n",
       "    <tr>\n",
       "      <th>25%</th>\n",
       "      <td>NaN</td>\n",
       "      <td>NaN</td>\n",
       "      <td>NaN</td>\n",
       "      <td>NaN</td>\n",
       "      <td>135.00000</td>\n",
       "      <td>6.500000</td>\n",
       "    </tr>\n",
       "    <tr>\n",
       "      <th>50%</th>\n",
       "      <td>NaN</td>\n",
       "      <td>NaN</td>\n",
       "      <td>NaN</td>\n",
       "      <td>NaN</td>\n",
       "      <td>150.00000</td>\n",
       "      <td>8.500000</td>\n",
       "    </tr>\n",
       "    <tr>\n",
       "      <th>75%</th>\n",
       "      <td>NaN</td>\n",
       "      <td>NaN</td>\n",
       "      <td>NaN</td>\n",
       "      <td>NaN</td>\n",
       "      <td>175.00000</td>\n",
       "      <td>9.000000</td>\n",
       "    </tr>\n",
       "    <tr>\n",
       "      <th>max</th>\n",
       "      <td>NaN</td>\n",
       "      <td>NaN</td>\n",
       "      <td>NaN</td>\n",
       "      <td>NaN</td>\n",
       "      <td>210.00000</td>\n",
       "      <td>10.000000</td>\n",
       "    </tr>\n",
       "  </tbody>\n",
       "</table>\n",
       "</div>"
      ],
      "text/plain": [
       "            name   industry   genre language   duration     rating\n",
       "count         15         15      15       15   15.00000  15.000000\n",
       "unique        15          4       6        3        NaN        NaN\n",
       "top     bahubali  bollywood  action    hindi        NaN        NaN\n",
       "freq           1          7       4        8        NaN        NaN\n",
       "mean         NaN        NaN     NaN      NaN  146.00000   7.833333\n",
       "std          NaN        NaN     NaN      NaN   45.63833   1.718249\n",
       "min          NaN        NaN     NaN      NaN   10.00000   5.000000\n",
       "25%          NaN        NaN     NaN      NaN  135.00000   6.500000\n",
       "50%          NaN        NaN     NaN      NaN  150.00000   8.500000\n",
       "75%          NaN        NaN     NaN      NaN  175.00000   9.000000\n",
       "max          NaN        NaN     NaN      NaN  210.00000  10.000000"
      ]
     },
     "execution_count": 67,
     "metadata": {},
     "output_type": "execute_result"
    }
   ],
   "source": [
    "movies.describe(include='all')"
   ]
  },
  {
   "cell_type": "code",
   "execution_count": 68,
   "id": "d078e070-6782-479a-a5df-51e1da0233fd",
   "metadata": {
    "tags": []
   },
   "outputs": [
    {
     "data": {
      "text/html": [
       "<div>\n",
       "<style scoped>\n",
       "    .dataframe tbody tr th:only-of-type {\n",
       "        vertical-align: middle;\n",
       "    }\n",
       "\n",
       "    .dataframe tbody tr th {\n",
       "        vertical-align: top;\n",
       "    }\n",
       "\n",
       "    .dataframe thead tr th {\n",
       "        text-align: left;\n",
       "    }\n",
       "\n",
       "    .dataframe thead tr:last-of-type th {\n",
       "        text-align: right;\n",
       "    }\n",
       "</style>\n",
       "<table border=\"1\" class=\"dataframe\">\n",
       "  <thead>\n",
       "    <tr>\n",
       "      <th></th>\n",
       "      <th colspan=\"8\" halign=\"left\">duration</th>\n",
       "      <th colspan=\"8\" halign=\"left\">rating</th>\n",
       "    </tr>\n",
       "    <tr>\n",
       "      <th></th>\n",
       "      <th>count</th>\n",
       "      <th>mean</th>\n",
       "      <th>std</th>\n",
       "      <th>min</th>\n",
       "      <th>25%</th>\n",
       "      <th>50%</th>\n",
       "      <th>75%</th>\n",
       "      <th>max</th>\n",
       "      <th>count</th>\n",
       "      <th>mean</th>\n",
       "      <th>std</th>\n",
       "      <th>min</th>\n",
       "      <th>25%</th>\n",
       "      <th>50%</th>\n",
       "      <th>75%</th>\n",
       "      <th>max</th>\n",
       "    </tr>\n",
       "    <tr>\n",
       "      <th>industry</th>\n",
       "      <th></th>\n",
       "      <th></th>\n",
       "      <th></th>\n",
       "      <th></th>\n",
       "      <th></th>\n",
       "      <th></th>\n",
       "      <th></th>\n",
       "      <th></th>\n",
       "      <th></th>\n",
       "      <th></th>\n",
       "      <th></th>\n",
       "      <th></th>\n",
       "      <th></th>\n",
       "      <th></th>\n",
       "      <th></th>\n",
       "      <th></th>\n",
       "    </tr>\n",
       "  </thead>\n",
       "  <tbody>\n",
       "    <tr>\n",
       "      <th>bollywood</th>\n",
       "      <td>7.0</td>\n",
       "      <td>131.428571</td>\n",
       "      <td>55.205245</td>\n",
       "      <td>10.0</td>\n",
       "      <td>140.0</td>\n",
       "      <td>150.0</td>\n",
       "      <td>150.0</td>\n",
       "      <td>180.0</td>\n",
       "      <td>7.0</td>\n",
       "      <td>7.357143</td>\n",
       "      <td>2.014826</td>\n",
       "      <td>5.0</td>\n",
       "      <td>5.5</td>\n",
       "      <td>8.00</td>\n",
       "      <td>8.750</td>\n",
       "      <td>10.0</td>\n",
       "    </tr>\n",
       "    <tr>\n",
       "      <th>bollywoood</th>\n",
       "      <td>1.0</td>\n",
       "      <td>120.000000</td>\n",
       "      <td>NaN</td>\n",
       "      <td>120.0</td>\n",
       "      <td>120.0</td>\n",
       "      <td>120.0</td>\n",
       "      <td>120.0</td>\n",
       "      <td>120.0</td>\n",
       "      <td>1.0</td>\n",
       "      <td>10.000000</td>\n",
       "      <td>NaN</td>\n",
       "      <td>10.0</td>\n",
       "      <td>10.0</td>\n",
       "      <td>10.00</td>\n",
       "      <td>10.000</td>\n",
       "      <td>10.0</td>\n",
       "    </tr>\n",
       "    <tr>\n",
       "      <th>hollywood</th>\n",
       "      <td>6.0</td>\n",
       "      <td>163.333333</td>\n",
       "      <td>35.590261</td>\n",
       "      <td>120.0</td>\n",
       "      <td>135.0</td>\n",
       "      <td>165.0</td>\n",
       "      <td>187.5</td>\n",
       "      <td>210.0</td>\n",
       "      <td>6.0</td>\n",
       "      <td>7.750000</td>\n",
       "      <td>1.254990</td>\n",
       "      <td>6.0</td>\n",
       "      <td>7.0</td>\n",
       "      <td>7.75</td>\n",
       "      <td>8.875</td>\n",
       "      <td>9.0</td>\n",
       "    </tr>\n",
       "    <tr>\n",
       "      <th>tollywood</th>\n",
       "      <td>1.0</td>\n",
       "      <td>170.000000</td>\n",
       "      <td>NaN</td>\n",
       "      <td>170.0</td>\n",
       "      <td>170.0</td>\n",
       "      <td>170.0</td>\n",
       "      <td>170.0</td>\n",
       "      <td>170.0</td>\n",
       "      <td>1.0</td>\n",
       "      <td>9.500000</td>\n",
       "      <td>NaN</td>\n",
       "      <td>9.5</td>\n",
       "      <td>9.5</td>\n",
       "      <td>9.50</td>\n",
       "      <td>9.500</td>\n",
       "      <td>9.5</td>\n",
       "    </tr>\n",
       "  </tbody>\n",
       "</table>\n",
       "</div>"
      ],
      "text/plain": [
       "           duration                                                            \\\n",
       "              count        mean        std    min    25%    50%    75%    max   \n",
       "industry                                                                        \n",
       "bollywood       7.0  131.428571  55.205245   10.0  140.0  150.0  150.0  180.0   \n",
       "bollywoood      1.0  120.000000        NaN  120.0  120.0  120.0  120.0  120.0   \n",
       "hollywood       6.0  163.333333  35.590261  120.0  135.0  165.0  187.5  210.0   \n",
       "tollywood       1.0  170.000000        NaN  170.0  170.0  170.0  170.0  170.0   \n",
       "\n",
       "           rating                                                        \n",
       "            count       mean       std   min   25%    50%     75%   max  \n",
       "industry                                                                 \n",
       "bollywood     7.0   7.357143  2.014826   5.0   5.5   8.00   8.750  10.0  \n",
       "bollywoood    1.0  10.000000       NaN  10.0  10.0  10.00  10.000  10.0  \n",
       "hollywood     6.0   7.750000  1.254990   6.0   7.0   7.75   8.875   9.0  \n",
       "tollywood     1.0   9.500000       NaN   9.5   9.5   9.50   9.500   9.5  "
      ]
     },
     "execution_count": 68,
     "metadata": {},
     "output_type": "execute_result"
    }
   ],
   "source": [
    "movies.groupby('industry').describe()"
   ]
  },
  {
   "cell_type": "code",
   "execution_count": 69,
   "id": "48fb83c6-a84d-486c-b275-33b49163d77c",
   "metadata": {
    "tags": []
   },
   "outputs": [
    {
     "data": {
      "text/html": [
       "<div>\n",
       "<style scoped>\n",
       "    .dataframe tbody tr th:only-of-type {\n",
       "        vertical-align: middle;\n",
       "    }\n",
       "\n",
       "    .dataframe tbody tr th {\n",
       "        vertical-align: top;\n",
       "    }\n",
       "\n",
       "    .dataframe thead th {\n",
       "        text-align: right;\n",
       "    }\n",
       "</style>\n",
       "<table border=\"1\" class=\"dataframe\">\n",
       "  <thead>\n",
       "    <tr style=\"text-align: right;\">\n",
       "      <th></th>\n",
       "      <th>industry</th>\n",
       "      <th>bollywood</th>\n",
       "      <th>bollywoood</th>\n",
       "      <th>hollywood</th>\n",
       "      <th>tollywood</th>\n",
       "    </tr>\n",
       "  </thead>\n",
       "  <tbody>\n",
       "    <tr>\n",
       "      <th rowspan=\"8\" valign=\"top\">duration</th>\n",
       "      <th>count</th>\n",
       "      <td>7.000000</td>\n",
       "      <td>1.0</td>\n",
       "      <td>6.000000</td>\n",
       "      <td>1.0</td>\n",
       "    </tr>\n",
       "    <tr>\n",
       "      <th>mean</th>\n",
       "      <td>131.428571</td>\n",
       "      <td>120.0</td>\n",
       "      <td>163.333333</td>\n",
       "      <td>170.0</td>\n",
       "    </tr>\n",
       "    <tr>\n",
       "      <th>std</th>\n",
       "      <td>55.205245</td>\n",
       "      <td>NaN</td>\n",
       "      <td>35.590261</td>\n",
       "      <td>NaN</td>\n",
       "    </tr>\n",
       "    <tr>\n",
       "      <th>min</th>\n",
       "      <td>10.000000</td>\n",
       "      <td>120.0</td>\n",
       "      <td>120.000000</td>\n",
       "      <td>170.0</td>\n",
       "    </tr>\n",
       "    <tr>\n",
       "      <th>25%</th>\n",
       "      <td>140.000000</td>\n",
       "      <td>120.0</td>\n",
       "      <td>135.000000</td>\n",
       "      <td>170.0</td>\n",
       "    </tr>\n",
       "    <tr>\n",
       "      <th>50%</th>\n",
       "      <td>150.000000</td>\n",
       "      <td>120.0</td>\n",
       "      <td>165.000000</td>\n",
       "      <td>170.0</td>\n",
       "    </tr>\n",
       "    <tr>\n",
       "      <th>75%</th>\n",
       "      <td>150.000000</td>\n",
       "      <td>120.0</td>\n",
       "      <td>187.500000</td>\n",
       "      <td>170.0</td>\n",
       "    </tr>\n",
       "    <tr>\n",
       "      <th>max</th>\n",
       "      <td>180.000000</td>\n",
       "      <td>120.0</td>\n",
       "      <td>210.000000</td>\n",
       "      <td>170.0</td>\n",
       "    </tr>\n",
       "    <tr>\n",
       "      <th rowspan=\"8\" valign=\"top\">rating</th>\n",
       "      <th>count</th>\n",
       "      <td>7.000000</td>\n",
       "      <td>1.0</td>\n",
       "      <td>6.000000</td>\n",
       "      <td>1.0</td>\n",
       "    </tr>\n",
       "    <tr>\n",
       "      <th>mean</th>\n",
       "      <td>7.357143</td>\n",
       "      <td>10.0</td>\n",
       "      <td>7.750000</td>\n",
       "      <td>9.5</td>\n",
       "    </tr>\n",
       "    <tr>\n",
       "      <th>std</th>\n",
       "      <td>2.014826</td>\n",
       "      <td>NaN</td>\n",
       "      <td>1.254990</td>\n",
       "      <td>NaN</td>\n",
       "    </tr>\n",
       "    <tr>\n",
       "      <th>min</th>\n",
       "      <td>5.000000</td>\n",
       "      <td>10.0</td>\n",
       "      <td>6.000000</td>\n",
       "      <td>9.5</td>\n",
       "    </tr>\n",
       "    <tr>\n",
       "      <th>25%</th>\n",
       "      <td>5.500000</td>\n",
       "      <td>10.0</td>\n",
       "      <td>7.000000</td>\n",
       "      <td>9.5</td>\n",
       "    </tr>\n",
       "    <tr>\n",
       "      <th>50%</th>\n",
       "      <td>8.000000</td>\n",
       "      <td>10.0</td>\n",
       "      <td>7.750000</td>\n",
       "      <td>9.5</td>\n",
       "    </tr>\n",
       "    <tr>\n",
       "      <th>75%</th>\n",
       "      <td>8.750000</td>\n",
       "      <td>10.0</td>\n",
       "      <td>8.875000</td>\n",
       "      <td>9.5</td>\n",
       "    </tr>\n",
       "    <tr>\n",
       "      <th>max</th>\n",
       "      <td>10.000000</td>\n",
       "      <td>10.0</td>\n",
       "      <td>9.000000</td>\n",
       "      <td>9.5</td>\n",
       "    </tr>\n",
       "  </tbody>\n",
       "</table>\n",
       "</div>"
      ],
      "text/plain": [
       "industry         bollywood  bollywoood   hollywood  tollywood\n",
       "duration count    7.000000         1.0    6.000000        1.0\n",
       "         mean   131.428571       120.0  163.333333      170.0\n",
       "         std     55.205245         NaN   35.590261        NaN\n",
       "         min     10.000000       120.0  120.000000      170.0\n",
       "         25%    140.000000       120.0  135.000000      170.0\n",
       "         50%    150.000000       120.0  165.000000      170.0\n",
       "         75%    150.000000       120.0  187.500000      170.0\n",
       "         max    180.000000       120.0  210.000000      170.0\n",
       "rating   count    7.000000         1.0    6.000000        1.0\n",
       "         mean     7.357143        10.0    7.750000        9.5\n",
       "         std      2.014826         NaN    1.254990        NaN\n",
       "         min      5.000000        10.0    6.000000        9.5\n",
       "         25%      5.500000        10.0    7.000000        9.5\n",
       "         50%      8.000000        10.0    7.750000        9.5\n",
       "         75%      8.750000        10.0    8.875000        9.5\n",
       "         max     10.000000        10.0    9.000000        9.5"
      ]
     },
     "execution_count": 69,
     "metadata": {},
     "output_type": "execute_result"
    }
   ],
   "source": [
    "movies.groupby('industry').describe().T # for taking transpose of a data table"
   ]
  },
  {
   "cell_type": "code",
   "execution_count": 70,
   "id": "8b111232-035e-47c3-add1-454b1ae1457e",
   "metadata": {
    "tags": []
   },
   "outputs": [
    {
     "data": {
      "text/html": [
       "<div>\n",
       "<style scoped>\n",
       "    .dataframe tbody tr th:only-of-type {\n",
       "        vertical-align: middle;\n",
       "    }\n",
       "\n",
       "    .dataframe tbody tr th {\n",
       "        vertical-align: top;\n",
       "    }\n",
       "\n",
       "    .dataframe thead tr th {\n",
       "        text-align: left;\n",
       "    }\n",
       "\n",
       "    .dataframe thead tr:last-of-type th {\n",
       "        text-align: right;\n",
       "    }\n",
       "</style>\n",
       "<table border=\"1\" class=\"dataframe\">\n",
       "  <thead>\n",
       "    <tr>\n",
       "      <th></th>\n",
       "      <th></th>\n",
       "      <th colspan=\"8\" halign=\"left\">duration</th>\n",
       "      <th colspan=\"8\" halign=\"left\">rating</th>\n",
       "    </tr>\n",
       "    <tr>\n",
       "      <th></th>\n",
       "      <th></th>\n",
       "      <th>count</th>\n",
       "      <th>mean</th>\n",
       "      <th>std</th>\n",
       "      <th>min</th>\n",
       "      <th>25%</th>\n",
       "      <th>50%</th>\n",
       "      <th>75%</th>\n",
       "      <th>max</th>\n",
       "      <th>count</th>\n",
       "      <th>mean</th>\n",
       "      <th>std</th>\n",
       "      <th>min</th>\n",
       "      <th>25%</th>\n",
       "      <th>50%</th>\n",
       "      <th>75%</th>\n",
       "      <th>max</th>\n",
       "    </tr>\n",
       "    <tr>\n",
       "      <th>industry</th>\n",
       "      <th>genre</th>\n",
       "      <th></th>\n",
       "      <th></th>\n",
       "      <th></th>\n",
       "      <th></th>\n",
       "      <th></th>\n",
       "      <th></th>\n",
       "      <th></th>\n",
       "      <th></th>\n",
       "      <th></th>\n",
       "      <th></th>\n",
       "      <th></th>\n",
       "      <th></th>\n",
       "      <th></th>\n",
       "      <th></th>\n",
       "      <th></th>\n",
       "      <th></th>\n",
       "    </tr>\n",
       "  </thead>\n",
       "  <tbody>\n",
       "    <tr>\n",
       "      <th rowspan=\"5\" valign=\"top\">bollywood</th>\n",
       "      <th>action</th>\n",
       "      <td>1.0</td>\n",
       "      <td>140.000000</td>\n",
       "      <td>NaN</td>\n",
       "      <td>140.0</td>\n",
       "      <td>140.0</td>\n",
       "      <td>140.0</td>\n",
       "      <td>140.0</td>\n",
       "      <td>140.0</td>\n",
       "      <td>1.0</td>\n",
       "      <td>8.000000</td>\n",
       "      <td>NaN</td>\n",
       "      <td>8.0</td>\n",
       "      <td>8.000</td>\n",
       "      <td>8.00</td>\n",
       "      <td>8.000</td>\n",
       "      <td>8.0</td>\n",
       "    </tr>\n",
       "    <tr>\n",
       "      <th>comedy</th>\n",
       "      <td>2.0</td>\n",
       "      <td>75.000000</td>\n",
       "      <td>91.923882</td>\n",
       "      <td>10.0</td>\n",
       "      <td>42.5</td>\n",
       "      <td>75.0</td>\n",
       "      <td>107.5</td>\n",
       "      <td>140.0</td>\n",
       "      <td>2.0</td>\n",
       "      <td>7.500000</td>\n",
       "      <td>2.121320</td>\n",
       "      <td>6.0</td>\n",
       "      <td>6.750</td>\n",
       "      <td>7.50</td>\n",
       "      <td>8.250</td>\n",
       "      <td>9.0</td>\n",
       "    </tr>\n",
       "    <tr>\n",
       "      <th>drama</th>\n",
       "      <td>2.0</td>\n",
       "      <td>150.000000</td>\n",
       "      <td>0.000000</td>\n",
       "      <td>150.0</td>\n",
       "      <td>150.0</td>\n",
       "      <td>150.0</td>\n",
       "      <td>150.0</td>\n",
       "      <td>150.0</td>\n",
       "      <td>2.0</td>\n",
       "      <td>9.250000</td>\n",
       "      <td>1.060660</td>\n",
       "      <td>8.5</td>\n",
       "      <td>8.875</td>\n",
       "      <td>9.25</td>\n",
       "      <td>9.625</td>\n",
       "      <td>10.0</td>\n",
       "    </tr>\n",
       "    <tr>\n",
       "      <th>mysterious</th>\n",
       "      <td>1.0</td>\n",
       "      <td>180.000000</td>\n",
       "      <td>NaN</td>\n",
       "      <td>180.0</td>\n",
       "      <td>180.0</td>\n",
       "      <td>180.0</td>\n",
       "      <td>180.0</td>\n",
       "      <td>180.0</td>\n",
       "      <td>1.0</td>\n",
       "      <td>5.000000</td>\n",
       "      <td>NaN</td>\n",
       "      <td>5.0</td>\n",
       "      <td>5.000</td>\n",
       "      <td>5.00</td>\n",
       "      <td>5.000</td>\n",
       "      <td>5.0</td>\n",
       "    </tr>\n",
       "    <tr>\n",
       "      <th>romantic</th>\n",
       "      <td>1.0</td>\n",
       "      <td>150.000000</td>\n",
       "      <td>NaN</td>\n",
       "      <td>150.0</td>\n",
       "      <td>150.0</td>\n",
       "      <td>150.0</td>\n",
       "      <td>150.0</td>\n",
       "      <td>150.0</td>\n",
       "      <td>1.0</td>\n",
       "      <td>5.000000</td>\n",
       "      <td>NaN</td>\n",
       "      <td>5.0</td>\n",
       "      <td>5.000</td>\n",
       "      <td>5.00</td>\n",
       "      <td>5.000</td>\n",
       "      <td>5.0</td>\n",
       "    </tr>\n",
       "    <tr>\n",
       "      <th>bollywoood</th>\n",
       "      <th>action</th>\n",
       "      <td>1.0</td>\n",
       "      <td>120.000000</td>\n",
       "      <td>NaN</td>\n",
       "      <td>120.0</td>\n",
       "      <td>120.0</td>\n",
       "      <td>120.0</td>\n",
       "      <td>120.0</td>\n",
       "      <td>120.0</td>\n",
       "      <td>1.0</td>\n",
       "      <td>10.000000</td>\n",
       "      <td>NaN</td>\n",
       "      <td>10.0</td>\n",
       "      <td>10.000</td>\n",
       "      <td>10.00</td>\n",
       "      <td>10.000</td>\n",
       "      <td>10.0</td>\n",
       "    </tr>\n",
       "    <tr>\n",
       "      <th rowspan=\"4\" valign=\"top\">hollywood</th>\n",
       "      <th>action</th>\n",
       "      <td>1.0</td>\n",
       "      <td>210.000000</td>\n",
       "      <td>NaN</td>\n",
       "      <td>210.0</td>\n",
       "      <td>210.0</td>\n",
       "      <td>210.0</td>\n",
       "      <td>210.0</td>\n",
       "      <td>210.0</td>\n",
       "      <td>1.0</td>\n",
       "      <td>9.000000</td>\n",
       "      <td>NaN</td>\n",
       "      <td>9.0</td>\n",
       "      <td>9.000</td>\n",
       "      <td>9.00</td>\n",
       "      <td>9.000</td>\n",
       "      <td>9.0</td>\n",
       "    </tr>\n",
       "    <tr>\n",
       "      <th>comedy</th>\n",
       "      <td>1.0</td>\n",
       "      <td>120.000000</td>\n",
       "      <td>NaN</td>\n",
       "      <td>120.0</td>\n",
       "      <td>120.0</td>\n",
       "      <td>120.0</td>\n",
       "      <td>120.0</td>\n",
       "      <td>120.0</td>\n",
       "      <td>1.0</td>\n",
       "      <td>7.000000</td>\n",
       "      <td>NaN</td>\n",
       "      <td>7.0</td>\n",
       "      <td>7.000</td>\n",
       "      <td>7.00</td>\n",
       "      <td>7.000</td>\n",
       "      <td>7.0</td>\n",
       "    </tr>\n",
       "    <tr>\n",
       "      <th>drama</th>\n",
       "      <td>1.0</td>\n",
       "      <td>180.000000</td>\n",
       "      <td>NaN</td>\n",
       "      <td>180.0</td>\n",
       "      <td>180.0</td>\n",
       "      <td>180.0</td>\n",
       "      <td>180.0</td>\n",
       "      <td>180.0</td>\n",
       "      <td>1.0</td>\n",
       "      <td>9.000000</td>\n",
       "      <td>NaN</td>\n",
       "      <td>9.0</td>\n",
       "      <td>9.000</td>\n",
       "      <td>9.00</td>\n",
       "      <td>9.000</td>\n",
       "      <td>9.0</td>\n",
       "    </tr>\n",
       "    <tr>\n",
       "      <th>sci fi</th>\n",
       "      <td>3.0</td>\n",
       "      <td>156.666667</td>\n",
       "      <td>30.550505</td>\n",
       "      <td>130.0</td>\n",
       "      <td>140.0</td>\n",
       "      <td>150.0</td>\n",
       "      <td>170.0</td>\n",
       "      <td>190.0</td>\n",
       "      <td>3.0</td>\n",
       "      <td>7.166667</td>\n",
       "      <td>1.258306</td>\n",
       "      <td>6.0</td>\n",
       "      <td>6.500</td>\n",
       "      <td>7.00</td>\n",
       "      <td>7.750</td>\n",
       "      <td>8.5</td>\n",
       "    </tr>\n",
       "    <tr>\n",
       "      <th>tollywood</th>\n",
       "      <th>action</th>\n",
       "      <td>1.0</td>\n",
       "      <td>170.000000</td>\n",
       "      <td>NaN</td>\n",
       "      <td>170.0</td>\n",
       "      <td>170.0</td>\n",
       "      <td>170.0</td>\n",
       "      <td>170.0</td>\n",
       "      <td>170.0</td>\n",
       "      <td>1.0</td>\n",
       "      <td>9.500000</td>\n",
       "      <td>NaN</td>\n",
       "      <td>9.5</td>\n",
       "      <td>9.500</td>\n",
       "      <td>9.50</td>\n",
       "      <td>9.500</td>\n",
       "      <td>9.5</td>\n",
       "    </tr>\n",
       "  </tbody>\n",
       "</table>\n",
       "</div>"
      ],
      "text/plain": [
       "                      duration                                              \\\n",
       "                         count        mean        std    min    25%    50%   \n",
       "industry   genre                                                             \n",
       "bollywood  action          1.0  140.000000        NaN  140.0  140.0  140.0   \n",
       "           comedy          2.0   75.000000  91.923882   10.0   42.5   75.0   \n",
       "           drama           2.0  150.000000   0.000000  150.0  150.0  150.0   \n",
       "           mysterious      1.0  180.000000        NaN  180.0  180.0  180.0   \n",
       "           romantic        1.0  150.000000        NaN  150.0  150.0  150.0   \n",
       "bollywoood action          1.0  120.000000        NaN  120.0  120.0  120.0   \n",
       "hollywood  action          1.0  210.000000        NaN  210.0  210.0  210.0   \n",
       "           comedy          1.0  120.000000        NaN  120.0  120.0  120.0   \n",
       "           drama           1.0  180.000000        NaN  180.0  180.0  180.0   \n",
       "           sci fi          3.0  156.666667  30.550505  130.0  140.0  150.0   \n",
       "tollywood  action          1.0  170.000000        NaN  170.0  170.0  170.0   \n",
       "\n",
       "                                    rating                                     \\\n",
       "                         75%    max  count       mean       std   min     25%   \n",
       "industry   genre                                                                \n",
       "bollywood  action      140.0  140.0    1.0   8.000000       NaN   8.0   8.000   \n",
       "           comedy      107.5  140.0    2.0   7.500000  2.121320   6.0   6.750   \n",
       "           drama       150.0  150.0    2.0   9.250000  1.060660   8.5   8.875   \n",
       "           mysterious  180.0  180.0    1.0   5.000000       NaN   5.0   5.000   \n",
       "           romantic    150.0  150.0    1.0   5.000000       NaN   5.0   5.000   \n",
       "bollywoood action      120.0  120.0    1.0  10.000000       NaN  10.0  10.000   \n",
       "hollywood  action      210.0  210.0    1.0   9.000000       NaN   9.0   9.000   \n",
       "           comedy      120.0  120.0    1.0   7.000000       NaN   7.0   7.000   \n",
       "           drama       180.0  180.0    1.0   9.000000       NaN   9.0   9.000   \n",
       "           sci fi      170.0  190.0    3.0   7.166667  1.258306   6.0   6.500   \n",
       "tollywood  action      170.0  170.0    1.0   9.500000       NaN   9.5   9.500   \n",
       "\n",
       "                                            \n",
       "                         50%     75%   max  \n",
       "industry   genre                            \n",
       "bollywood  action       8.00   8.000   8.0  \n",
       "           comedy       7.50   8.250   9.0  \n",
       "           drama        9.25   9.625  10.0  \n",
       "           mysterious   5.00   5.000   5.0  \n",
       "           romantic     5.00   5.000   5.0  \n",
       "bollywoood action      10.00  10.000  10.0  \n",
       "hollywood  action       9.00   9.000   9.0  \n",
       "           comedy       7.00   7.000   7.0  \n",
       "           drama        9.00   9.000   9.0  \n",
       "           sci fi       7.00   7.750   8.5  \n",
       "tollywood  action       9.50   9.500   9.5  "
      ]
     },
     "execution_count": 70,
     "metadata": {},
     "output_type": "execute_result"
    }
   ],
   "source": [
    "movies.groupby(['industry','genre']).describe()"
   ]
  },
  {
   "cell_type": "markdown",
   "id": "90fff571-2aaf-4d85-b56f-7e33913e0d40",
   "metadata": {},
   "source": [
    "# what is the average rating of each industry"
   ]
  },
  {
   "cell_type": "code",
   "execution_count": 71,
   "id": "9743346d-5c67-4e15-b299-f335d5c5654f",
   "metadata": {},
   "outputs": [
    {
     "data": {
      "text/plain": [
       "industry\n",
       "bollywood      7.357143\n",
       "bollywoood    10.000000\n",
       "hollywood      7.750000\n",
       "tollywood      9.500000\n",
       "Name: rating, dtype: float64"
      ]
     },
     "execution_count": 71,
     "metadata": {},
     "output_type": "execute_result"
    }
   ],
   "source": [
    "movies.groupby('industry')['rating'].mean()"
   ]
  },
  {
   "cell_type": "markdown",
   "id": "99c8a7b1-3785-4546-913a-4e2cf1539bbc",
   "metadata": {},
   "source": [
    "# average rating of romantic movies industry wise"
   ]
  },
  {
   "cell_type": "code",
   "execution_count": 72,
   "id": "6f5a07fe-3bc2-4a03-985c-67a3d820030a",
   "metadata": {},
   "outputs": [
    {
     "data": {
      "text/plain": [
       "industry\n",
       "bollywood    5.0\n",
       "Name: rating, dtype: float64"
      ]
     },
     "execution_count": 72,
     "metadata": {},
     "output_type": "execute_result"
    }
   ],
   "source": [
    "movies[movies['genre'].str.lower()=='romantic'].groupby('industry')['rating'].mean()"
   ]
  },
  {
   "cell_type": "markdown",
   "id": "a5cd2aed-ea09-4a13-baac-f4fe51665e44",
   "metadata": {},
   "source": [
    "# list down all the english movies with their respective ratings in descending order"
   ]
  },
  {
   "cell_type": "code",
   "execution_count": 73,
   "id": "2cf4adb7-2983-4807-b47d-af25633969f7",
   "metadata": {},
   "outputs": [
    {
     "data": {
      "text/html": [
       "<div>\n",
       "<style scoped>\n",
       "    .dataframe tbody tr th:only-of-type {\n",
       "        vertical-align: middle;\n",
       "    }\n",
       "\n",
       "    .dataframe tbody tr th {\n",
       "        vertical-align: top;\n",
       "    }\n",
       "\n",
       "    .dataframe thead th {\n",
       "        text-align: right;\n",
       "    }\n",
       "</style>\n",
       "<table border=\"1\" class=\"dataframe\">\n",
       "  <thead>\n",
       "    <tr style=\"text-align: right;\">\n",
       "      <th></th>\n",
       "      <th>name</th>\n",
       "      <th>rating</th>\n",
       "    </tr>\n",
       "    <tr>\n",
       "      <th>id</th>\n",
       "      <th></th>\n",
       "      <th></th>\n",
       "    </tr>\n",
       "  </thead>\n",
       "  <tbody>\n",
       "    <tr>\n",
       "      <th>5</th>\n",
       "      <td>avengers</td>\n",
       "      <td>9.0</td>\n",
       "    </tr>\n",
       "    <tr>\n",
       "      <th>6</th>\n",
       "      <td>tenet</td>\n",
       "      <td>8.5</td>\n",
       "    </tr>\n",
       "    <tr>\n",
       "      <th>8</th>\n",
       "      <td>interstellar</td>\n",
       "      <td>7.0</td>\n",
       "    </tr>\n",
       "    <tr>\n",
       "      <th>9</th>\n",
       "      <td>gravity</td>\n",
       "      <td>6.0</td>\n",
       "    </tr>\n",
       "    <tr>\n",
       "      <th>10</th>\n",
       "      <td>titanic</td>\n",
       "      <td>9.0</td>\n",
       "    </tr>\n",
       "    <tr>\n",
       "      <th>13</th>\n",
       "      <td>dictator</td>\n",
       "      <td>7.0</td>\n",
       "    </tr>\n",
       "  </tbody>\n",
       "</table>\n",
       "</div>"
      ],
      "text/plain": [
       "            name  rating\n",
       "id                      \n",
       "5       avengers     9.0\n",
       "6          tenet     8.5\n",
       "8   interstellar     7.0\n",
       "9        gravity     6.0\n",
       "10       titanic     9.0\n",
       "13      dictator     7.0"
      ]
     },
     "execution_count": 73,
     "metadata": {},
     "output_type": "execute_result"
    }
   ],
   "source": [
    "movies[movies['language'].str.lower()=='english'][['name','rating']]"
   ]
  },
  {
   "cell_type": "code",
   "execution_count": 74,
   "id": "24b725b5-a53a-41b4-8528-065fb80512ba",
   "metadata": {},
   "outputs": [
    {
     "data": {
      "text/html": [
       "<div>\n",
       "<style scoped>\n",
       "    .dataframe tbody tr th:only-of-type {\n",
       "        vertical-align: middle;\n",
       "    }\n",
       "\n",
       "    .dataframe tbody tr th {\n",
       "        vertical-align: top;\n",
       "    }\n",
       "\n",
       "    .dataframe thead th {\n",
       "        text-align: right;\n",
       "    }\n",
       "</style>\n",
       "<table border=\"1\" class=\"dataframe\">\n",
       "  <thead>\n",
       "    <tr style=\"text-align: right;\">\n",
       "      <th></th>\n",
       "      <th>name</th>\n",
       "      <th>rating</th>\n",
       "    </tr>\n",
       "    <tr>\n",
       "      <th>id</th>\n",
       "      <th></th>\n",
       "      <th></th>\n",
       "    </tr>\n",
       "  </thead>\n",
       "  <tbody>\n",
       "    <tr>\n",
       "      <th>9</th>\n",
       "      <td>gravity</td>\n",
       "      <td>6.0</td>\n",
       "    </tr>\n",
       "    <tr>\n",
       "      <th>8</th>\n",
       "      <td>interstellar</td>\n",
       "      <td>7.0</td>\n",
       "    </tr>\n",
       "    <tr>\n",
       "      <th>13</th>\n",
       "      <td>dictator</td>\n",
       "      <td>7.0</td>\n",
       "    </tr>\n",
       "    <tr>\n",
       "      <th>6</th>\n",
       "      <td>tenet</td>\n",
       "      <td>8.5</td>\n",
       "    </tr>\n",
       "    <tr>\n",
       "      <th>5</th>\n",
       "      <td>avengers</td>\n",
       "      <td>9.0</td>\n",
       "    </tr>\n",
       "    <tr>\n",
       "      <th>10</th>\n",
       "      <td>titanic</td>\n",
       "      <td>9.0</td>\n",
       "    </tr>\n",
       "  </tbody>\n",
       "</table>\n",
       "</div>"
      ],
      "text/plain": [
       "            name  rating\n",
       "id                      \n",
       "9        gravity     6.0\n",
       "8   interstellar     7.0\n",
       "13      dictator     7.0\n",
       "6          tenet     8.5\n",
       "5       avengers     9.0\n",
       "10       titanic     9.0"
      ]
     },
     "execution_count": 74,
     "metadata": {},
     "output_type": "execute_result"
    }
   ],
   "source": [
    "movies[movies['language'].str.lower()=='english'][['name','rating']].sort_values(by='rating')"
   ]
  },
  {
   "cell_type": "code",
   "execution_count": 75,
   "id": "43273447-2cdc-4eeb-b13d-c205dc8e9522",
   "metadata": {},
   "outputs": [
    {
     "data": {
      "text/html": [
       "<div>\n",
       "<style scoped>\n",
       "    .dataframe tbody tr th:only-of-type {\n",
       "        vertical-align: middle;\n",
       "    }\n",
       "\n",
       "    .dataframe tbody tr th {\n",
       "        vertical-align: top;\n",
       "    }\n",
       "\n",
       "    .dataframe thead th {\n",
       "        text-align: right;\n",
       "    }\n",
       "</style>\n",
       "<table border=\"1\" class=\"dataframe\">\n",
       "  <thead>\n",
       "    <tr style=\"text-align: right;\">\n",
       "      <th></th>\n",
       "      <th>name</th>\n",
       "      <th>rating</th>\n",
       "    </tr>\n",
       "    <tr>\n",
       "      <th>id</th>\n",
       "      <th></th>\n",
       "      <th></th>\n",
       "    </tr>\n",
       "  </thead>\n",
       "  <tbody>\n",
       "    <tr>\n",
       "      <th>5</th>\n",
       "      <td>avengers</td>\n",
       "      <td>9.0</td>\n",
       "    </tr>\n",
       "    <tr>\n",
       "      <th>10</th>\n",
       "      <td>titanic</td>\n",
       "      <td>9.0</td>\n",
       "    </tr>\n",
       "    <tr>\n",
       "      <th>6</th>\n",
       "      <td>tenet</td>\n",
       "      <td>8.5</td>\n",
       "    </tr>\n",
       "    <tr>\n",
       "      <th>8</th>\n",
       "      <td>interstellar</td>\n",
       "      <td>7.0</td>\n",
       "    </tr>\n",
       "    <tr>\n",
       "      <th>13</th>\n",
       "      <td>dictator</td>\n",
       "      <td>7.0</td>\n",
       "    </tr>\n",
       "    <tr>\n",
       "      <th>9</th>\n",
       "      <td>gravity</td>\n",
       "      <td>6.0</td>\n",
       "    </tr>\n",
       "  </tbody>\n",
       "</table>\n",
       "</div>"
      ],
      "text/plain": [
       "            name  rating\n",
       "id                      \n",
       "5       avengers     9.0\n",
       "10       titanic     9.0\n",
       "6          tenet     8.5\n",
       "8   interstellar     7.0\n",
       "13      dictator     7.0\n",
       "9        gravity     6.0"
      ]
     },
     "execution_count": 75,
     "metadata": {},
     "output_type": "execute_result"
    }
   ],
   "source": [
    "movies[movies['language'].str.lower()=='english'][['name','rating']].sort_values(by='rating',ascending=False)"
   ]
  },
  {
   "cell_type": "code",
   "execution_count": 77,
   "id": "b9c43e45-bb6e-4e13-9d2b-8ad3b2cffd0f",
   "metadata": {},
   "outputs": [],
   "source": [
    "import numpy as np\n",
    "import pandas as pd"
   ]
  },
  {
   "cell_type": "code",
   "execution_count": 80,
   "id": "62105d9b-6d82-4200-9145-3347f49a9305",
   "metadata": {},
   "outputs": [],
   "source": [
    "data={'country':['india','usa','japan','china','india','usa'],'year':['2102','2010','2010','2015','2015','2015'],\n",
    "      'continent':['asia','na','asia','asia','asia','na'],\n",
    "      'value':[20,10,40,50,60,55]\n",
    "     }"
   ]
  },
  {
   "cell_type": "code",
   "execution_count": 78,
   "id": "1692690b-9296-4e03-8283-5721f46d06f0",
   "metadata": {},
   "outputs": [],
   "source": [
    "df = pd.DataFrame(data)"
   ]
  },
  {
   "cell_type": "code",
   "execution_count": 79,
   "id": "4e8da33d-7405-4cf0-baff-7a6168cc3639",
   "metadata": {},
   "outputs": [
    {
     "data": {
      "text/html": [
       "<div>\n",
       "<style scoped>\n",
       "    .dataframe tbody tr th:only-of-type {\n",
       "        vertical-align: middle;\n",
       "    }\n",
       "\n",
       "    .dataframe tbody tr th {\n",
       "        vertical-align: top;\n",
       "    }\n",
       "\n",
       "    .dataframe thead th {\n",
       "        text-align: right;\n",
       "    }\n",
       "</style>\n",
       "<table border=\"1\" class=\"dataframe\">\n",
       "  <thead>\n",
       "    <tr style=\"text-align: right;\">\n",
       "      <th></th>\n",
       "      <th>country</th>\n",
       "      <th>year</th>\n",
       "      <th>continent</th>\n",
       "      <th>value</th>\n",
       "    </tr>\n",
       "  </thead>\n",
       "  <tbody>\n",
       "    <tr>\n",
       "      <th>0</th>\n",
       "      <td>india</td>\n",
       "      <td>2102</td>\n",
       "      <td>asia</td>\n",
       "      <td>20</td>\n",
       "    </tr>\n",
       "    <tr>\n",
       "      <th>1</th>\n",
       "      <td>usa</td>\n",
       "      <td>2010</td>\n",
       "      <td>na</td>\n",
       "      <td>10</td>\n",
       "    </tr>\n",
       "    <tr>\n",
       "      <th>2</th>\n",
       "      <td>japan</td>\n",
       "      <td>2010</td>\n",
       "      <td>asia</td>\n",
       "      <td>40</td>\n",
       "    </tr>\n",
       "    <tr>\n",
       "      <th>3</th>\n",
       "      <td>china</td>\n",
       "      <td>2015</td>\n",
       "      <td>asia</td>\n",
       "      <td>50</td>\n",
       "    </tr>\n",
       "    <tr>\n",
       "      <th>4</th>\n",
       "      <td>india</td>\n",
       "      <td>2015</td>\n",
       "      <td>asia</td>\n",
       "      <td>60</td>\n",
       "    </tr>\n",
       "    <tr>\n",
       "      <th>5</th>\n",
       "      <td>usa</td>\n",
       "      <td>2015</td>\n",
       "      <td>na</td>\n",
       "      <td>55</td>\n",
       "    </tr>\n",
       "  </tbody>\n",
       "</table>\n",
       "</div>"
      ],
      "text/plain": [
       "  country  year continent  value\n",
       "0   india  2102      asia     20\n",
       "1     usa  2010        na     10\n",
       "2   japan  2010      asia     40\n",
       "3   china  2015      asia     50\n",
       "4   india  2015      asia     60\n",
       "5     usa  2015        na     55"
      ]
     },
     "execution_count": 79,
     "metadata": {},
     "output_type": "execute_result"
    }
   ],
   "source": [
    "df"
   ]
  },
  {
   "cell_type": "code",
   "execution_count": 85,
   "id": "2e4b4373-d973-47a1-b42d-5282b4c08314",
   "metadata": {},
   "outputs": [
    {
     "data": {
      "text/html": [
       "<div>\n",
       "<style scoped>\n",
       "    .dataframe tbody tr th:only-of-type {\n",
       "        vertical-align: middle;\n",
       "    }\n",
       "\n",
       "    .dataframe tbody tr th {\n",
       "        vertical-align: top;\n",
       "    }\n",
       "\n",
       "    .dataframe thead th {\n",
       "        text-align: right;\n",
       "    }\n",
       "</style>\n",
       "<table border=\"1\" class=\"dataframe\">\n",
       "  <thead>\n",
       "    <tr style=\"text-align: right;\">\n",
       "      <th></th>\n",
       "      <th>value</th>\n",
       "    </tr>\n",
       "    <tr>\n",
       "      <th>year</th>\n",
       "      <th></th>\n",
       "    </tr>\n",
       "  </thead>\n",
       "  <tbody>\n",
       "    <tr>\n",
       "      <th>2010</th>\n",
       "      <td>50</td>\n",
       "    </tr>\n",
       "    <tr>\n",
       "      <th>2015</th>\n",
       "      <td>165</td>\n",
       "    </tr>\n",
       "    <tr>\n",
       "      <th>2102</th>\n",
       "      <td>20</td>\n",
       "    </tr>\n",
       "  </tbody>\n",
       "</table>\n",
       "</div>"
      ],
      "text/plain": [
       "      value\n",
       "year       \n",
       "2010     50\n",
       "2015    165\n",
       "2102     20"
      ]
     },
     "execution_count": 85,
     "metadata": {},
     "output_type": "execute_result"
    }
   ],
   "source": [
    "pd.pivot_table(df,index=['year'],aggfunc='sum')"
   ]
  },
  {
   "cell_type": "code",
   "execution_count": 83,
   "id": "85da6514-10fc-4063-8996-b43b9e3c85cd",
   "metadata": {},
   "outputs": [
    {
     "data": {
      "text/html": [
       "<div>\n",
       "<style scoped>\n",
       "    .dataframe tbody tr th:only-of-type {\n",
       "        vertical-align: middle;\n",
       "    }\n",
       "\n",
       "    .dataframe tbody tr th {\n",
       "        vertical-align: top;\n",
       "    }\n",
       "\n",
       "    .dataframe thead th {\n",
       "        text-align: right;\n",
       "    }\n",
       "</style>\n",
       "<table border=\"1\" class=\"dataframe\">\n",
       "  <thead>\n",
       "    <tr style=\"text-align: right;\">\n",
       "      <th></th>\n",
       "      <th>value</th>\n",
       "    </tr>\n",
       "    <tr>\n",
       "      <th>continent</th>\n",
       "      <th></th>\n",
       "    </tr>\n",
       "  </thead>\n",
       "  <tbody>\n",
       "    <tr>\n",
       "      <th>asia</th>\n",
       "      <td>170</td>\n",
       "    </tr>\n",
       "    <tr>\n",
       "      <th>na</th>\n",
       "      <td>65</td>\n",
       "    </tr>\n",
       "  </tbody>\n",
       "</table>\n",
       "</div>"
      ],
      "text/plain": [
       "           value\n",
       "continent       \n",
       "asia         170\n",
       "na            65"
      ]
     },
     "execution_count": 83,
     "metadata": {},
     "output_type": "execute_result"
    }
   ],
   "source": [
    "pd.pivot_table(df,index=['continent'],aggfunc='sum')"
   ]
  },
  {
   "cell_type": "markdown",
   "id": "2c7f3f22-394b-4a60-bdd9-9811d1d8a5ba",
   "metadata": {
    "tags": []
   },
   "source": [
    "# concat"
   ]
  },
  {
   "cell_type": "code",
   "execution_count": 87,
   "id": "18f6b415-906b-49aa-9056-65d0f9c06c2e",
   "metadata": {},
   "outputs": [],
   "source": [
    "people1={'id':[1,2,3,4],\n",
    "         'name':['ab','rf','kl','ed'],\n",
    "         'age':[45,25,41,30]\n",
    "        }"
   ]
  },
  {
   "cell_type": "code",
   "execution_count": 88,
   "id": "b3289315-bc17-477e-bb2b-e8327ffecf1d",
   "metadata": {},
   "outputs": [],
   "source": [
    "people2={'id':[11,22,33,44],\n",
    "         'name':['awb','rgf','kal','ejqd'],\n",
    "         'age':[35,15,40,35]\n",
    "        }"
   ]
  },
  {
   "cell_type": "code",
   "execution_count": 91,
   "id": "e57ac362-88d5-4c5d-ad68-2878d6dc9f18",
   "metadata": {},
   "outputs": [],
   "source": [
    "people3={'id':[111,222,333,444],\n",
    "         'name':['oab','rnf','kal','ecd'],\n",
    "         'age':[55,75,81,50]\n",
    "        }"
   ]
  },
  {
   "cell_type": "code",
   "execution_count": 92,
   "id": "bb64ae17-060a-4b00-98f7-64fca6e40a1f",
   "metadata": {},
   "outputs": [],
   "source": [
    "df1=pd.DataFrame(people1)\n",
    "df2=pd.DataFrame(people2)\n",
    "df3=pd.DataFrame(people3)\n",
    "\n"
   ]
  },
  {
   "cell_type": "code",
   "execution_count": 93,
   "id": "8964dbdd-2bfc-4e31-a6f0-92a4d5293c8f",
   "metadata": {},
   "outputs": [
    {
     "data": {
      "text/html": [
       "<div>\n",
       "<style scoped>\n",
       "    .dataframe tbody tr th:only-of-type {\n",
       "        vertical-align: middle;\n",
       "    }\n",
       "\n",
       "    .dataframe tbody tr th {\n",
       "        vertical-align: top;\n",
       "    }\n",
       "\n",
       "    .dataframe thead th {\n",
       "        text-align: right;\n",
       "    }\n",
       "</style>\n",
       "<table border=\"1\" class=\"dataframe\">\n",
       "  <thead>\n",
       "    <tr style=\"text-align: right;\">\n",
       "      <th></th>\n",
       "      <th>id</th>\n",
       "      <th>name</th>\n",
       "      <th>age</th>\n",
       "    </tr>\n",
       "  </thead>\n",
       "  <tbody>\n",
       "    <tr>\n",
       "      <th>0</th>\n",
       "      <td>111</td>\n",
       "      <td>oab</td>\n",
       "      <td>55</td>\n",
       "    </tr>\n",
       "    <tr>\n",
       "      <th>1</th>\n",
       "      <td>222</td>\n",
       "      <td>rnf</td>\n",
       "      <td>75</td>\n",
       "    </tr>\n",
       "    <tr>\n",
       "      <th>2</th>\n",
       "      <td>333</td>\n",
       "      <td>kal</td>\n",
       "      <td>81</td>\n",
       "    </tr>\n",
       "    <tr>\n",
       "      <th>3</th>\n",
       "      <td>444</td>\n",
       "      <td>ecd</td>\n",
       "      <td>50</td>\n",
       "    </tr>\n",
       "  </tbody>\n",
       "</table>\n",
       "</div>"
      ],
      "text/plain": [
       "    id name  age\n",
       "0  111  oab   55\n",
       "1  222  rnf   75\n",
       "2  333  kal   81\n",
       "3  444  ecd   50"
      ]
     },
     "execution_count": 93,
     "metadata": {},
     "output_type": "execute_result"
    }
   ],
   "source": [
    "df1"
   ]
  },
  {
   "cell_type": "code",
   "execution_count": 94,
   "id": "c40162d2-c25b-4624-af6c-a67f3bc390fa",
   "metadata": {},
   "outputs": [
    {
     "data": {
      "text/html": [
       "<div>\n",
       "<style scoped>\n",
       "    .dataframe tbody tr th:only-of-type {\n",
       "        vertical-align: middle;\n",
       "    }\n",
       "\n",
       "    .dataframe tbody tr th {\n",
       "        vertical-align: top;\n",
       "    }\n",
       "\n",
       "    .dataframe thead th {\n",
       "        text-align: right;\n",
       "    }\n",
       "</style>\n",
       "<table border=\"1\" class=\"dataframe\">\n",
       "  <thead>\n",
       "    <tr style=\"text-align: right;\">\n",
       "      <th></th>\n",
       "      <th>id</th>\n",
       "      <th>name</th>\n",
       "      <th>age</th>\n",
       "    </tr>\n",
       "  </thead>\n",
       "  <tbody>\n",
       "    <tr>\n",
       "      <th>0</th>\n",
       "      <td>11</td>\n",
       "      <td>awb</td>\n",
       "      <td>35</td>\n",
       "    </tr>\n",
       "    <tr>\n",
       "      <th>1</th>\n",
       "      <td>22</td>\n",
       "      <td>rgf</td>\n",
       "      <td>15</td>\n",
       "    </tr>\n",
       "    <tr>\n",
       "      <th>2</th>\n",
       "      <td>33</td>\n",
       "      <td>kal</td>\n",
       "      <td>40</td>\n",
       "    </tr>\n",
       "    <tr>\n",
       "      <th>3</th>\n",
       "      <td>44</td>\n",
       "      <td>ejqd</td>\n",
       "      <td>35</td>\n",
       "    </tr>\n",
       "  </tbody>\n",
       "</table>\n",
       "</div>"
      ],
      "text/plain": [
       "   id  name  age\n",
       "0  11   awb   35\n",
       "1  22   rgf   15\n",
       "2  33   kal   40\n",
       "3  44  ejqd   35"
      ]
     },
     "execution_count": 94,
     "metadata": {},
     "output_type": "execute_result"
    }
   ],
   "source": [
    "df2"
   ]
  },
  {
   "cell_type": "code",
   "execution_count": 95,
   "id": "5cd0d040-025c-4ed8-8037-2361c8f2d783",
   "metadata": {},
   "outputs": [
    {
     "data": {
      "text/html": [
       "<div>\n",
       "<style scoped>\n",
       "    .dataframe tbody tr th:only-of-type {\n",
       "        vertical-align: middle;\n",
       "    }\n",
       "\n",
       "    .dataframe tbody tr th {\n",
       "        vertical-align: top;\n",
       "    }\n",
       "\n",
       "    .dataframe thead th {\n",
       "        text-align: right;\n",
       "    }\n",
       "</style>\n",
       "<table border=\"1\" class=\"dataframe\">\n",
       "  <thead>\n",
       "    <tr style=\"text-align: right;\">\n",
       "      <th></th>\n",
       "      <th>id</th>\n",
       "      <th>name</th>\n",
       "      <th>age</th>\n",
       "    </tr>\n",
       "  </thead>\n",
       "  <tbody>\n",
       "    <tr>\n",
       "      <th>0</th>\n",
       "      <td>111</td>\n",
       "      <td>oab</td>\n",
       "      <td>55</td>\n",
       "    </tr>\n",
       "    <tr>\n",
       "      <th>1</th>\n",
       "      <td>222</td>\n",
       "      <td>rnf</td>\n",
       "      <td>75</td>\n",
       "    </tr>\n",
       "    <tr>\n",
       "      <th>2</th>\n",
       "      <td>333</td>\n",
       "      <td>kal</td>\n",
       "      <td>81</td>\n",
       "    </tr>\n",
       "    <tr>\n",
       "      <th>3</th>\n",
       "      <td>444</td>\n",
       "      <td>ecd</td>\n",
       "      <td>50</td>\n",
       "    </tr>\n",
       "  </tbody>\n",
       "</table>\n",
       "</div>"
      ],
      "text/plain": [
       "    id name  age\n",
       "0  111  oab   55\n",
       "1  222  rnf   75\n",
       "2  333  kal   81\n",
       "3  444  ecd   50"
      ]
     },
     "execution_count": 95,
     "metadata": {},
     "output_type": "execute_result"
    }
   ],
   "source": [
    "df3"
   ]
  },
  {
   "cell_type": "code",
   "execution_count": 96,
   "id": "bddff6ff-174b-40d1-ace9-c24c087a360c",
   "metadata": {},
   "outputs": [
    {
     "data": {
      "text/html": [
       "<div>\n",
       "<style scoped>\n",
       "    .dataframe tbody tr th:only-of-type {\n",
       "        vertical-align: middle;\n",
       "    }\n",
       "\n",
       "    .dataframe tbody tr th {\n",
       "        vertical-align: top;\n",
       "    }\n",
       "\n",
       "    .dataframe thead th {\n",
       "        text-align: right;\n",
       "    }\n",
       "</style>\n",
       "<table border=\"1\" class=\"dataframe\">\n",
       "  <thead>\n",
       "    <tr style=\"text-align: right;\">\n",
       "      <th></th>\n",
       "      <th>id</th>\n",
       "      <th>name</th>\n",
       "      <th>age</th>\n",
       "    </tr>\n",
       "  </thead>\n",
       "  <tbody>\n",
       "    <tr>\n",
       "      <th>0</th>\n",
       "      <td>111</td>\n",
       "      <td>oab</td>\n",
       "      <td>55</td>\n",
       "    </tr>\n",
       "    <tr>\n",
       "      <th>1</th>\n",
       "      <td>222</td>\n",
       "      <td>rnf</td>\n",
       "      <td>75</td>\n",
       "    </tr>\n",
       "    <tr>\n",
       "      <th>2</th>\n",
       "      <td>333</td>\n",
       "      <td>kal</td>\n",
       "      <td>81</td>\n",
       "    </tr>\n",
       "    <tr>\n",
       "      <th>3</th>\n",
       "      <td>444</td>\n",
       "      <td>ecd</td>\n",
       "      <td>50</td>\n",
       "    </tr>\n",
       "    <tr>\n",
       "      <th>0</th>\n",
       "      <td>11</td>\n",
       "      <td>awb</td>\n",
       "      <td>35</td>\n",
       "    </tr>\n",
       "    <tr>\n",
       "      <th>1</th>\n",
       "      <td>22</td>\n",
       "      <td>rgf</td>\n",
       "      <td>15</td>\n",
       "    </tr>\n",
       "    <tr>\n",
       "      <th>2</th>\n",
       "      <td>33</td>\n",
       "      <td>kal</td>\n",
       "      <td>40</td>\n",
       "    </tr>\n",
       "    <tr>\n",
       "      <th>3</th>\n",
       "      <td>44</td>\n",
       "      <td>ejqd</td>\n",
       "      <td>35</td>\n",
       "    </tr>\n",
       "    <tr>\n",
       "      <th>0</th>\n",
       "      <td>111</td>\n",
       "      <td>oab</td>\n",
       "      <td>55</td>\n",
       "    </tr>\n",
       "    <tr>\n",
       "      <th>1</th>\n",
       "      <td>222</td>\n",
       "      <td>rnf</td>\n",
       "      <td>75</td>\n",
       "    </tr>\n",
       "    <tr>\n",
       "      <th>2</th>\n",
       "      <td>333</td>\n",
       "      <td>kal</td>\n",
       "      <td>81</td>\n",
       "    </tr>\n",
       "    <tr>\n",
       "      <th>3</th>\n",
       "      <td>444</td>\n",
       "      <td>ecd</td>\n",
       "      <td>50</td>\n",
       "    </tr>\n",
       "  </tbody>\n",
       "</table>\n",
       "</div>"
      ],
      "text/plain": [
       "    id  name  age\n",
       "0  111   oab   55\n",
       "1  222   rnf   75\n",
       "2  333   kal   81\n",
       "3  444   ecd   50\n",
       "0   11   awb   35\n",
       "1   22   rgf   15\n",
       "2   33   kal   40\n",
       "3   44  ejqd   35\n",
       "0  111   oab   55\n",
       "1  222   rnf   75\n",
       "2  333   kal   81\n",
       "3  444   ecd   50"
      ]
     },
     "execution_count": 96,
     "metadata": {},
     "output_type": "execute_result"
    }
   ],
   "source": [
    "pd.concat([df1,df2,df3])"
   ]
  },
  {
   "cell_type": "code",
   "execution_count": 97,
   "id": "318527b9-acb3-489c-ae0c-d01d5024ecb6",
   "metadata": {},
   "outputs": [
    {
     "data": {
      "text/html": [
       "<div>\n",
       "<style scoped>\n",
       "    .dataframe tbody tr th:only-of-type {\n",
       "        vertical-align: middle;\n",
       "    }\n",
       "\n",
       "    .dataframe tbody tr th {\n",
       "        vertical-align: top;\n",
       "    }\n",
       "\n",
       "    .dataframe thead th {\n",
       "        text-align: right;\n",
       "    }\n",
       "</style>\n",
       "<table border=\"1\" class=\"dataframe\">\n",
       "  <thead>\n",
       "    <tr style=\"text-align: right;\">\n",
       "      <th></th>\n",
       "      <th>id</th>\n",
       "      <th>name</th>\n",
       "      <th>age</th>\n",
       "    </tr>\n",
       "  </thead>\n",
       "  <tbody>\n",
       "    <tr>\n",
       "      <th>0</th>\n",
       "      <td>111</td>\n",
       "      <td>oab</td>\n",
       "      <td>55</td>\n",
       "    </tr>\n",
       "    <tr>\n",
       "      <th>1</th>\n",
       "      <td>222</td>\n",
       "      <td>rnf</td>\n",
       "      <td>75</td>\n",
       "    </tr>\n",
       "    <tr>\n",
       "      <th>2</th>\n",
       "      <td>333</td>\n",
       "      <td>kal</td>\n",
       "      <td>81</td>\n",
       "    </tr>\n",
       "    <tr>\n",
       "      <th>3</th>\n",
       "      <td>444</td>\n",
       "      <td>ecd</td>\n",
       "      <td>50</td>\n",
       "    </tr>\n",
       "    <tr>\n",
       "      <th>4</th>\n",
       "      <td>11</td>\n",
       "      <td>awb</td>\n",
       "      <td>35</td>\n",
       "    </tr>\n",
       "    <tr>\n",
       "      <th>5</th>\n",
       "      <td>22</td>\n",
       "      <td>rgf</td>\n",
       "      <td>15</td>\n",
       "    </tr>\n",
       "    <tr>\n",
       "      <th>6</th>\n",
       "      <td>33</td>\n",
       "      <td>kal</td>\n",
       "      <td>40</td>\n",
       "    </tr>\n",
       "    <tr>\n",
       "      <th>7</th>\n",
       "      <td>44</td>\n",
       "      <td>ejqd</td>\n",
       "      <td>35</td>\n",
       "    </tr>\n",
       "    <tr>\n",
       "      <th>8</th>\n",
       "      <td>111</td>\n",
       "      <td>oab</td>\n",
       "      <td>55</td>\n",
       "    </tr>\n",
       "    <tr>\n",
       "      <th>9</th>\n",
       "      <td>222</td>\n",
       "      <td>rnf</td>\n",
       "      <td>75</td>\n",
       "    </tr>\n",
       "    <tr>\n",
       "      <th>10</th>\n",
       "      <td>333</td>\n",
       "      <td>kal</td>\n",
       "      <td>81</td>\n",
       "    </tr>\n",
       "    <tr>\n",
       "      <th>11</th>\n",
       "      <td>444</td>\n",
       "      <td>ecd</td>\n",
       "      <td>50</td>\n",
       "    </tr>\n",
       "  </tbody>\n",
       "</table>\n",
       "</div>"
      ],
      "text/plain": [
       "     id  name  age\n",
       "0   111   oab   55\n",
       "1   222   rnf   75\n",
       "2   333   kal   81\n",
       "3   444   ecd   50\n",
       "4    11   awb   35\n",
       "5    22   rgf   15\n",
       "6    33   kal   40\n",
       "7    44  ejqd   35\n",
       "8   111   oab   55\n",
       "9   222   rnf   75\n",
       "10  333   kal   81\n",
       "11  444   ecd   50"
      ]
     },
     "execution_count": 97,
     "metadata": {},
     "output_type": "execute_result"
    }
   ],
   "source": [
    "pd.concat([df1,df2,df3],ignore_index=True)"
   ]
  },
  {
   "cell_type": "code",
   "execution_count": 98,
   "id": "88672853-1126-4fb9-a90b-3e3befa34c03",
   "metadata": {},
   "outputs": [
    {
     "data": {
      "text/html": [
       "<div>\n",
       "<style scoped>\n",
       "    .dataframe tbody tr th:only-of-type {\n",
       "        vertical-align: middle;\n",
       "    }\n",
       "\n",
       "    .dataframe tbody tr th {\n",
       "        vertical-align: top;\n",
       "    }\n",
       "\n",
       "    .dataframe thead th {\n",
       "        text-align: right;\n",
       "    }\n",
       "</style>\n",
       "<table border=\"1\" class=\"dataframe\">\n",
       "  <thead>\n",
       "    <tr style=\"text-align: right;\">\n",
       "      <th></th>\n",
       "      <th>id</th>\n",
       "      <th>name</th>\n",
       "      <th>age</th>\n",
       "      <th>id</th>\n",
       "      <th>name</th>\n",
       "      <th>age</th>\n",
       "      <th>id</th>\n",
       "      <th>name</th>\n",
       "      <th>age</th>\n",
       "    </tr>\n",
       "  </thead>\n",
       "  <tbody>\n",
       "    <tr>\n",
       "      <th>0</th>\n",
       "      <td>111</td>\n",
       "      <td>oab</td>\n",
       "      <td>55</td>\n",
       "      <td>11</td>\n",
       "      <td>awb</td>\n",
       "      <td>35</td>\n",
       "      <td>111</td>\n",
       "      <td>oab</td>\n",
       "      <td>55</td>\n",
       "    </tr>\n",
       "    <tr>\n",
       "      <th>1</th>\n",
       "      <td>222</td>\n",
       "      <td>rnf</td>\n",
       "      <td>75</td>\n",
       "      <td>22</td>\n",
       "      <td>rgf</td>\n",
       "      <td>15</td>\n",
       "      <td>222</td>\n",
       "      <td>rnf</td>\n",
       "      <td>75</td>\n",
       "    </tr>\n",
       "    <tr>\n",
       "      <th>2</th>\n",
       "      <td>333</td>\n",
       "      <td>kal</td>\n",
       "      <td>81</td>\n",
       "      <td>33</td>\n",
       "      <td>kal</td>\n",
       "      <td>40</td>\n",
       "      <td>333</td>\n",
       "      <td>kal</td>\n",
       "      <td>81</td>\n",
       "    </tr>\n",
       "    <tr>\n",
       "      <th>3</th>\n",
       "      <td>444</td>\n",
       "      <td>ecd</td>\n",
       "      <td>50</td>\n",
       "      <td>44</td>\n",
       "      <td>ejqd</td>\n",
       "      <td>35</td>\n",
       "      <td>444</td>\n",
       "      <td>ecd</td>\n",
       "      <td>50</td>\n",
       "    </tr>\n",
       "  </tbody>\n",
       "</table>\n",
       "</div>"
      ],
      "text/plain": [
       "    id name  age  id  name  age   id name  age\n",
       "0  111  oab   55  11   awb   35  111  oab   55\n",
       "1  222  rnf   75  22   rgf   15  222  rnf   75\n",
       "2  333  kal   81  33   kal   40  333  kal   81\n",
       "3  444  ecd   50  44  ejqd   35  444  ecd   50"
      ]
     },
     "execution_count": 98,
     "metadata": {},
     "output_type": "execute_result"
    }
   ],
   "source": [
    "pd.concat([df1,df2,df3],axis=1)"
   ]
  },
  {
   "cell_type": "code",
   "execution_count": 99,
   "id": "d1cd5be3-01e3-456d-ac2a-248a12f980d2",
   "metadata": {},
   "outputs": [],
   "source": [
    "people4={'id':[1,2,3,4],\n",
    "         'name':['ab','rf','kl','ed'],\n",
    "         'age':[45,25,41,30]\n",
    "        }\n",
    "people5={'id':[1,2,3,4],\n",
    "         'name':['ab','rf','kl','ed'],\n",
    "         'sales':[535,415,540,235]\n",
    "        }"
   ]
  },
  {
   "cell_type": "code",
   "execution_count": 100,
   "id": "b1b28882-63fe-4b5a-bac6-1f2eb400cc96",
   "metadata": {},
   "outputs": [],
   "source": [
    "\n",
    "df4=pd.DataFrame(people4)\n",
    "\n",
    "df5=pd.DataFrame(people5)"
   ]
  },
  {
   "cell_type": "code",
   "execution_count": 101,
   "id": "4fc860ca-c38b-4791-a86c-604805abfa3e",
   "metadata": {},
   "outputs": [
    {
     "data": {
      "text/html": [
       "<div>\n",
       "<style scoped>\n",
       "    .dataframe tbody tr th:only-of-type {\n",
       "        vertical-align: middle;\n",
       "    }\n",
       "\n",
       "    .dataframe tbody tr th {\n",
       "        vertical-align: top;\n",
       "    }\n",
       "\n",
       "    .dataframe thead th {\n",
       "        text-align: right;\n",
       "    }\n",
       "</style>\n",
       "<table border=\"1\" class=\"dataframe\">\n",
       "  <thead>\n",
       "    <tr style=\"text-align: right;\">\n",
       "      <th></th>\n",
       "      <th>id</th>\n",
       "      <th>name</th>\n",
       "      <th>age</th>\n",
       "      <th>sales</th>\n",
       "    </tr>\n",
       "  </thead>\n",
       "  <tbody>\n",
       "    <tr>\n",
       "      <th>0</th>\n",
       "      <td>1</td>\n",
       "      <td>ab</td>\n",
       "      <td>45</td>\n",
       "      <td>535</td>\n",
       "    </tr>\n",
       "    <tr>\n",
       "      <th>1</th>\n",
       "      <td>2</td>\n",
       "      <td>rf</td>\n",
       "      <td>25</td>\n",
       "      <td>415</td>\n",
       "    </tr>\n",
       "    <tr>\n",
       "      <th>2</th>\n",
       "      <td>3</td>\n",
       "      <td>kl</td>\n",
       "      <td>41</td>\n",
       "      <td>540</td>\n",
       "    </tr>\n",
       "    <tr>\n",
       "      <th>3</th>\n",
       "      <td>4</td>\n",
       "      <td>ed</td>\n",
       "      <td>30</td>\n",
       "      <td>235</td>\n",
       "    </tr>\n",
       "  </tbody>\n",
       "</table>\n",
       "</div>"
      ],
      "text/plain": [
       "   id name  age  sales\n",
       "0   1   ab   45    535\n",
       "1   2   rf   25    415\n",
       "2   3   kl   41    540\n",
       "3   4   ed   30    235"
      ]
     },
     "execution_count": 101,
     "metadata": {},
     "output_type": "execute_result"
    }
   ],
   "source": [
    "pd.merge(df4,df5,on=['id','name'])"
   ]
  },
  {
   "cell_type": "code",
   "execution_count": 102,
   "id": "78edc5be-7974-430e-99ea-d6a4adf0bd5e",
   "metadata": {},
   "outputs": [],
   "source": [
    "people6={'id':[1,2,3,4],\n",
    "         'name':['ab','rf','kl','ed'],\n",
    "         'age':[45,25,41,30]\n",
    "        }\n",
    "people7={\n",
    "         's_name':['b','r','l','d'],\n",
    "         'phone':[1255535,555555415,222222540,466656235]\n",
    "        }\n"
   ]
  },
  {
   "cell_type": "code",
   "execution_count": 103,
   "id": "c145b99f-80db-4873-80ff-f0c580fdfde0",
   "metadata": {},
   "outputs": [],
   "source": [
    "df6=pd.DataFrame(people6)\n",
    "df7=pd.DataFrame(people7)"
   ]
  },
  {
   "cell_type": "code",
   "execution_count": 104,
   "id": "21811dd9-cc3b-401e-a2fd-52ef08af4684",
   "metadata": {},
   "outputs": [
    {
     "data": {
      "text/html": [
       "<div>\n",
       "<style scoped>\n",
       "    .dataframe tbody tr th:only-of-type {\n",
       "        vertical-align: middle;\n",
       "    }\n",
       "\n",
       "    .dataframe tbody tr th {\n",
       "        vertical-align: top;\n",
       "    }\n",
       "\n",
       "    .dataframe thead th {\n",
       "        text-align: right;\n",
       "    }\n",
       "</style>\n",
       "<table border=\"1\" class=\"dataframe\">\n",
       "  <thead>\n",
       "    <tr style=\"text-align: right;\">\n",
       "      <th></th>\n",
       "      <th>id</th>\n",
       "      <th>name</th>\n",
       "      <th>age</th>\n",
       "      <th>s_name</th>\n",
       "      <th>phone</th>\n",
       "    </tr>\n",
       "  </thead>\n",
       "  <tbody>\n",
       "    <tr>\n",
       "      <th>0</th>\n",
       "      <td>1</td>\n",
       "      <td>ab</td>\n",
       "      <td>45</td>\n",
       "      <td>b</td>\n",
       "      <td>1255535</td>\n",
       "    </tr>\n",
       "    <tr>\n",
       "      <th>1</th>\n",
       "      <td>2</td>\n",
       "      <td>rf</td>\n",
       "      <td>25</td>\n",
       "      <td>r</td>\n",
       "      <td>555555415</td>\n",
       "    </tr>\n",
       "    <tr>\n",
       "      <th>2</th>\n",
       "      <td>3</td>\n",
       "      <td>kl</td>\n",
       "      <td>41</td>\n",
       "      <td>l</td>\n",
       "      <td>222222540</td>\n",
       "    </tr>\n",
       "    <tr>\n",
       "      <th>3</th>\n",
       "      <td>4</td>\n",
       "      <td>ed</td>\n",
       "      <td>30</td>\n",
       "      <td>d</td>\n",
       "      <td>466656235</td>\n",
       "    </tr>\n",
       "  </tbody>\n",
       "</table>\n",
       "</div>"
      ],
      "text/plain": [
       "   id name  age s_name      phone\n",
       "0   1   ab   45      b    1255535\n",
       "1   2   rf   25      r  555555415\n",
       "2   3   kl   41      l  222222540\n",
       "3   4   ed   30      d  466656235"
      ]
     },
     "execution_count": 104,
     "metadata": {},
     "output_type": "execute_result"
    }
   ],
   "source": [
    "df6.join(df7)"
   ]
  },
  {
   "cell_type": "code",
   "execution_count": 107,
   "id": "7d8b26fe-2ef8-45eb-95de-fad6038d723c",
   "metadata": {},
   "outputs": [
    {
     "data": {
      "text/html": [
       "<div>\n",
       "<style scoped>\n",
       "    .dataframe tbody tr th:only-of-type {\n",
       "        vertical-align: middle;\n",
       "    }\n",
       "\n",
       "    .dataframe tbody tr th {\n",
       "        vertical-align: top;\n",
       "    }\n",
       "\n",
       "    .dataframe thead th {\n",
       "        text-align: right;\n",
       "    }\n",
       "</style>\n",
       "<table border=\"1\" class=\"dataframe\">\n",
       "  <thead>\n",
       "    <tr style=\"text-align: right;\">\n",
       "      <th></th>\n",
       "      <th>name\\t\\tage\\troll</th>\n",
       "    </tr>\n",
       "  </thead>\n",
       "  <tbody>\n",
       "    <tr>\n",
       "      <th>0</th>\n",
       "      <td>'akash'\\t\\t21\\t100</td>\n",
       "    </tr>\n",
       "    <tr>\n",
       "      <th>1</th>\n",
       "      <td>'akasht'\\t22\\t101</td>\n",
       "    </tr>\n",
       "    <tr>\n",
       "      <th>2</th>\n",
       "      <td>'sunny'\\t\\t20\\t102</td>\n",
       "    </tr>\n",
       "    <tr>\n",
       "      <th>3</th>\n",
       "      <td>'bunny'\\t\\t25\\t104</td>\n",
       "    </tr>\n",
       "    <tr>\n",
       "      <th>4</th>\n",
       "      <td>'ashis'\\t\\t24\\t105</td>\n",
       "    </tr>\n",
       "  </tbody>\n",
       "</table>\n",
       "</div>"
      ],
      "text/plain": [
       "    name\\t\\tage\\troll\n",
       "0  'akash'\\t\\t21\\t100\n",
       "1   'akasht'\\t22\\t101\n",
       "2  'sunny'\\t\\t20\\t102\n",
       "3  'bunny'\\t\\t25\\t104\n",
       "4  'ashis'\\t\\t24\\t105"
      ]
     },
     "execution_count": 107,
     "metadata": {},
     "output_type": "execute_result"
    }
   ],
   "source": [
    "d1=pd.read_csv('mytsv.tsv')\n",
    "d1"
   ]
  },
  {
   "cell_type": "code",
   "execution_count": 114,
   "id": "24784f1a-1a8f-4800-9e90-6a2005e9490a",
   "metadata": {},
   "outputs": [
    {
     "data": {
      "text/html": [
       "<div>\n",
       "<style scoped>\n",
       "    .dataframe tbody tr th:only-of-type {\n",
       "        vertical-align: middle;\n",
       "    }\n",
       "\n",
       "    .dataframe tbody tr th {\n",
       "        vertical-align: top;\n",
       "    }\n",
       "\n",
       "    .dataframe thead th {\n",
       "        text-align: right;\n",
       "    }\n",
       "</style>\n",
       "<table border=\"1\" class=\"dataframe\">\n",
       "  <thead>\n",
       "    <tr style=\"text-align: right;\">\n",
       "      <th></th>\n",
       "      <th>name</th>\n",
       "      <th>Unnamed: 1</th>\n",
       "      <th>age</th>\n",
       "      <th>roll</th>\n",
       "    </tr>\n",
       "  </thead>\n",
       "  <tbody>\n",
       "    <tr>\n",
       "      <th>0</th>\n",
       "      <td>'akash'</td>\n",
       "      <td>NaN</td>\n",
       "      <td>21</td>\n",
       "      <td>100.0</td>\n",
       "    </tr>\n",
       "    <tr>\n",
       "      <th>1</th>\n",
       "      <td>'akasht'</td>\n",
       "      <td>22.0</td>\n",
       "      <td>101</td>\n",
       "      <td>NaN</td>\n",
       "    </tr>\n",
       "    <tr>\n",
       "      <th>2</th>\n",
       "      <td>'sunny'</td>\n",
       "      <td>NaN</td>\n",
       "      <td>20</td>\n",
       "      <td>102.0</td>\n",
       "    </tr>\n",
       "    <tr>\n",
       "      <th>3</th>\n",
       "      <td>'bunny'</td>\n",
       "      <td>NaN</td>\n",
       "      <td>25</td>\n",
       "      <td>104.0</td>\n",
       "    </tr>\n",
       "    <tr>\n",
       "      <th>4</th>\n",
       "      <td>'ashis'</td>\n",
       "      <td>NaN</td>\n",
       "      <td>24</td>\n",
       "      <td>105.0</td>\n",
       "    </tr>\n",
       "  </tbody>\n",
       "</table>\n",
       "</div>"
      ],
      "text/plain": [
       "       name  Unnamed: 1  age   roll\n",
       "0   'akash'         NaN   21  100.0\n",
       "1  'akasht'        22.0  101    NaN\n",
       "2   'sunny'         NaN   20  102.0\n",
       "3   'bunny'         NaN   25  104.0\n",
       "4   'ashis'         NaN   24  105.0"
      ]
     },
     "execution_count": 114,
     "metadata": {},
     "output_type": "execute_result"
    }
   ],
   "source": [
    "d1=pd.read_csv('mytsv.tsv',sep='\\t')\n",
    "d1"
   ]
  },
  {
   "cell_type": "code",
   "execution_count": 119,
   "id": "25833748-8520-49a4-9746-5f5f7ef3e6b3",
   "metadata": {},
   "outputs": [
    {
     "data": {
      "text/html": [
       "<div>\n",
       "<style scoped>\n",
       "    .dataframe tbody tr th:only-of-type {\n",
       "        vertical-align: middle;\n",
       "    }\n",
       "\n",
       "    .dataframe tbody tr th {\n",
       "        vertical-align: top;\n",
       "    }\n",
       "\n",
       "    .dataframe thead th {\n",
       "        text-align: right;\n",
       "    }\n",
       "</style>\n",
       "<table border=\"1\" class=\"dataframe\">\n",
       "  <thead>\n",
       "    <tr style=\"text-align: right;\">\n",
       "      <th></th>\n",
       "      <th>name</th>\n",
       "      <th>age</th>\n",
       "      <th>roll</th>\n",
       "    </tr>\n",
       "  </thead>\n",
       "  <tbody>\n",
       "    <tr>\n",
       "      <th>0</th>\n",
       "      <td>'akash'</td>\n",
       "      <td>21</td>\n",
       "      <td>100</td>\n",
       "    </tr>\n",
       "    <tr>\n",
       "      <th>1</th>\n",
       "      <td>'akasht'</td>\n",
       "      <td>22</td>\n",
       "      <td>101</td>\n",
       "    </tr>\n",
       "    <tr>\n",
       "      <th>2</th>\n",
       "      <td>'sunny'</td>\n",
       "      <td>20</td>\n",
       "      <td>102</td>\n",
       "    </tr>\n",
       "    <tr>\n",
       "      <th>3</th>\n",
       "      <td>'bunny'</td>\n",
       "      <td>25</td>\n",
       "      <td>104</td>\n",
       "    </tr>\n",
       "    <tr>\n",
       "      <th>4</th>\n",
       "      <td>'ashis'</td>\n",
       "      <td>24</td>\n",
       "      <td>105</td>\n",
       "    </tr>\n",
       "  </tbody>\n",
       "</table>\n",
       "</div>"
      ],
      "text/plain": [
       "       name  age  roll\n",
       "0   'akash'   21   100\n",
       "1  'akasht'   22   101\n",
       "2   'sunny'   20   102\n",
       "3   'bunny'   25   104\n",
       "4   'ashis'   24   105"
      ]
     },
     "execution_count": 119,
     "metadata": {},
     "output_type": "execute_result"
    }
   ],
   "source": [
    "d2=pd.read_csv('mysemi.txt.txt',sep=';')\n",
    "d2"
   ]
  },
  {
   "cell_type": "markdown",
   "id": "2bcdce9c-c249-45d2-91e2-42df85c786f6",
   "metadata": {},
   "source": [
    "# creating a jason file"
   ]
  },
  {
   "cell_type": "code",
   "execution_count": 120,
   "id": "4a21b021-31ea-4ea6-93f6-631215bf0e51",
   "metadata": {},
   "outputs": [
    {
     "data": {
      "text/html": [
       "<div>\n",
       "<style scoped>\n",
       "    .dataframe tbody tr th:only-of-type {\n",
       "        vertical-align: middle;\n",
       "    }\n",
       "\n",
       "    .dataframe tbody tr th {\n",
       "        vertical-align: top;\n",
       "    }\n",
       "\n",
       "    .dataframe thead th {\n",
       "        text-align: right;\n",
       "    }\n",
       "</style>\n",
       "<table border=\"1\" class=\"dataframe\">\n",
       "  <thead>\n",
       "    <tr style=\"text-align: right;\">\n",
       "      <th></th>\n",
       "      <th>id</th>\n",
       "      <th>name</th>\n",
       "      <th>age</th>\n",
       "    </tr>\n",
       "  </thead>\n",
       "  <tbody>\n",
       "    <tr>\n",
       "      <th>0</th>\n",
       "      <td>1</td>\n",
       "      <td>ab</td>\n",
       "      <td>45</td>\n",
       "    </tr>\n",
       "    <tr>\n",
       "      <th>1</th>\n",
       "      <td>2</td>\n",
       "      <td>rf</td>\n",
       "      <td>25</td>\n",
       "    </tr>\n",
       "    <tr>\n",
       "      <th>2</th>\n",
       "      <td>3</td>\n",
       "      <td>kl</td>\n",
       "      <td>41</td>\n",
       "    </tr>\n",
       "    <tr>\n",
       "      <th>3</th>\n",
       "      <td>4</td>\n",
       "      <td>ed</td>\n",
       "      <td>30</td>\n",
       "    </tr>\n",
       "  </tbody>\n",
       "</table>\n",
       "</div>"
      ],
      "text/plain": [
       "   id name  age\n",
       "0   1   ab   45\n",
       "1   2   rf   25\n",
       "2   3   kl   41\n",
       "3   4   ed   30"
      ]
     },
     "execution_count": 120,
     "metadata": {},
     "output_type": "execute_result"
    }
   ],
   "source": [
    "df6"
   ]
  },
  {
   "cell_type": "code",
   "execution_count": 122,
   "id": "3f540971-fdb1-4473-8931-02f798645063",
   "metadata": {},
   "outputs": [],
   "source": [
    "df6.to_json('myjson.json')"
   ]
  },
  {
   "cell_type": "code",
   "execution_count": 123,
   "id": "d6304d9d-5cad-48a5-8fa3-f4ac14299306",
   "metadata": {},
   "outputs": [],
   "source": [
    "d4=pd.read_json('myjson.json')"
   ]
  },
  {
   "cell_type": "code",
   "execution_count": 124,
   "id": "7839f01a-05e8-469b-b89a-de19d1f23947",
   "metadata": {},
   "outputs": [
    {
     "data": {
      "text/html": [
       "<div>\n",
       "<style scoped>\n",
       "    .dataframe tbody tr th:only-of-type {\n",
       "        vertical-align: middle;\n",
       "    }\n",
       "\n",
       "    .dataframe tbody tr th {\n",
       "        vertical-align: top;\n",
       "    }\n",
       "\n",
       "    .dataframe thead th {\n",
       "        text-align: right;\n",
       "    }\n",
       "</style>\n",
       "<table border=\"1\" class=\"dataframe\">\n",
       "  <thead>\n",
       "    <tr style=\"text-align: right;\">\n",
       "      <th></th>\n",
       "      <th>id</th>\n",
       "      <th>name</th>\n",
       "      <th>age</th>\n",
       "    </tr>\n",
       "  </thead>\n",
       "  <tbody>\n",
       "    <tr>\n",
       "      <th>0</th>\n",
       "      <td>1</td>\n",
       "      <td>ab</td>\n",
       "      <td>45</td>\n",
       "    </tr>\n",
       "    <tr>\n",
       "      <th>1</th>\n",
       "      <td>2</td>\n",
       "      <td>rf</td>\n",
       "      <td>25</td>\n",
       "    </tr>\n",
       "    <tr>\n",
       "      <th>2</th>\n",
       "      <td>3</td>\n",
       "      <td>kl</td>\n",
       "      <td>41</td>\n",
       "    </tr>\n",
       "    <tr>\n",
       "      <th>3</th>\n",
       "      <td>4</td>\n",
       "      <td>ed</td>\n",
       "      <td>30</td>\n",
       "    </tr>\n",
       "  </tbody>\n",
       "</table>\n",
       "</div>"
      ],
      "text/plain": [
       "   id name  age\n",
       "0   1   ab   45\n",
       "1   2   rf   25\n",
       "2   3   kl   41\n",
       "3   4   ed   30"
      ]
     },
     "execution_count": 124,
     "metadata": {},
     "output_type": "execute_result"
    }
   ],
   "source": [
    "d4"
   ]
  },
  {
   "cell_type": "code",
   "execution_count": 125,
   "id": "7cd5a948-efac-46c3-a0a9-31edb977c20b",
   "metadata": {},
   "outputs": [
    {
     "data": {
      "text/html": [
       "<div>\n",
       "<style scoped>\n",
       "    .dataframe tbody tr th:only-of-type {\n",
       "        vertical-align: middle;\n",
       "    }\n",
       "\n",
       "    .dataframe tbody tr th {\n",
       "        vertical-align: top;\n",
       "    }\n",
       "\n",
       "    .dataframe thead th {\n",
       "        text-align: right;\n",
       "    }\n",
       "</style>\n",
       "<table border=\"1\" class=\"dataframe\">\n",
       "  <thead>\n",
       "    <tr style=\"text-align: right;\">\n",
       "      <th></th>\n",
       "      <th>id</th>\n",
       "      <th>name</th>\n",
       "      <th>sales</th>\n",
       "    </tr>\n",
       "  </thead>\n",
       "  <tbody>\n",
       "    <tr>\n",
       "      <th>0</th>\n",
       "      <td>1</td>\n",
       "      <td>ab</td>\n",
       "      <td>535</td>\n",
       "    </tr>\n",
       "    <tr>\n",
       "      <th>1</th>\n",
       "      <td>2</td>\n",
       "      <td>rf</td>\n",
       "      <td>415</td>\n",
       "    </tr>\n",
       "    <tr>\n",
       "      <th>2</th>\n",
       "      <td>3</td>\n",
       "      <td>kl</td>\n",
       "      <td>540</td>\n",
       "    </tr>\n",
       "    <tr>\n",
       "      <th>3</th>\n",
       "      <td>4</td>\n",
       "      <td>ed</td>\n",
       "      <td>235</td>\n",
       "    </tr>\n",
       "  </tbody>\n",
       "</table>\n",
       "</div>"
      ],
      "text/plain": [
       "   id name  sales\n",
       "0   1   ab    535\n",
       "1   2   rf    415\n",
       "2   3   kl    540\n",
       "3   4   ed    235"
      ]
     },
     "execution_count": 125,
     "metadata": {},
     "output_type": "execute_result"
    }
   ],
   "source": [
    "df5"
   ]
  },
  {
   "cell_type": "code",
   "execution_count": 127,
   "id": "f0865969-0bb6-4f90-b89e-d9b943b2949c",
   "metadata": {},
   "outputs": [],
   "source": [
    "df5.to_csv('mycsvv.csv')  # to create a file"
   ]
  },
  {
   "cell_type": "code",
   "execution_count": 128,
   "id": "fd83d12c-ebb1-4890-84a1-4f827be60932",
   "metadata": {},
   "outputs": [],
   "source": [
    "# import numpy as np\n",
    "# import pandas as pd"
   ]
  },
  {
   "cell_type": "code",
   "execution_count": 129,
   "id": "b265d0c4-3b76-4ae3-ab46-9b91e2ec9795",
   "metadata": {},
   "outputs": [],
   "source": [
    "# dfm=pd.read_csv('movies.csv')\n",
    "# dfr=pd.read_csv('ratings.csv')"
   ]
  },
  {
   "cell_type": "code",
   "execution_count": 130,
   "id": "8c9ec7c3-4591-4190-b749-2d01079a368e",
   "metadata": {},
   "outputs": [],
   "source": [
    "#dfm.tail()"
   ]
  },
  {
   "cell_type": "code",
   "execution_count": 131,
   "id": "368bbc8f-ea02-4db4-b8fb-584b3df22e68",
   "metadata": {},
   "outputs": [],
   "source": [
    "#dfm.head()"
   ]
  },
  {
   "cell_type": "code",
   "execution_count": 132,
   "id": "c97ddea9-0715-498b-944a-54446822bddf",
   "metadata": {},
   "outputs": [],
   "source": [
    "#dfm.info()"
   ]
  },
  {
   "cell_type": "code",
   "execution_count": 133,
   "id": "b3458282-9a21-4471-aa01-e890dc4a5470",
   "metadata": {},
   "outputs": [],
   "source": [
    "#dfm.describe()"
   ]
  },
  {
   "cell_type": "code",
   "execution_count": 134,
   "id": "00d6dc37-a592-4b8d-8447-fad1486fdf08",
   "metadata": {},
   "outputs": [],
   "source": [
    "#dfm.shape"
   ]
  },
  {
   "cell_type": "code",
   "execution_count": null,
   "id": "e5409bae-8e90-434d-98e4-4544c14a5fd0",
   "metadata": {},
   "outputs": [],
   "source": []
  }
 ],
 "metadata": {
  "kernelspec": {
   "display_name": "Python 3 (ipykernel)",
   "language": "python",
   "name": "python3"
  },
  "language_info": {
   "codemirror_mode": {
    "name": "ipython",
    "version": 3
   },
   "file_extension": ".py",
   "mimetype": "text/x-python",
   "name": "python",
   "nbconvert_exporter": "python",
   "pygments_lexer": "ipython3",
   "version": "3.9.12"
  }
 },
 "nbformat": 4,
 "nbformat_minor": 5
}
